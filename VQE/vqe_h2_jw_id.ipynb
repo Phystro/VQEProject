{
 "cells": [
  {
   "cell_type": "code",
   "execution_count": 1,
   "id": "f0403b7d-80c8-4edf-ba27-9e812a2c3281",
   "metadata": {},
   "outputs": [
    {
     "name": "stderr",
     "output_type": "stream",
     "text": [
      "<frozen importlib._bootstrap>:219: RuntimeWarning: scipy._lib.messagestream.MessageStream size changed, may indicate binary incompatibility. Expected 56 from C header, got 64 from PyObject\n"
     ]
    }
   ],
   "source": [
    "import numpy as np\n",
    "import pandas as pd\n",
    "import matplotlib.pyplot as plt\n",
    "from IPython.display import display, clear_output\n",
    "\n",
    "# Importing standard Qiskit libraries\n",
    "from qiskit import QuantumCircuit, transpile, IBMQ\n",
    "\n",
    "from qiskit.tools.jupyter import *\n",
    "\n",
    "from qiskit.visualization import *\n",
    "\n",
    "from ibm_quantum_widgets import *\n",
    "\n",
    "from qiskit.providers.aer import QasmSimulator, StatevectorSimulator\n",
    "\n",
    "from qiskit.utils import QuantumInstance\n",
    "\n",
    "from qiskit.circuit import Parameter\n",
    "\n",
    "# Storing results in a dictionary\n",
    "from qiskit.transpiler import PassManager\n",
    "# Unroller transpile our circuit into CNOTs and U gates\n",
    "from qiskit.transpiler.passes import Unroller\n",
    "\n",
    "# Loading your IBM Quantum account(s)\n",
    "provider = IBMQ.load_account()"
   ]
  },
  {
   "cell_type": "code",
   "execution_count": 2,
   "id": "ef034cbb-8773-4672-9023-bdffbaffd582",
   "metadata": {},
   "outputs": [],
   "source": [
    "# Chemistry Drivers\n",
    "from qiskit_nature.drivers.second_quantization.pyscfd import PySCFDriver\n",
    "from qiskit_nature.drivers import UnitsType\n",
    "\n",
    "from qiskit_nature.transformers.second_quantization.electronic import FreezeCoreTransformer\n",
    "\n",
    "from qiskit.opflow.primitive_ops import Z2Symmetries\n",
    "\n",
    "# Electroinic structure problem\n",
    "from qiskit_nature.problems.second_quantization.electronic import ElectronicStructureProblem\n",
    "\n",
    "# Qubit converter\n",
    "from qiskit_nature.converters.second_quantization.qubit_converter import QubitConverter\n",
    "\n",
    "# Mappers\n",
    "from qiskit_nature.mappers.second_quantization import ParityMapper, BravyiKitaevMapper, JordanWignerMapper\n",
    "\n",
    "# Initial state\n",
    "from qiskit_nature.circuit.library import HartreeFock, UCCSD\n",
    "\n",
    "# Variational form - circuit\n",
    "from qiskit.circuit.library import TwoLocal\n",
    "\n",
    "# Optimizer\n",
    "from qiskit.algorithms.optimizers import COBYLA, SLSQP, SPSA\n",
    "\n",
    "# Algorithms and Factories\n",
    "from qiskit_nature.algorithms import ExcitedStatesEigensolver, NumPyEigensolverFactory, VQEUCCFactory\n",
    "\n",
    "# Eigen Solvers\n",
    "# NumPy Minimum Eigen Solver\n",
    "from qiskit_nature.algorithms.ground_state_solvers.minimum_eigensolver_factories import NumPyMinimumEigensolverFactory\n",
    "# ground state\n",
    "from qiskit_nature.algorithms.ground_state_solvers import GroundStateEigensolver\n",
    "# VQE Solver\n",
    "from qiskit.algorithms import VQE"
   ]
  },
  {
   "cell_type": "code",
   "execution_count": 3,
   "id": "847bfb83-034a-4151-b513-6f5be41ef5d2",
   "metadata": {},
   "outputs": [],
   "source": [
    "state_sim = StatevectorSimulator()\n",
    "qasm_sim = QasmSimulator()\n",
    "\n",
    "backend = state_sim"
   ]
  },
  {
   "cell_type": "code",
   "execution_count": 4,
   "id": "aaa587f8-3841-473d-91e4-84267292f2d0",
   "metadata": {},
   "outputs": [],
   "source": [
    "inter_atomic_dists: list = np.arange(0.485, 1.335, 0.05)"
   ]
  },
  {
   "cell_type": "code",
   "execution_count": 5,
   "id": "73cf00d8-00b4-4c46-aaff-c83e6df6a98e",
   "metadata": {},
   "outputs": [
    {
     "name": "stdout",
     "output_type": "stream",
     "text": [
      "[0.485 0.535 0.585 0.635 0.685 0.735 0.785 0.835 0.885 0.935 0.985 1.035\n",
      " 1.085 1.135 1.185 1.235 1.285]\n"
     ]
    }
   ],
   "source": [
    "print(inter_atomic_dists)"
   ]
  },
  {
   "cell_type": "code",
   "execution_count": 6,
   "id": "79297b48-4cd3-40c9-ad77-95e46eb59a5d",
   "metadata": {},
   "outputs": [],
   "source": [
    "def exact_diagonalizer(es_problem, qubit_converter):\n",
    "    solver = NumPyMinimumEigensolverFactory()\n",
    "    calc = GroundStateEigensolver(qubit_converter, solver)\n",
    "    result = calc.solve(es_problem)\n",
    "    return result"
   ]
  },
  {
   "cell_type": "code",
   "execution_count": 7,
   "id": "ce533602-ffed-4bc2-9b9e-2122c9279830",
   "metadata": {},
   "outputs": [],
   "source": [
    "def get_mapper(mapper_str: str):\n",
    "    if mapper_str == \"jw\":\n",
    "        mapper = JordanWignerMapper()\n",
    "    elif mapper_str == \"pa\":\n",
    "        mapper = ParityMapper()\n",
    "    elif mapper_str == \"bk\":\n",
    "        mapper = BravyiKitaevMapper()\n",
    "        \n",
    "    return mapper"
   ]
  },
  {
   "cell_type": "code",
   "execution_count": 8,
   "id": "fc9f0f57-f498-4954-b008-120792be6f1e",
   "metadata": {},
   "outputs": [],
   "source": [
    "def initial_state_preparation(dist: float, mapper_str: str = \"jw\"):\n",
    "    \n",
    "    molecule = \"H 0.0 0.0 0.0; H 0.0 0.0 \" + str(dist)\n",
    "    driver = PySCFDriver(\n",
    "            atom=molecule,\n",
    "            unit = UnitsType.ANGSTROM,\n",
    "            # basis = \"sto3g\"\n",
    "    )\n",
    "    qmolecule = driver.run()\n",
    "    \n",
    "    transformer = FreezeCoreTransformer()\n",
    "    qmolecule = transformer.transform(qmolecule)\n",
    "    es_problem = ElectronicStructureProblem(driver)\n",
    "    \n",
    "    # generating second_quzntized operators\n",
    "    second_q_ops = es_problem.second_q_ops()\n",
    "    \n",
    "    # Hamiltonian\n",
    "    main_op = second_q_ops[0]\n",
    "    \n",
    "    # return tuple of number of particles if available\n",
    "    num_particles = es_problem.num_particles\n",
    "    # return the number of spin orbitals\n",
    "    num_spin_orbitals = es_problem.num_spin_orbitals\n",
    "    \n",
    "    mapper = get_mapper(mapper_str)\n",
    "    \n",
    "    qubit_converter = QubitConverter(mapper=mapper, two_qubit_reduction=True)#, z2symmetry_reduction=[1, 1])\n",
    "    \n",
    "    # Qubit Hamiltonian\n",
    "    qubit_op = qubit_converter.convert(main_op, num_particles=num_particles)\n",
    "    \n",
    "    return (qubit_op, num_particles, num_spin_orbitals, qubit_converter, es_problem)"
   ]
  },
  {
   "cell_type": "code",
   "execution_count": 9,
   "id": "639c73ca-a750-4126-85ee-1289808668ad",
   "metadata": {},
   "outputs": [],
   "source": [
    "def A_ansatz(qubit_op, init_state):\n",
    "    theta = Parameter(\"t\")\n",
    "    phi = Parameter(\"p\")\n",
    "\n",
    "    R = QuantumCircuit(1, name=\"$R(\\\\theta, \\phi)$\")\n",
    "    R.ry(theta + (0.5 * np.pi), 0)\n",
    "    R.rz(phi + np.pi, 0)\n",
    "\n",
    "    Rd = QuantumCircuit(1, name=\"$R(\\\\theta, \\phi)^\\dagger$\")\n",
    "    Rd.ry(theta + (0.5 * np.pi), 0).inverse()\n",
    "    Rd.rz(phi + np.pi, 0).inverse()\n",
    "\n",
    "    a_var_form = QuantumCircuit(2)#qubit_op.num_qubits)\n",
    "    a_var_form.cx(1, 0)\n",
    "    a_var_form.append(Rd, [1])\n",
    "    a_var_form.cx(0, 1)\n",
    "    a_var_form.append(R, [1])\n",
    "    a_var_form.cx(1, 0)\n",
    "\n",
    "    ansatz = TwoLocal(\n",
    "        num_qubits = qubit_op.num_qubits,\n",
    "        rotation_blocks = [ a_var_form ],\n",
    "        entanglement_blocks = [ a_var_form ],\n",
    "        entanglement = [[1, 2]],\n",
    "        reps=2,\n",
    "        skip_unentangled_qubits = False,\n",
    "        skip_final_rotation_layer = True,\n",
    "        # parameter_prefix = theta,\n",
    "        insert_barriers = False,\n",
    "        # initial_state = init_state,\n",
    "        name = \"$A(\\\\theta, \\phi)$\"\n",
    "    )\n",
    "\n",
    "    ansatz.compose(init_state, front=True, inplace=True)\n",
    "    return ansatz"
   ]
  },
  {
   "cell_type": "code",
   "execution_count": 10,
   "id": "8c837471-5d37-4c8e-975d-acce9591f80d",
   "metadata": {},
   "outputs": [],
   "source": [
    "def AT_ansatz(qubit_op, init_state):\n",
    "    theta = Parameter(\"t\")\n",
    "    phi = Parameter(\"p\")\n",
    "\n",
    "    R = QuantumCircuit(1, name=\"$R(\\\\theta, \\phi)$\")\n",
    "    R.ry(theta + (0.5 * np.pi), 0)\n",
    "    R.rz(0 + np.pi, 0)\n",
    "\n",
    "    Rd = QuantumCircuit(1, name=\"$R(\\\\theta, \\phi)^\\dagger$\")\n",
    "    Rd.ry(theta + (0.5 * np.pi), 0).inverse()\n",
    "    Rd.rz(0 + np.pi, 0).inverse()\n",
    "\n",
    "    a_var_form = QuantumCircuit(2)#qubit_op.num_qubits)\n",
    "    a_var_form.cx(1, 0)\n",
    "    a_var_form.append(Rd, [1])\n",
    "    a_var_form.cx(0, 1)\n",
    "    a_var_form.append(R, [1])\n",
    "    a_var_form.cx(1, 0)\n",
    "\n",
    "    ansatz = TwoLocal(\n",
    "        num_qubits = qubit_op.num_qubits,\n",
    "        rotation_blocks = [ a_var_form ],\n",
    "        entanglement_blocks = [ a_var_form ],\n",
    "        entanglement = [[1, 2]],\n",
    "        reps=2,\n",
    "        skip_unentangled_qubits = False,\n",
    "        skip_final_rotation_layer = True,\n",
    "        # parameter_prefix = theta,\n",
    "        insert_barriers = False,\n",
    "        # initial_state = init_state,\n",
    "        name = \"$A(\\\\theta, \\phi)$\"\n",
    "    )\n",
    "\n",
    "    ansatz.compose(init_state, front=True, inplace=True)\n",
    "    return ansatz"
   ]
  },
  {
   "cell_type": "markdown",
   "id": "ed3ba217-8162-4438-b7f4-75c93827b524",
   "metadata": {},
   "source": [
    "## Numpy"
   ]
  },
  {
   "cell_type": "code",
   "execution_count": 11,
   "id": "f35ed8c5-3d9c-47ff-ad8f-109bdeec3b67",
   "metadata": {},
   "outputs": [
    {
     "name": "stdout",
     "output_type": "stream",
     "text": [
      "Total Ground State Energies of H2 Molecule using NumPyMinimumEigensolver algorithm\n",
      "\n",
      "Interatomic dist: 0.4850 Å \t Electronic Ground Energy: -2.1316 Eh \tNuclear Repulsion Energy: 1.0911 Eh \tTotal Ground State Energy: -1.0405 Eh\n",
      "Interatomic dist: 0.5350 Å \t Electronic Ground Energy: -2.0722 Eh \tNuclear Repulsion Energy: 0.9891 Eh \tTotal Ground State Energy: -1.0830 Eh\n",
      "Interatomic dist: 0.5850 Å \t Electronic Ground Energy: -2.0150 Eh \tNuclear Repulsion Energy: 0.9046 Eh \tTotal Ground State Energy: -1.1104 Eh\n",
      "Interatomic dist: 0.6350 Å \t Electronic Ground Energy: -1.9600 Eh \tNuclear Repulsion Energy: 0.8333 Eh \tTotal Ground State Energy: -1.1267 Eh\n",
      "Interatomic dist: 0.6850 Å \t Electronic Ground Energy: -1.9075 Eh \tNuclear Repulsion Energy: 0.7725 Eh \tTotal Ground State Energy: -1.1349 Eh\n",
      "Interatomic dist: 0.7350 Å \t Electronic Ground Energy: -1.8573 Eh \tNuclear Repulsion Energy: 0.7200 Eh \tTotal Ground State Energy: -1.1373 Eh\n",
      "Interatomic dist: 0.7850 Å \t Electronic Ground Energy: -1.8095 Eh \tNuclear Repulsion Energy: 0.6741 Eh \tTotal Ground State Energy: -1.1354 Eh\n",
      "Interatomic dist: 0.8350 Å \t Electronic Ground Energy: -1.7641 Eh \tNuclear Repulsion Energy: 0.6337 Eh \tTotal Ground State Energy: -1.1303 Eh\n",
      "Interatomic dist: 0.8850 Å \t Electronic Ground Energy: -1.7210 Eh \tNuclear Repulsion Energy: 0.5979 Eh \tTotal Ground State Energy: -1.1231 Eh\n",
      "Interatomic dist: 0.9350 Å \t Electronic Ground Energy: -1.6802 Eh \tNuclear Repulsion Energy: 0.5660 Eh \tTotal Ground State Energy: -1.1142 Eh\n",
      "Interatomic dist: 0.9850 Å \t Electronic Ground Energy: -1.6415 Eh \tNuclear Repulsion Energy: 0.5372 Eh \tTotal Ground State Energy: -1.1043 Eh\n",
      "Interatomic dist: 1.0350 Å \t Electronic Ground Energy: -1.6049 Eh \tNuclear Repulsion Energy: 0.5113 Eh \tTotal Ground State Energy: -1.0936 Eh\n",
      "Interatomic dist: 1.0850 Å \t Electronic Ground Energy: -1.5703 Eh \tNuclear Repulsion Energy: 0.4877 Eh \tTotal Ground State Energy: -1.0826 Eh\n",
      "Interatomic dist: 1.1350 Å \t Electronic Ground Energy: -1.5375 Eh \tNuclear Repulsion Energy: 0.4662 Eh \tTotal Ground State Energy: -1.0713 Eh\n",
      "Interatomic dist: 1.1850 Å \t Electronic Ground Energy: -1.5066 Eh \tNuclear Repulsion Energy: 0.4466 Eh \tTotal Ground State Energy: -1.0601 Eh\n",
      "Interatomic dist: 1.2350 Å \t Electronic Ground Energy: -1.4775 Eh \tNuclear Repulsion Energy: 0.4285 Eh \tTotal Ground State Energy: -1.0490 Eh\n",
      "Interatomic dist: 1.2850 Å \t Electronic Ground Energy: -1.4501 Eh \tNuclear Repulsion Energy: 0.4118 Eh \tTotal Ground State Energy: -1.0383 Eh\n"
     ]
    }
   ],
   "source": [
    "numpy_eigensolver_electronic_ground_energies: list = []\n",
    "numpy_eigensolver_nuclear_repulsion_energies: list = []\n",
    "numpy_eigensolver_total_ground_state_energies: list = []\n",
    "\n",
    "from qiskit_nature.algorithms import ExcitedStatesEigensolver, NumPyEigensolverFactory\n",
    "\n",
    "print(\"Total Ground State Energies of H2 Molecule using NumPyMinimumEigensolver algorithm\\n\")\n",
    "\n",
    "for dist in inter_atomic_dists:\n",
    "    qubit_op, num_particles, num_spin_orbitals, qubit_converter, es_problem = initial_state_preparation(dist, \"jw\")\n",
    "    # construct NumPyEigensolver - solver algorithm\n",
    "    numpy_solver = NumPyEigensolverFactory(use_default_filter_criterion=True)\n",
    "    # calculate excited states using the NumPyEigensolver solver algorithm\n",
    "    numpy_excited_states_calculation = ExcitedStatesEigensolver(qubit_converter, numpy_solver)\n",
    "    # Compute Ground and Excited States properties.\n",
    "    numpy_ground_excited_states_properties = numpy_excited_states_calculation.solve(es_problem)\n",
    "    \n",
    "    # Get Repulsion energy from properties of ground and excited states\n",
    "    nuclear_repulsion_energy = numpy_ground_excited_states_properties.nuclear_repulsion_energy\n",
    "    numpy_eigensolver_nuclear_repulsion_energies.append(nuclear_repulsion_energy)\n",
    "    \n",
    "    # constructs NumPyMinimumEigensolver - solver algorithm\n",
    "    numpy_minimum_solver = NumPyMinimumEigensolverFactory()\n",
    "    # compute the ground state using a minimum eigensolver\n",
    "    numpy_ground_state_calculation = GroundStateEigensolver(qubit_converter, numpy_minimum_solver)\n",
    "    # Compute Ground state properties - returns an Eigenstate result\n",
    "    numpy_ground_state_properties = numpy_ground_state_calculation.solve(es_problem)\n",
    "    \n",
    "    # Get electronic ground state energies\n",
    "    electronic_ground_energy = np.real(numpy_ground_state_properties.eigenenergies[0])\n",
    "    numpy_eigensolver_electronic_ground_energies.append(electronic_ground_energy)\n",
    "    \n",
    "    # Get the total ground state energy\n",
    "    total_ground_state_energy = (electronic_ground_energy + nuclear_repulsion_energy)\n",
    "    numpy_eigensolver_total_ground_state_energies.append(total_ground_state_energy)\n",
    "    \n",
    "    print(\"Interatomic dist: {:.4f} Å \\t Electronic Ground Energy: {:.4f} Eh \\tNuclear Repulsion Energy: {:.4f} Eh \\tTotal Ground State Energy: {:.4f} Eh\".format(dist, electronic_ground_energy, nuclear_repulsion_energy, total_ground_state_energy))\n",
    "    # print(\"Interatomic dist: {:.4f} Å \\t Total Ground State Energy: {:.4f} Eh\".format(dist, total_ground_state_energy))"
   ]
  },
  {
   "cell_type": "markdown",
   "id": "8fe3f1da-c847-4350-8cda-7073cb3e4750",
   "metadata": {},
   "source": [
    "## UCCSD"
   ]
  },
  {
   "cell_type": "code",
   "execution_count": 12,
   "id": "21a92917-46bc-4326-b55d-6c081af689e5",
   "metadata": {},
   "outputs": [
    {
     "name": "stdout",
     "output_type": "stream",
     "text": [
      "=== GROUND STATE ENERGY ===\n",
      " \n",
      "* Electronic ground state energy (Hartree): -1.450131834853\n",
      "  - computed part:      -1.450131834853\n",
      "~ Nuclear repulsion energy (Hartree): 0.411811059082\n",
      "> Total ground state energy (Hartree): -1.038320775771\n",
      " \n",
      "=== MEASURED OBSERVABLES ===\n",
      " \n",
      "  0:  # Particles: 2.000 S: 0.000 S^2: 0.000 M: 0.000\n",
      " \n",
      "=== DIPOLE MOMENTS ===\n",
      " \n",
      "~ Nuclear dipole moment (a.u.): [0.0  0.0  2.42829807]\n",
      " \n",
      "  0: \n",
      "  * Electronic dipole moment (a.u.): [0.0  0.0  2.42827437]\n",
      "    - computed part:      [0.0  0.0  2.42827437]\n",
      "  > Dipole moment (a.u.): [0.0  0.0  0.0000237]  Total: 0.0000237\n",
      "                 (debye): [0.0  0.0  0.00006023]  Total: 0.00006023\n",
      " \n"
     ]
    }
   ],
   "source": [
    "uccsd_total_ground_state_energies: list = []\n",
    "\n",
    "from IPython.display import display, clear_output\n",
    "\n",
    "def callback(eval_count, parameters, mean, std):\n",
    "    # overwrites same line when printing\n",
    "    display(\"Evaluation: {},\\tEnergy: {},\\tStd: {}\".format(eval_count, mean, std))\n",
    "    clear_output(wait=True)\n",
    "    counts.append(eval_count)\n",
    "    values.append(mean)\n",
    "    params.append(parameters)\n",
    "    deviation.append(std)\n",
    "    \n",
    "counts = []\n",
    "values = []\n",
    "params = []\n",
    "deviation = []\n",
    "\n",
    "\n",
    "quantum_instance = QuantumInstance(backend)#Aer.get_backend(\"aer_simulator_statevector\"))\n",
    "optimizer = COBYLA(maxiter=10000)\n",
    "\n",
    "for dist in inter_atomic_dists:\n",
    "    qubit_op, num_particles, num_spin_orbitals, qubit_converter, es_problem = initial_state_preparation(dist, \"jw\")\n",
    "    \n",
    "    init_state = HartreeFock(num_spin_orbitals, num_particles, qubit_converter)\n",
    "    \n",
    "    ansatz_type = \"UCCSD\"\n",
    "\n",
    "    ansatz = UCCSD(\n",
    "        qubit_converter=qubit_converter,\n",
    "        num_particles=num_particles,\n",
    "        num_spin_orbitals=num_spin_orbitals,\n",
    "        reps=1,\n",
    "        initial_state=init_state,\n",
    "    )\n",
    "\n",
    "    ansatz.compose(init_state, front=True, inplace=True)\n",
    "\n",
    "    try:\n",
    "        initial_point = [0.01] * len(ansatz.ordered_parameters)\n",
    "    except:\n",
    "        initial_point = [0.01] * ansatz.num_parameters\n",
    "        \n",
    "    vqe_solver = VQEUCCFactory(\n",
    "        quantum_instance=quantum_instance,\n",
    "        optimizer=optimizer,\n",
    "        initial_point=initial_point,\n",
    "        ansatz=ansatz,\n",
    "        initial_state=init_state,\n",
    "        callback=callback\n",
    "    )\n",
    "\n",
    "    # result = vqe_solver.compute_minimum_eigenvalue(qubit_op)\n",
    "    calc = GroundStateEigensolver(qubit_converter, vqe_solver)\n",
    "    result = calc.solve(es_problem)\n",
    "    uccsd_total_ground_state_energies.append( result.total_energies[0] )\n",
    "    print(result)\n",
    "    "
   ]
  },
  {
   "cell_type": "markdown",
   "id": "08e2f9fa-1ad2-450e-a344-676b419c1c77",
   "metadata": {},
   "source": [
    "## RY"
   ]
  },
  {
   "cell_type": "code",
   "execution_count": 13,
   "id": "9954f89f-f201-4c65-a371-671522629c6a",
   "metadata": {},
   "outputs": [
    {
     "name": "stdout",
     "output_type": "stream",
     "text": [
      "{   'aux_operator_eigenvalues': None,\n",
      "    'cost_function_evals': 124,\n",
      "    'eigenstate': array([ 1.19301928e-06+0.j, -3.68378652e-05+0.j,  4.19479069e-06+0.j,\n",
      "        9.97481461e-01+0.j,  2.61386920e-04+0.j, -1.59217830e-08+0.j,\n",
      "        9.87014589e-09+0.j,  5.15807466e-05+0.j, -3.66324111e-06+0.j,\n",
      "       -5.60305364e-10+0.j, -4.91152055e-11+0.j,  2.04909255e-05+0.j,\n",
      "        7.09271521e-02+0.j, -3.80409271e-06+0.j,  2.61946875e-06+0.j,\n",
      "        1.69707093e-05+0.j]),\n",
      "    'eigenvalue': (-1.2634939783656405+0j),\n",
      "    'optimal_parameters': {   ParameterVectorElement(θ[7]): -0.0036647260120429024,\n",
      "                              ParameterVectorElement(θ[6]): 0.00010329657353360373,\n",
      "                              ParameterVectorElement(θ[5]): 7.386162568657245e-05,\n",
      "                              ParameterVectorElement(θ[2]): -3.402550777677091e-05,\n",
      "                              ParameterVectorElement(θ[3]): 0.0037058130953675156,\n",
      "                              ParameterVectorElement(θ[4]): -8.907909373773875e-06,\n",
      "                              ParameterVectorElement(θ[1]): -6.992778220842521e-06,\n",
      "                              ParameterVectorElement(θ[0]): -0.14197447712492342},\n",
      "    'optimal_point': array([-1.41974477e-01, -6.99277822e-06, -3.40255078e-05,  3.70581310e-03,\n",
      "       -8.90790937e-06,  7.38616257e-05,  1.03296574e-04, -3.66472601e-03]),\n",
      "    'optimal_value': -1.2634939783656405,\n",
      "    'optimizer_evals': None,\n",
      "    'optimizer_time': 0.9593408107757568}\n",
      "Eigenvalue:\t -1.2634939783656405\n"
     ]
    }
   ],
   "source": [
    "ry_electronic_ground_energies: list = []\n",
    "ry_nuclear_repulsion_energies: list = []#numpy_eigensolver_nuclear_repulsion_energies\n",
    "ry_total_ground_state_energies: list = []\n",
    "\n",
    "from qiskit.utils import QuantumInstance\n",
    "from qiskit_nature.algorithms import ExcitedStatesEigensolver, NumPyEigensolverFactory, VQEUCCFactory\n",
    "\n",
    "from IPython.display import display, clear_output\n",
    "\n",
    "def callback(eval_count, parameters, mean, std):\n",
    "    # overwrites same line when printing\n",
    "    display(\"Evaluation: {},\\tEnergy: {},\\tStd: {}\".format(eval_count, mean, std))\n",
    "    clear_output(wait=True)\n",
    "    counts.append(eval_count)\n",
    "    values.append(mean)\n",
    "    params.append(parameters)\n",
    "    deviation.append(std)\n",
    "    \n",
    "counts = []\n",
    "values = []\n",
    "params = []\n",
    "deviation = []\n",
    "\n",
    "\n",
    "quantum_instance = QuantumInstance(backend)\n",
    "optimizer = COBYLA(maxiter=10000)\n",
    "\n",
    "print(\"Total Ground State Energies of H2 Molecule using UCCSD ansatz\\n\")\n",
    "# dist = 0.725\n",
    "for dist in inter_atomic_dists:\n",
    "    qubit_op, num_particles, num_spin_orbitals, qubit_converter, es_problem = initial_state_preparation(dist, \"jw\")\n",
    "\n",
    "    init_state = HartreeFock(num_spin_orbitals, num_particles, qubit_converter)\n",
    "\n",
    "    # init_state.draw(\"mpl\", initial_state=True)\n",
    "\n",
    "    # Setting up TwoLocal for our ansatz\n",
    "    ansatz_type = \"RY\"\n",
    "\n",
    "    # Single qubit rotations that are placed on all qubits with independent parameters\n",
    "    rotation_blocks = [\"ry\"]\n",
    "    # Entangling gates\n",
    "    entanglement_blocks = \"cx\"\n",
    "    # How the qubits are entangled?\n",
    "    entanglement = 'linear'\n",
    "    # Repetitions of rotation_blocks + entanglement_blocks with independent parameters\n",
    "    repetitions = 1\n",
    "    # Skipoing the final rotation_blocks layer\n",
    "    skip_final_rotation_layer = False\n",
    "\n",
    "    ansatz = TwoLocal(\n",
    "        qubit_op.num_qubits,\n",
    "        rotation_blocks,\n",
    "        entanglement_blocks,\n",
    "        reps=repetitions,\n",
    "        entanglement=entanglement,\n",
    "        skip_final_rotation_layer=skip_final_rotation_layer,\n",
    "        insert_barriers=True)\n",
    "\n",
    "    # Add the initial state\n",
    "    ansatz.compose(init_state, front=True, inplace=True)   \n",
    "    \n",
    "\n",
    "    try:\n",
    "        initial_point = [0.01] * len(ansatz.ordered_parameters)\n",
    "    except:\n",
    "        initial_point = [0.01] * ansatz.num_parameters\n",
    "\n",
    "    algorithm = VQE(\n",
    "        ansatz,\n",
    "        optimizer=optimizer,\n",
    "        quantum_instance=quantum_instance,\n",
    "        callback=callback,\n",
    "        initial_point=initial_point\n",
    "    )\n",
    "\n",
    "    result = algorithm.compute_minimum_eigenvalue(qubit_op)\n",
    "    print(result)\n",
    "    # ry_total_ground_state_energies.append( np.real(result.eigenvalue) )\n",
    "    ry_electronic_ground_energies.append( np.real(result.eigenvalue) )\n",
    "    print(\"Eigenvalue:\\t\", np.real(result.eigenvalue))\n",
    "    # print(\"RY Energies: \", ry_total_ground_state_energies)"
   ]
  },
  {
   "cell_type": "code",
   "execution_count": 14,
   "id": "5948589f-38c0-4db6-af02-e89b6b309ff0",
   "metadata": {},
   "outputs": [
    {
     "name": "stdout",
     "output_type": "stream",
     "text": [
      "[-1.0404680950985732, -1.0830475201320149, -1.110389751495112, -1.1266956584748344, -1.1349449528687645, -1.1373059710646198, -0.581791060415318, -0.6302959200499594, -0.6716480917840645, -0.7070760756179624, -0.7375656889721105, -0.763904416740516, -0.7867222974387047, -0.8065271742608213, -0.8237345693882748, -0.8386892824076153, -0.8516829192839286]\n"
     ]
    }
   ],
   "source": [
    "for i in range(len(inter_atomic_dists)):\n",
    "    ry_total_ground_state_energies.append( ry_electronic_ground_energies[i] + numpy_eigensolver_nuclear_repulsion_energies[i] )\n",
    "print(ry_total_ground_state_energies)"
   ]
  },
  {
   "cell_type": "markdown",
   "id": "2d266ca4-05e1-45a0-a6d4-d1e5b6da233f",
   "metadata": {},
   "source": [
    "## RYRZ"
   ]
  },
  {
   "cell_type": "code",
   "execution_count": 15,
   "id": "6299ee31-cb57-4c4e-9742-a3bb0b0119f0",
   "metadata": {},
   "outputs": [
    {
     "name": "stdout",
     "output_type": "stream",
     "text": [
      "{   'aux_operator_eigenvalues': None,\n",
      "    'cost_function_evals': 85,\n",
      "    'eigenstate': array([-1.01101923e-06+2.97838519e-08j, -5.90013235e-04+5.90039592e-06j,\n",
      "        9.03667015e-04-9.03705741e-06j,  9.99983958e-01+1.57575284e-08j,\n",
      "       -4.28514337e-08+4.96370149e-09j, -1.01832160e-06-1.28944949e-09j,\n",
      "        1.58165975e-06+2.58078171e-12j,  1.75009209e-03+1.75016026e-05j,\n",
      "        8.71412822e-06-1.74365402e-07j, -2.93790743e-06-2.97581964e-08j,\n",
      "       -1.51508005e-07-7.95152438e-10j, -1.73324823e-04-2.55628413e-06j,\n",
      "       -4.97956047e-03+4.98313900e-05j,  1.73672826e-03+3.46495498e-05j,\n",
      "       -2.85267211e-06+1.56610241e-11j,  9.67416686e-05+9.83411045e-07j]),\n",
      "    'eigenvalue': (-1.263492284362005+0j),\n",
      "    'optimal_parameters': {   ParameterVectorElement(θ[13]): 0.010000140118554197,\n",
      "                              ParameterVectorElement(θ[15]): 0.009999984279868602,\n",
      "                              ParameterVectorElement(θ[14]): 0.010000090623720955,\n",
      "                              ParameterVectorElement(θ[1]): 0.003465224996960937,\n",
      "                              ParameterVectorElement(θ[8]): -0.0018247154014478372,\n",
      "                              ParameterVectorElement(θ[2]): -0.00019205235571517808,\n",
      "                              ParameterVectorElement(θ[7]): 0.010000617871364238,\n",
      "                              ParameterVectorElement(θ[11]): -0.000181442386404516,\n",
      "                              ParameterVectorElement(θ[10]): 0.0035004101754571833,\n",
      "                              ParameterVectorElement(θ[0]): 0.00996285769655364,\n",
      "                              ParameterVectorElement(θ[12]): 0.010000119206508591,\n",
      "                              ParameterVectorElement(θ[3]): -0.00016491515306300331,\n",
      "                              ParameterVectorElement(θ[5]): 0.010000124355380953,\n",
      "                              ParameterVectorElement(θ[6]): 0.010000253902676112,\n",
      "                              ParameterVectorElement(θ[4]): 0.01000033556749042,\n",
      "                              ParameterVectorElement(θ[9]): 0.0011804378446839672},\n",
      "    'optimal_point': array([ 0.00996286,  0.00346522, -0.00019205, -0.00016492,  0.01000034,\n",
      "        0.01000012,  0.01000025,  0.01000062, -0.00182472,  0.00118044,\n",
      "        0.00350041, -0.00018144,  0.01000012,  0.01000014,  0.01000009,\n",
      "        0.00999998]),\n",
      "    'optimal_value': -1.263492284362005,\n",
      "    'optimizer_evals': None,\n",
      "    'optimizer_time': 0.7821700572967529}\n"
     ]
    }
   ],
   "source": [
    "ryrz_electronic_ground_energies: list = []\n",
    "ryrz_nuclear_repulsion_energies: list = []\n",
    "ryrz_total_ground_state_energies: list = []\n",
    "\n",
    "from qiskit.utils import QuantumInstance\n",
    "from qiskit_nature.algorithms import ExcitedStatesEigensolver, NumPyEigensolverFactory, VQEUCCFactory\n",
    "\n",
    "from IPython.display import display, clear_output\n",
    "\n",
    "def callback(eval_count, parameters, mean, std):\n",
    "    # overwrites same line when printing\n",
    "    display(\"Evaluation: {},\\tEnergy: {},\\tStd: {}\".format(eval_count, mean, std))\n",
    "    clear_output(wait=True)\n",
    "    counts.append(eval_count)\n",
    "    values.append(mean)\n",
    "    params.append(parameters)\n",
    "    deviation.append(std)\n",
    "    \n",
    "counts = []\n",
    "values = []\n",
    "params = []\n",
    "deviation = []\n",
    "\n",
    "\n",
    "quantum_instance = QuantumInstance(backend)\n",
    "optimizer = SLSQP(maxiter=5)\n",
    "# optimizer = COBYLA(maxiter=10000)\n",
    "\n",
    "print(\"Total Ground State Energies of H2 Molecule using RYRZ ansatz\\n\")\n",
    "\n",
    "for dist in inter_atomic_dists:\n",
    "    qubit_op, num_particles, num_spin_orbitals, qubit_converter, es_problem = initial_state_preparation(dist, \"jw\")\n",
    "\n",
    "    init_state = HartreeFock(num_spin_orbitals, num_particles, qubit_converter)\n",
    "\n",
    "    # init_state.draw(\"mpl\", initial_state=True)\n",
    "\n",
    "    # Setting up TwoLocal for our ansatz\n",
    "    ansatz_type = \"RYRZ\"\n",
    "\n",
    "    # Single qubit rotations that are placed on all qubits with independent parameters\n",
    "    rotation_blocks = [\"ry\", \"rz\"]\n",
    "    # Entangling gates\n",
    "    entanglement_blocks = \"cx\"\n",
    "    # How the qubits are entangled?\n",
    "    entanglement = 'linear'\n",
    "    # Repetitions of rotation_blocks + entanglement_blocks with independent parameters\n",
    "    repetitions = 1\n",
    "    # Skipoing the final rotation_blocks layer\n",
    "    skip_final_rotation_layer = False\n",
    "\n",
    "    ansatz = TwoLocal(\n",
    "        qubit_op.num_qubits,\n",
    "        rotation_blocks,\n",
    "        entanglement_blocks,\n",
    "        reps=repetitions,\n",
    "        entanglement=entanglement,\n",
    "        skip_final_rotation_layer=skip_final_rotation_layer,\n",
    "        insert_barriers=True)\n",
    "\n",
    "    # Add the initial state\n",
    "    ansatz.compose(init_state, front=True, inplace=True)\n",
    "\n",
    "    try:\n",
    "        initial_point = [0.01] * len(ansatz.ordered_parameters)\n",
    "    except:\n",
    "        initial_point = [0.01] * ansatz.num_parameters\n",
    "\n",
    "    algorithm = VQE(\n",
    "        ansatz,\n",
    "        optimizer=optimizer,\n",
    "        quantum_instance=state_sim,\n",
    "        callback=callback,\n",
    "        initial_point=initial_point\n",
    "    )\n",
    "\n",
    "    result = algorithm.compute_minimum_eigenvalue(qubit_op)\n",
    "    print(result)\n",
    "    ryrz_electronic_ground_energies.append( np.real(result.eigenvalue) )\n",
    "    # print(np.real(result.eigenvalue))\n",
    "    "
   ]
  },
  {
   "cell_type": "code",
   "execution_count": 16,
   "id": "9e44e84c-7461-4470-993e-544cad0bc5dd",
   "metadata": {},
   "outputs": [
    {
     "name": "stdout",
     "output_type": "stream",
     "text": [
      "[-0.02633494769153355, -0.16513318765210439, -0.2803104049742905, -0.376403825281585, -0.456908688073258, -0.5246132717322166, -0.5817878080459709, -0.6302921662170933, -0.6716442400384605, -0.7070723576267601, -0.7375622443019558, -0.7639013274148543, -0.7867195258288846, -0.8065248187504261, -0.8237324123109896, -0.8386873548922706, -0.851681225280293]\n"
     ]
    }
   ],
   "source": [
    "for i in range(len(inter_atomic_dists)):\n",
    "    ryrz_total_ground_state_energies.append( ryrz_electronic_ground_energies[i] + numpy_eigensolver_nuclear_repulsion_energies[i] )\n",
    "print(ryrz_total_ground_state_energies)"
   ]
  },
  {
   "cell_type": "markdown",
   "id": "cf351e6c-8284-418d-8380-541d9a310814",
   "metadata": {
    "tags": []
   },
   "source": [
    "## A"
   ]
  },
  {
   "cell_type": "code",
   "execution_count": 17,
   "id": "ae611a98-8a10-43a0-b09d-1a760bd298e1",
   "metadata": {},
   "outputs": [
    {
     "name": "stdout",
     "output_type": "stream",
     "text": [
      "None -2.1315550349937347 ===\n",
      " {   'aux_operator_eigenvalues': None,\n",
      "    'cost_function_evals': 438,\n",
      "    'eigenstate': array([-2.82845305e-08+2.72907573e-05j,  0.00000000e+00+0.00000000e+00j,\n",
      "        0.00000000e+00+0.00000000e+00j, -5.54539017e-04-1.55788265e-05j,\n",
      "        0.00000000e+00+0.00000000e+00j,  9.62756587e-01-1.42010802e-02j,\n",
      "        6.59743844e-05-3.44934978e-04j,  0.00000000e+00+0.00000000e+00j,\n",
      "        0.00000000e+00+0.00000000e+00j,  3.10686247e-05+1.98131503e-04j,\n",
      "       -2.69956490e-01+3.98298695e-03j,  0.00000000e+00+0.00000000e+00j,\n",
      "        2.28869201e-03-4.82051756e-05j,  0.00000000e+00+0.00000000e+00j,\n",
      "        0.00000000e+00+0.00000000e+00j,  9.03620513e-08+1.89955642e-05j]),\n",
      "    'eigenvalue': (-1.4501307667870915+0j),\n",
      "    'optimal_parameters': {   ParameterVectorElement(θ[5]): 0.029192331105912576,\n",
      "                              ParameterVectorElement(θ[6]): 0.004842833662202735,\n",
      "                              ParameterVectorElement(θ[9]): 0.3026504539684825,\n",
      "                              ParameterVectorElement(θ[3]): 0.3959523489115281,\n",
      "                              ParameterVectorElement(θ[10]): -0.0003746928475239365,\n",
      "                              ParameterVectorElement(θ[0]): 0.024021598246092155,\n",
      "                              ParameterVectorElement(θ[8]): 9.785346471644768e-05,\n",
      "                              ParameterVectorElement(θ[11]): 0.025081984241044433,\n",
      "                              ParameterVectorElement(θ[7]): -0.3224218175748822,\n",
      "                              ParameterVectorElement(θ[4]): -0.00015915808818294587,\n",
      "                              ParameterVectorElement(θ[2]): 0.0005122507577353754,\n",
      "                              ParameterVectorElement(θ[1]): -0.40938509301072196},\n",
      "    'optimal_point': array([ 2.40215982e-02, -4.09385093e-01,  5.12250758e-04,  3.95952349e-01,\n",
      "       -1.59158088e-04,  2.91923311e-02,  4.84283366e-03, -3.22421818e-01,\n",
      "        9.78534647e-05,  3.02650454e-01, -3.74692848e-04,  2.50819842e-02]),\n",
      "    'optimal_value': -1.4501307667870915,\n",
      "    'optimizer_evals': None,\n",
      "    'optimizer_time': 5.066901922225952}\n"
     ]
    }
   ],
   "source": [
    "a_electronic_ground_energies: list = []\n",
    "a_total_ground_state_energies: list = []\n",
    "\n",
    "from IPython.display import display, clear_output\n",
    "\n",
    "def callback(eval_count, parameters, mean, std):\n",
    "    # overwrites same line when printing\n",
    "    display(\"Evaluation: {},\\tEnergy: {},\\tStd: {}\".format(eval_count, mean, std))\n",
    "    clear_output(wait=True)\n",
    "    counts.append(eval_count)\n",
    "    values.append(mean)\n",
    "    params.append(parameters)\n",
    "    deviation.append(std)\n",
    "    \n",
    "counts = []\n",
    "values = []\n",
    "params = []\n",
    "deviation = []\n",
    "\n",
    "# ansatz = 0\n",
    "\n",
    "quantum_instance = QuantumInstance(backend)#Aer.get_backend(\"aer_simulator_statevector\"))\n",
    "optimizer = COBYLA(maxiter=10000)\n",
    "# optimizer = SLSQP(maxiter=5)\n",
    "\n",
    "for dist in inter_atomic_dists:\n",
    "    qubit_op, num_particles, num_spin_orbitals, qubit_converter, es_problem = initial_state_preparation(dist, \"jw\")\n",
    "\n",
    "    init_state = HartreeFock(num_spin_orbitals, num_particles, qubit_converter)\n",
    "\n",
    "    ansatz = A_ansatz(qubit_op, init_state)\n",
    "\n",
    "    try:\n",
    "        initial_point = [0.01] * len(ansatz.ordered_parameters)\n",
    "    except:\n",
    "        initial_point = [0.01] * ansatz.num_parameters\n",
    "\n",
    "    vqe_solver = VQE(\n",
    "        ansatz=ansatz,\n",
    "        optimizer=optimizer,\n",
    "        initial_point=initial_point,\n",
    "        callback=callback,\n",
    "        quantum_instance=quantum_instance,\n",
    "    )\n",
    "\n",
    "    result = vqe_solver.compute_minimum_eigenvalue(qubit_op)\n",
    "    a_electronic_ground_energies.append( np.real(result.eigenvalue) )\n",
    "    print(result.aux_operator_eigenvalues, min(values), \"===\\n\", result)\n",
    "    # values.clear()"
   ]
  },
  {
   "cell_type": "code",
   "execution_count": 18,
   "id": "7913ce16-0432-488b-a402-9460ace147aa",
   "metadata": {},
   "outputs": [
    {
     "name": "stdout",
     "output_type": "stream",
     "text": [
      "[-1.0404679974405346, -1.0830475460577396, -1.1103898448256024, -1.126695463953654, -1.1349440252085279, -1.1373052694811454, -1.135374765735005, -1.1303398563761806, -1.1230734151360364, -1.1142217524916551, -1.1042857775744368, -1.093630579375315, -1.082557815161012, -1.07130512871357, -1.0600770561869788, -1.049036873320648, -1.0383197077053796]\n"
     ]
    }
   ],
   "source": [
    "for i in range(len(inter_atomic_dists)):\n",
    "    a_total_ground_state_energies.append( a_electronic_ground_energies[i] + numpy_eigensolver_nuclear_repulsion_energies[i] )\n",
    "print(a_total_ground_state_energies)"
   ]
  },
  {
   "cell_type": "markdown",
   "id": "b23c8e0f-7f53-4a16-9bcb-274e1b60749a",
   "metadata": {},
   "source": [
    "## AT"
   ]
  },
  {
   "cell_type": "code",
   "execution_count": 19,
   "id": "9f24b739-2f15-4abc-8866-9a94bce0e977",
   "metadata": {},
   "outputs": [
    {
     "name": "stdout",
     "output_type": "stream",
     "text": [
      "None -2.131555309009262 ===\n",
      " {   'aux_operator_eigenvalues': None,\n",
      "    'cost_function_evals': 203,\n",
      "    'eigenstate': array([-1.52211606e-17+2.26891302e-17j,  0.00000000e+00+0.00000000e+00j,\n",
      "        0.00000000e+00+0.00000000e+00j, -3.94201386e-04-7.73935480e-18j,\n",
      "        0.00000000e+00+0.00000000e+00j,  9.62849797e-01+6.00704320e-16j,\n",
      "       -4.09730984e-05-4.94556052e-17j,  0.00000000e+00+0.00000000e+00j,\n",
      "        0.00000000e+00+0.00000000e+00j, -2.61843814e-05-2.45325518e-17j,\n",
      "       -2.70033369e-01-2.27949885e-16j,  0.00000000e+00+0.00000000e+00j,\n",
      "        1.44605901e-03+8.60323506e-18j,  0.00000000e+00+0.00000000e+00j,\n",
      "        0.00000000e+00+0.00000000e+00j, -1.07576263e-17-2.14607457e-17j]),\n",
      "    'eigenvalue': (-1.450131421930222+0j),\n",
      "    'optimal_parameters': {   ParameterVectorElement(θ[2]): 0.018578164837511648,\n",
      "                              ParameterVectorElement(θ[4]): 0.31561961890278484,\n",
      "                              ParameterVectorElement(θ[3]): -0.30921827123405043,\n",
      "                              ParameterVectorElement(θ[0]): -0.40052877918040847,\n",
      "                              ParameterVectorElement(θ[5]): 0.015921600029732818,\n",
      "                              ParameterVectorElement(θ[1]): 0.4048958158329386},\n",
      "    'optimal_point': array([-0.40052878,  0.40489582,  0.01857816, -0.30921827,  0.31561962,\n",
      "        0.0159216 ]),\n",
      "    'optimal_value': -1.450131421930222,\n",
      "    'optimizer_evals': None,\n",
      "    'optimizer_time': 1.8288841247558594}\n"
     ]
    }
   ],
   "source": [
    "at_electronic_ground_energies: list = []\n",
    "at_total_ground_state_energies: list = []\n",
    "\n",
    "from IPython.display import display, clear_output\n",
    "\n",
    "def callback(eval_count, parameters, mean, std):\n",
    "    # overwrites same line when printing\n",
    "    display(\"Evaluation: {},\\tEnergy: {},\\tStd: {}\".format(eval_count, mean, std))\n",
    "    clear_output(wait=True)\n",
    "    counts.append(eval_count)\n",
    "    values.append(mean)\n",
    "    params.append(parameters)\n",
    "    deviation.append(std)\n",
    "    \n",
    "counts = []\n",
    "values = []\n",
    "params = []\n",
    "deviation = []\n",
    "\n",
    "# ansatz = 0\n",
    "\n",
    "quantum_instance = QuantumInstance(backend=backend)#Aer.get_backend(\"aer_simulator_statevector\"))\n",
    "optimizer = COBYLA(maxiter=10000)\n",
    "# optimizer = SLSQP(maxiter=5)\n",
    "\n",
    "for dist in inter_atomic_dists:\n",
    "    qubit_op, num_particles, num_spin_orbitals, qubit_converter, es_problem = initial_state_preparation(dist, \"jw\")\n",
    "\n",
    "    init_state = HartreeFock(num_spin_orbitals, num_particles, qubit_converter)\n",
    "\n",
    "    ansatz = AT_ansatz(qubit_op, init_state)\n",
    "\n",
    "    try:\n",
    "        initial_point = [0.01] * len(ansatz.ordered_parameters)\n",
    "    except:\n",
    "        initial_point = [0.01] * ansatz.num_parameters\n",
    "\n",
    "    vqe_solver = VQE(\n",
    "        ansatz=ansatz,\n",
    "        optimizer=optimizer,\n",
    "        initial_point=initial_point,\n",
    "        callback=callback,\n",
    "        quantum_instance=quantum_instance,\n",
    "    )\n",
    "\n",
    "    result = vqe_solver.compute_minimum_eigenvalue(qubit_op)\n",
    "    at_electronic_ground_energies.append( np.real(result.eigenvalue) )\n",
    "    print(result.aux_operator_eigenvalues, min(values), \"===\\n\", result)\n",
    "    # values.clear()"
   ]
  },
  {
   "cell_type": "code",
   "execution_count": 20,
   "id": "4ec4e4f1-51f2-4877-87a8-30634c44a6ab",
   "metadata": {},
   "outputs": [
    {
     "name": "stdout",
     "output_type": "stream",
     "text": [
      "[-1.0404682695239726, -1.0830476831150366, -1.1103894944426762, -1.1266948670135606, -1.134943357859818, -1.137280655775459, -1.135376085587103, -1.1303408963826502, -1.1230662961284454, -1.1142255135944994, -1.1042862352144776, -1.0936317543129153, -1.0825556719828215, -1.0713043790339278, -1.060076770130526, -1.0490379261388119, -1.03832036284851]\n"
     ]
    }
   ],
   "source": [
    "for i in range(len(inter_atomic_dists)):\n",
    "    at_total_ground_state_energies.append( at_electronic_ground_energies[i] + numpy_eigensolver_nuclear_repulsion_energies[i] )\n",
    "print(at_total_ground_state_energies)"
   ]
  },
  {
   "cell_type": "code",
   "execution_count": null,
   "id": "ef413548-61c8-4d7a-a605-22fa907c4270",
   "metadata": {},
   "outputs": [],
   "source": []
  },
  {
   "cell_type": "code",
   "execution_count": 22,
   "id": "c553759f-5d5a-4583-91b6-261ba3ded25b",
   "metadata": {},
   "outputs": [
    {
     "data": {
      "image/png": "[encoded data removed]",
      "text/plain": [
       "<Figure size 1382.4x777.6 with 1 Axes>"
      ]
     },
     "metadata": {
      "needs_background": "light"
     },
     "output_type": "display_data"
    }
   ],
   "source": [
    "fig, ax = plt.subplots(1, 1, figsize=(19.20, 10.80))\n",
    "# plt.title(\"$H_2$ Molecule Energy vs Inter-atomic distances\\t-\\tJordan-Wigner Mapper\")\n",
    "\n",
    "# fig.text(0.75, 0.65, f'Exact Energy: {numpy_exact_energy:.3f} Eh')\n",
    "\n",
    "plt.rc('font', size=16)\n",
    "plt.rc('axes', labelsize=16)\n",
    "plt.rc('xtick', labelsize=16) \n",
    "plt.rc('ytick', labelsize=16)\n",
    "plt.rc('legend', fontsize=16)\n",
    "\n",
    "# plt.xlim([-1, 51])\n",
    "plt.ylim([-1.2, -0.5])\n",
    "\n",
    "# ax.set_facecolor(\"#293952\")\n",
    "ax.set_xlabel('Inter-Atomic Distances (Angstrom)')\n",
    "ax.set_ylabel('Energy (Eh)')\n",
    "ax.grid()\n",
    "\n",
    "# plt.plot(inter_atomic_dists, numpy_eigensolver_electronic_ground_energies, label=\"Exact\", color=\"#000000\", linewidth=5, linestyle=None)\n",
    "# plt.plot(inter_atomic_dists, uccsd_total_ground_state_energies, label=\"UCCSD\", linewidth=3, linestyle=\"-.\")\n",
    "# plt.plot(inter_atomic_dists, ryrz_electronic_ground_energies, label=\"RYRZ\", linewidth=3, linestyle=\"--\")\n",
    "\n",
    "\n",
    "plt.plot(inter_atomic_dists, numpy_eigensolver_total_ground_state_energies, label=\"Exact\", color=\"#000000\", linewidth=5, linestyle=None)\n",
    "plt.plot(inter_atomic_dists, uccsd_total_ground_state_energies, label=\"UCCSD\", linewidth=3, linestyle=\"-.\")\n",
    "plt.plot(inter_atomic_dists, ry_total_ground_state_energies, label=\"RY\", linewidth=3, linestyle=\"--\")\n",
    "plt.plot(inter_atomic_dists, ryrz_total_ground_state_energies, label=\"RYRZ\", linewidth=3, linestyle=\":\")\n",
    "plt.plot(inter_atomic_dists, a_total_ground_state_energies, label=\"A\", linewidth=3, linestyle=None)\n",
    "plt.plot(inter_atomic_dists, at_total_ground_state_energies, label=\"AT\", linewidth=3, linestyle=\"--\")\n",
    "\n",
    "\n",
    "plt.legend()\n",
    "\n",
    "fig.savefig(\"vqe_h2_jw_id_all.png\", dpi=200)"
   ]
  },
  {
   "cell_type": "code",
   "execution_count": null,
   "id": "9f033091-37dd-45f2-9d99-8bc99ffe3a67",
   "metadata": {},
   "outputs": [],
   "source": []
  },
  {
   "cell_type": "code",
   "execution_count": null,
   "id": "ac7a7c94-d0b2-478b-b006-d678b678c546",
   "metadata": {},
   "outputs": [],
   "source": []
  },
  {
   "cell_type": "code",
   "execution_count": null,
   "id": "7df3ebe8-8a5a-40d8-b278-88f958ac9ac7",
   "metadata": {},
   "outputs": [],
   "source": []
  },
  {
   "cell_type": "code",
   "execution_count": null,
   "id": "f14150c0-a3c6-4d5c-b600-d4865499e8ab",
   "metadata": {},
   "outputs": [],
   "source": []
  }
 ],
 "metadata": {
  "kernelspec": {
   "display_name": "Qiskit v0.35.0 (ipykernel)",
   "language": "python",
   "name": "python3"
  },
  "language_info": {
   "codemirror_mode": {
    "name": "ipython",
    "version": 3
   },
   "file_extension": ".py",
   "mimetype": "text/x-python",
   "name": "python",
   "nbconvert_exporter": "python",
   "pygments_lexer": "ipython3",
   "version": "3.8.13"
  },
  "widgets": {
   "application/vnd.jupyter.widget-state+json": {
    "state": {
     "04a26596848e437991461427e9c7c6a3": {
      "model_module": "@jupyter-widgets/base",
      "model_module_version": "1.2.0",
      "model_name": "LayoutModel",
      "state": {
       "margin": "0px 0px 0px 37px",
       "width": "600px"
      }
     },
     "0b732bb8eab645ff821916b68db7a6f9": {
      "model_module": "@jupyter-widgets/controls",
      "model_module_version": "1.5.0",
      "model_name": "DescriptionStyleModel",
      "state": {
       "description_width": ""
      }
     },
     "19cba0e136bc464f8f35dad9282757c2": {
      "model_module": "@jupyter-widgets/base",
      "model_module_version": "1.2.0",
      "model_name": "LayoutModel",
      "state": {
       "width": "145px"
      }
     },
     "2349bf83439d498790655f7d8d7e83df": {
      "model_module": "@jupyter-widgets/controls",
      "model_module_version": "1.5.0",
      "model_name": "HTMLModel",
      "state": {
       "layout": "IPY_MODEL_899eb9bcde3344f09140c7602d97f652",
       "style": "IPY_MODEL_580ef0a70e0647cbb6ba1365086dcc97",
       "value": "<h5>Queue</h5>"
      }
     },
     "3edd686297b64c2b81ba4a913b3570f1": {
      "model_module": "@jupyter-widgets/controls",
      "model_module_version": "1.5.0",
      "model_name": "HTMLModel",
      "state": {
       "layout": "IPY_MODEL_ca10dc6e6bb047659e6c5946f3f2856a",
       "style": "IPY_MODEL_f07d192e46674687a8d207f6ae2510da",
       "value": "<p style='font-family: IBM Plex Sans, Arial, Helvetica, sans-serif; font-size: 20px; font-weight: medium;'>Circuit Properties</p>"
      }
     },
     "4aa957756e604e83840156a9c96f12ba": {
      "model_module": "@jupyter-widgets/base",
      "model_module_version": "1.2.0",
      "model_name": "LayoutModel",
      "state": {
       "grid_area": "right",
       "padding": "0px 0px 0px 0px",
       "width": "70px"
      }
     },
     "5246ec968a5e4a58b48e5c788924e41a": {
      "model_module": "@jupyter-widgets/controls",
      "model_module_version": "1.5.0",
      "model_name": "ButtonStyleModel",
      "state": {}
     },
     "53df93f64ac04dd1ab51a0d67430a4b1": {
      "model_module": "@jupyter-widgets/base",
      "model_module_version": "1.2.0",
      "model_name": "LayoutModel",
      "state": {
       "width": "190px"
      }
     },
     "580ef0a70e0647cbb6ba1365086dcc97": {
      "model_module": "@jupyter-widgets/controls",
      "model_module_version": "1.5.0",
      "model_name": "DescriptionStyleModel",
      "state": {
       "description_width": ""
      }
     },
     "5c90aeddacfd491ba76c80f1bff64573": {
      "model_module": "@jupyter-widgets/base",
      "model_module_version": "1.2.0",
      "model_name": "LayoutModel",
      "state": {}
     },
     "5db8e299e6a84ea692c92a4281886a2a": {
      "model_module": "@jupyter-widgets/base",
      "model_module_version": "1.2.0",
      "model_name": "LayoutModel",
      "state": {
       "grid_template_areas": "\n                                       \". . . . right \"\n                                        ",
       "grid_template_columns": "20% 20% 20% 20% 20%",
       "width": "100%"
      }
     },
     "63227b8dd1054f949bcbbc1635e754e6": {
      "model_module": "@jupyter-widgets/controls",
      "model_module_version": "1.5.0",
      "model_name": "ButtonModel",
      "state": {
       "button_style": "primary",
       "description": "Clear",
       "layout": "IPY_MODEL_4aa957756e604e83840156a9c96f12ba",
       "style": "IPY_MODEL_5246ec968a5e4a58b48e5c788924e41a"
      }
     },
     "7cc90da551974d75927294d7613ef4bf": {
      "model_module": "@jupyter-widgets/controls",
      "model_module_version": "1.5.0",
      "model_name": "DescriptionStyleModel",
      "state": {
       "description_width": ""
      }
     },
     "899eb9bcde3344f09140c7602d97f652": {
      "model_module": "@jupyter-widgets/base",
      "model_module_version": "1.2.0",
      "model_name": "LayoutModel",
      "state": {
       "width": "70px"
      }
     },
     "90551050b6e148dc949b3a6a8ea0f7b0": {
      "model_module": "@jupyter-widgets/controls",
      "model_module_version": "1.5.0",
      "model_name": "HBoxModel",
      "state": {
       "children": [
        "IPY_MODEL_c360624dcfd64ceea3f831d71360ebec",
        "IPY_MODEL_93853abfefdc44578292dc123ec26014",
        "IPY_MODEL_c6b9ac1d8afc46aa90416128b58603bf",
        "IPY_MODEL_2349bf83439d498790655f7d8d7e83df",
        "IPY_MODEL_f4fe17235268485295446ec18f5eb2ae"
       ],
       "layout": "IPY_MODEL_04a26596848e437991461427e9c7c6a3"
      }
     },
     "927fb5a24f7b492c9b94a07864814137": {
      "model_module": "@jupyter-widgets/controls",
      "model_module_version": "1.5.0",
      "model_name": "DescriptionStyleModel",
      "state": {
       "description_width": ""
      }
     },
     "93853abfefdc44578292dc123ec26014": {
      "model_module": "@jupyter-widgets/controls",
      "model_module_version": "1.5.0",
      "model_name": "HTMLModel",
      "state": {
       "layout": "IPY_MODEL_19cba0e136bc464f8f35dad9282757c2",
       "style": "IPY_MODEL_927fb5a24f7b492c9b94a07864814137",
       "value": "<h5>Backend</h5>"
      }
     },
     "c360624dcfd64ceea3f831d71360ebec": {
      "model_module": "@jupyter-widgets/controls",
      "model_module_version": "1.5.0",
      "model_name": "HTMLModel",
      "state": {
       "layout": "IPY_MODEL_53df93f64ac04dd1ab51a0d67430a4b1",
       "style": "IPY_MODEL_fc2ed31e015a4565a5226d7d1647b6c1",
       "value": "<h5>Job ID</h5>"
      }
     },
     "c585097f96754cd49fa89462805ce7a9": {
      "model_module": "@jupyter-widgets/base",
      "model_module_version": "1.2.0",
      "model_name": "LayoutModel",
      "state": {
       "width": "95px"
      }
     },
     "c6b9ac1d8afc46aa90416128b58603bf": {
      "model_module": "@jupyter-widgets/controls",
      "model_module_version": "1.5.0",
      "model_name": "HTMLModel",
      "state": {
       "layout": "IPY_MODEL_c585097f96754cd49fa89462805ce7a9",
       "style": "IPY_MODEL_7cc90da551974d75927294d7613ef4bf",
       "value": "<h5>Status</h5>"
      }
     },
     "ca10dc6e6bb047659e6c5946f3f2856a": {
      "model_module": "@jupyter-widgets/base",
      "model_module_version": "1.2.0",
      "model_name": "LayoutModel",
      "state": {
       "margin": "0px 0px 10px 0px"
      }
     },
     "effed60a65444b4a9402de428a9b294c": {
      "model_module": "@jupyter-widgets/controls",
      "model_module_version": "1.5.0",
      "model_name": "GridBoxModel",
      "state": {
       "children": [
        "IPY_MODEL_63227b8dd1054f949bcbbc1635e754e6"
       ],
       "layout": "IPY_MODEL_5db8e299e6a84ea692c92a4281886a2a"
      }
     },
     "f07d192e46674687a8d207f6ae2510da": {
      "model_module": "@jupyter-widgets/controls",
      "model_module_version": "1.5.0",
      "model_name": "DescriptionStyleModel",
      "state": {
       "description_width": ""
      }
     },
     "f4fe17235268485295446ec18f5eb2ae": {
      "model_module": "@jupyter-widgets/controls",
      "model_module_version": "1.5.0",
      "model_name": "HTMLModel",
      "state": {
       "layout": "IPY_MODEL_5c90aeddacfd491ba76c80f1bff64573",
       "style": "IPY_MODEL_0b732bb8eab645ff821916b68db7a6f9",
       "value": "<h5>Message</h5>"
      }
     },
     "fc2ed31e015a4565a5226d7d1647b6c1": {
      "model_module": "@jupyter-widgets/controls",
      "model_module_version": "1.5.0",
      "model_name": "DescriptionStyleModel",
      "state": {
       "description_width": ""
      }
     }
    },
    "version_major": 2,
    "version_minor": 0
   }
  }
 },
 "nbformat": 4,
 "nbformat_minor": 5
}
