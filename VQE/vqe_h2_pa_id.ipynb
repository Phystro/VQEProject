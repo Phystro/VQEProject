{
 "cells": [
  {
   "cell_type": "code",
   "execution_count": 1,
   "id": "f0403b7d-80c8-4edf-ba27-9e812a2c3281",
   "metadata": {},
   "outputs": [
    {
     "name": "stderr",
     "output_type": "stream",
     "text": [
      "<frozen importlib._bootstrap>:219: RuntimeWarning: scipy._lib.messagestream.MessageStream size changed, may indicate binary incompatibility. Expected 56 from C header, got 64 from PyObject\n"
     ]
    }
   ],
   "source": [
    "import numpy as np\n",
    "import pandas as pd\n",
    "import matplotlib.pyplot as plt\n",
    "from IPython.display import display, clear_output\n",
    "\n",
    "# Importing standard Qiskit libraries\n",
    "from qiskit import QuantumCircuit, transpile, IBMQ\n",
    "\n",
    "from qiskit.tools.jupyter import *\n",
    "\n",
    "from qiskit.visualization import *\n",
    "\n",
    "from ibm_quantum_widgets import *\n",
    "\n",
    "from qiskit.providers.aer import QasmSimulator, StatevectorSimulator\n",
    "\n",
    "from qiskit.utils import QuantumInstance\n",
    "\n",
    "from qiskit.circuit import Parameter\n",
    "\n",
    "# Storing results in a dictionary\n",
    "from qiskit.transpiler import PassManager\n",
    "# Unroller transpile our circuit into CNOTs and U gates\n",
    "from qiskit.transpiler.passes import Unroller\n",
    "\n",
    "# Loading your IBM Quantum account(s)\n",
    "provider = IBMQ.load_account()"
   ]
  },
  {
   "cell_type": "code",
   "execution_count": 2,
   "id": "ef034cbb-8773-4672-9023-bdffbaffd582",
   "metadata": {},
   "outputs": [],
   "source": [
    "# Chemistry Drivers\n",
    "from qiskit_nature.drivers.second_quantization.pyscfd import PySCFDriver\n",
    "from qiskit_nature.drivers import UnitsType\n",
    "\n",
    "from qiskit_nature.transformers.second_quantization.electronic import FreezeCoreTransformer\n",
    "\n",
    "from qiskit.opflow.primitive_ops import Z2Symmetries\n",
    "\n",
    "# Electroinic structure problem\n",
    "from qiskit_nature.problems.second_quantization.electronic import ElectronicStructureProblem\n",
    "\n",
    "# Qubit converter\n",
    "from qiskit_nature.converters.second_quantization.qubit_converter import QubitConverter\n",
    "\n",
    "# Mappers\n",
    "from qiskit_nature.mappers.second_quantization import ParityMapper, BravyiKitaevMapper, JordanWignerMapper\n",
    "\n",
    "# Initial state\n",
    "from qiskit_nature.circuit.library import HartreeFock, UCCSD\n",
    "\n",
    "# Variational form - circuit\n",
    "from qiskit.circuit.library import TwoLocal\n",
    "\n",
    "# Optimizer\n",
    "from qiskit.algorithms.optimizers import COBYLA, SLSQP, SPSA\n",
    "\n",
    "# Algorithms and Factories\n",
    "from qiskit_nature.algorithms import ExcitedStatesEigensolver, NumPyEigensolverFactory, VQEUCCFactory\n",
    "\n",
    "# Eigen Solvers\n",
    "# NumPy Minimum Eigen Solver\n",
    "from qiskit_nature.algorithms.ground_state_solvers.minimum_eigensolver_factories import NumPyMinimumEigensolverFactory\n",
    "# ground state\n",
    "from qiskit_nature.algorithms.ground_state_solvers import GroundStateEigensolver\n",
    "# VQE Solver\n",
    "from qiskit.algorithms import VQE"
   ]
  },
  {
   "cell_type": "code",
   "execution_count": 3,
   "id": "847bfb83-034a-4151-b513-6f5be41ef5d2",
   "metadata": {},
   "outputs": [],
   "source": [
    "state_sim = StatevectorSimulator()\n",
    "qasm_sim = QasmSimulator()"
   ]
  },
  {
   "cell_type": "code",
   "execution_count": 4,
   "id": "aaa587f8-3841-473d-91e4-84267292f2d0",
   "metadata": {},
   "outputs": [],
   "source": [
    "inter_atomic_dists: list = np.arange(0.485, 1.335, 0.05)"
   ]
  },
  {
   "cell_type": "code",
   "execution_count": 5,
   "id": "73cf00d8-00b4-4c46-aaff-c83e6df6a98e",
   "metadata": {},
   "outputs": [
    {
     "name": "stdout",
     "output_type": "stream",
     "text": [
      "[0.485 0.535 0.585 0.635 0.685 0.735 0.785 0.835 0.885 0.935 0.985 1.035\n",
      " 1.085 1.135 1.185 1.235 1.285]\n"
     ]
    }
   ],
   "source": [
    "print(inter_atomic_dists)"
   ]
  },
  {
   "cell_type": "code",
   "execution_count": 6,
   "id": "79297b48-4cd3-40c9-ad77-95e46eb59a5d",
   "metadata": {},
   "outputs": [],
   "source": [
    "def exact_diagonalizer(es_problem, qubit_converter):\n",
    "    solver = NumPyMinimumEigensolverFactory()\n",
    "    calc = GroundStateEigensolver(qubit_converter, solver)\n",
    "    result = calc.solve(es_problem)\n",
    "    return result"
   ]
  },
  {
   "cell_type": "code",
   "execution_count": 7,
   "id": "ce533602-ffed-4bc2-9b9e-2122c9279830",
   "metadata": {},
   "outputs": [],
   "source": [
    "def get_mapper(mapper_str: str):\n",
    "    if mapper_str == \"jw\":\n",
    "        mapper = JordanWignerMapper()\n",
    "    elif mapper_str == \"pa\":\n",
    "        mapper = ParityMapper()\n",
    "    elif mapper_str == \"bk\":\n",
    "        mapper = BravyiKitaevMapper()\n",
    "        \n",
    "    return mapper"
   ]
  },
  {
   "cell_type": "code",
   "execution_count": 8,
   "id": "fc9f0f57-f498-4954-b008-120792be6f1e",
   "metadata": {},
   "outputs": [],
   "source": [
    "def initial_state_preparation(dist: float, mapper_str: str = \"pa\"):\n",
    "    \n",
    "    molecule = \"H 0.0 0.0 0.0; H 0.0 0.0 \" + str(dist)\n",
    "    driver = PySCFDriver(\n",
    "            atom=molecule,\n",
    "            unit = UnitsType.ANGSTROM,\n",
    "            # basis = \"sto3g\"\n",
    "    )\n",
    "    qmolecule = driver.run()\n",
    "    \n",
    "    transformer = FreezeCoreTransformer()\n",
    "    qmolecule = transformer.transform(qmolecule)\n",
    "    es_problem = ElectronicStructureProblem(driver)\n",
    "    \n",
    "    # generating second_quzntized operators\n",
    "    second_q_ops = es_problem.second_q_ops()\n",
    "    \n",
    "    # Hamiltonian\n",
    "    main_op = second_q_ops[0]\n",
    "    \n",
    "    # return tuple of number of particles if available\n",
    "    num_particles = es_problem.num_particles\n",
    "    # return the number of spin orbitals\n",
    "    num_spin_orbitals = es_problem.num_spin_orbitals\n",
    "    \n",
    "    mapper = get_mapper(mapper_str)\n",
    "    \n",
    "    qubit_converter = QubitConverter(mapper=mapper, two_qubit_reduction=True)#, z2symmetry_reduction=[1, 1])\n",
    "    \n",
    "    # Qubit Hamiltonian\n",
    "    qubit_op = qubit_converter.convert(main_op, num_particles=num_particles)\n",
    "    \n",
    "    return (qubit_op, num_particles, num_spin_orbitals, qubit_converter, es_problem)"
   ]
  },
  {
   "cell_type": "code",
   "execution_count": 9,
   "id": "639c73ca-a750-4126-85ee-1289808668ad",
   "metadata": {},
   "outputs": [],
   "source": [
    "def A_ansatz(qubit_op, init_state):\n",
    "    theta = Parameter(\"t\")\n",
    "    phi = Parameter(\"p\")\n",
    "\n",
    "    R = QuantumCircuit(1, name=\"$R(\\\\theta, \\phi)$\")\n",
    "    R.ry(theta + (0.5 * np.pi), 0)\n",
    "    R.rz(phi + np.pi, 0)\n",
    "\n",
    "    Rd = QuantumCircuit(1, name=\"$R(\\\\theta, \\phi)^\\dagger$\")\n",
    "    Rd.ry(theta + (0.5 * np.pi), 0).inverse()\n",
    "    Rd.rz(phi + np.pi, 0).inverse()\n",
    "\n",
    "    a_var_form = QuantumCircuit(qubit_op.num_qubits)\n",
    "    a_var_form.cx(1, 0)\n",
    "    a_var_form.append(Rd, [1])\n",
    "    a_var_form.cx(0, 1)\n",
    "    a_var_form.append(R, [1])\n",
    "    a_var_form.cx(1, 0)\n",
    "\n",
    "    ansatz = TwoLocal(\n",
    "        num_qubits = qubit_op.num_qubits,\n",
    "        rotation_blocks = [ a_var_form ],\n",
    "        entanglement_blocks = None,\n",
    "        entanglement = None,\n",
    "        reps=1,\n",
    "        skip_unentangled_qubits = False,\n",
    "        skip_final_rotation_layer = True,\n",
    "        # parameter_prefix = theta,\n",
    "        insert_barriers = False,\n",
    "        # initial_state = init_state,\n",
    "        name = \"$A(\\\\theta, \\phi)$\"\n",
    "    )\n",
    "\n",
    "    ansatz.compose(init_state, front=True, inplace=True)\n",
    "    return ansatz"
   ]
  },
  {
   "cell_type": "code",
   "execution_count": 10,
   "id": "8c837471-5d37-4c8e-975d-acce9591f80d",
   "metadata": {},
   "outputs": [],
   "source": [
    "def AT_ansatz(qubit_op, init_state):\n",
    "    theta = Parameter(\"t\")\n",
    "    phi = Parameter(\"p\")\n",
    "\n",
    "    R = QuantumCircuit(1, name=\"$R(\\\\theta, \\phi)$\")\n",
    "    R.ry(theta + (0.5 * np.pi), 0)\n",
    "    R.rz(0 + np.pi, 0)\n",
    "\n",
    "    Rd = QuantumCircuit(1, name=\"$R(\\\\theta, \\phi)^\\dagger$\")\n",
    "    Rd.ry(theta + (0.5 * np.pi), 0).inverse()\n",
    "    Rd.rz(0 + np.pi, 0).inverse()\n",
    "\n",
    "    a_var_form = QuantumCircuit(qubit_op.num_qubits)\n",
    "    a_var_form.cx(1, 0)\n",
    "    a_var_form.append(Rd, [1])\n",
    "    a_var_form.cx(0, 1)\n",
    "    a_var_form.append(R, [1])\n",
    "    a_var_form.cx(1, 0)\n",
    "\n",
    "    ansatz = TwoLocal(\n",
    "        num_qubits = qubit_op.num_qubits,\n",
    "        rotation_blocks = [ a_var_form ],\n",
    "        entanglement_blocks = None,\n",
    "        entanglement = None,\n",
    "        reps=1,\n",
    "        skip_unentangled_qubits = False,\n",
    "        skip_final_rotation_layer = True,\n",
    "        # parameter_prefix = theta,\n",
    "        insert_barriers = False,\n",
    "        # initial_state = init_state,\n",
    "        name = \"$A(\\\\theta, \\phi)$\"\n",
    "    )\n",
    "\n",
    "    ansatz.compose(init_state, front=True, inplace=True)\n",
    "    return ansatz"
   ]
  },
  {
   "cell_type": "markdown",
   "id": "ed3ba217-8162-4438-b7f4-75c93827b524",
   "metadata": {},
   "source": [
    "## Numpy"
   ]
  },
  {
   "cell_type": "code",
   "execution_count": 11,
   "id": "f35ed8c5-3d9c-47ff-ad8f-109bdeec3b67",
   "metadata": {},
   "outputs": [
    {
     "name": "stdout",
     "output_type": "stream",
     "text": [
      "Total Ground State Energies of H2 Molecule using NumPyMinimumEigensolver algorithm\n",
      "\n",
      "Interatomic dist: 0.4850 Å \t Electronic Ground Energy: -2.1316 Eh \tNuclear Repulsion Energy: 1.0911 Eh \tTotal Ground State Energy: -1.0405 Eh\n",
      "Interatomic dist: 0.5350 Å \t Electronic Ground Energy: -2.0722 Eh \tNuclear Repulsion Energy: 0.9891 Eh \tTotal Ground State Energy: -1.0830 Eh\n",
      "Interatomic dist: 0.5850 Å \t Electronic Ground Energy: -2.0150 Eh \tNuclear Repulsion Energy: 0.9046 Eh \tTotal Ground State Energy: -1.1104 Eh\n",
      "Interatomic dist: 0.6350 Å \t Electronic Ground Energy: -1.9600 Eh \tNuclear Repulsion Energy: 0.8333 Eh \tTotal Ground State Energy: -1.1267 Eh\n",
      "Interatomic dist: 0.6850 Å \t Electronic Ground Energy: -1.9075 Eh \tNuclear Repulsion Energy: 0.7725 Eh \tTotal Ground State Energy: -1.1349 Eh\n",
      "Interatomic dist: 0.7350 Å \t Electronic Ground Energy: -1.8573 Eh \tNuclear Repulsion Energy: 0.7200 Eh \tTotal Ground State Energy: -1.1373 Eh\n",
      "Interatomic dist: 0.7850 Å \t Electronic Ground Energy: -1.8095 Eh \tNuclear Repulsion Energy: 0.6741 Eh \tTotal Ground State Energy: -1.1354 Eh\n",
      "Interatomic dist: 0.8350 Å \t Electronic Ground Energy: -1.7641 Eh \tNuclear Repulsion Energy: 0.6337 Eh \tTotal Ground State Energy: -1.1303 Eh\n",
      "Interatomic dist: 0.8850 Å \t Electronic Ground Energy: -1.7210 Eh \tNuclear Repulsion Energy: 0.5979 Eh \tTotal Ground State Energy: -1.1231 Eh\n",
      "Interatomic dist: 0.9350 Å \t Electronic Ground Energy: -1.6802 Eh \tNuclear Repulsion Energy: 0.5660 Eh \tTotal Ground State Energy: -1.1142 Eh\n",
      "Interatomic dist: 0.9850 Å \t Electronic Ground Energy: -1.6415 Eh \tNuclear Repulsion Energy: 0.5372 Eh \tTotal Ground State Energy: -1.1043 Eh\n",
      "Interatomic dist: 1.0350 Å \t Electronic Ground Energy: -1.6049 Eh \tNuclear Repulsion Energy: 0.5113 Eh \tTotal Ground State Energy: -1.0936 Eh\n",
      "Interatomic dist: 1.0850 Å \t Electronic Ground Energy: -1.5703 Eh \tNuclear Repulsion Energy: 0.4877 Eh \tTotal Ground State Energy: -1.0826 Eh\n",
      "Interatomic dist: 1.1350 Å \t Electronic Ground Energy: -1.5375 Eh \tNuclear Repulsion Energy: 0.4662 Eh \tTotal Ground State Energy: -1.0713 Eh\n",
      "Interatomic dist: 1.1850 Å \t Electronic Ground Energy: -1.5066 Eh \tNuclear Repulsion Energy: 0.4466 Eh \tTotal Ground State Energy: -1.0601 Eh\n",
      "Interatomic dist: 1.2350 Å \t Electronic Ground Energy: -1.4775 Eh \tNuclear Repulsion Energy: 0.4285 Eh \tTotal Ground State Energy: -1.0490 Eh\n",
      "Interatomic dist: 1.2850 Å \t Electronic Ground Energy: -1.4501 Eh \tNuclear Repulsion Energy: 0.4118 Eh \tTotal Ground State Energy: -1.0383 Eh\n"
     ]
    }
   ],
   "source": [
    "numpy_eigensolver_electronic_ground_energies: list = []\n",
    "numpy_eigensolver_nuclear_repulsion_energies: list = []\n",
    "numpy_eigensolver_total_ground_state_energies: list = []\n",
    "\n",
    "from qiskit_nature.algorithms import ExcitedStatesEigensolver, NumPyEigensolverFactory\n",
    "\n",
    "print(\"Total Ground State Energies of H2 Molecule using NumPyMinimumEigensolver algorithm\\n\")\n",
    "\n",
    "for dist in inter_atomic_dists:\n",
    "    qubit_op, num_particles, num_spin_orbitals, qubit_converter, es_problem = initial_state_preparation(dist, \"pa\")\n",
    "    # construct NumPyEigensolver - solver algorithm\n",
    "    numpy_solver = NumPyEigensolverFactory(use_default_filter_criterion=True)\n",
    "    # calculate excited states using the NumPyEigensolver solver algorithm\n",
    "    numpy_excited_states_calculation = ExcitedStatesEigensolver(qubit_converter, numpy_solver)\n",
    "    # Compute Ground and Excited States properties.\n",
    "    numpy_ground_excited_states_properties = numpy_excited_states_calculation.solve(es_problem)\n",
    "    \n",
    "    # Get Repulsion energy from properties of ground and excited states\n",
    "    nuclear_repulsion_energy = numpy_ground_excited_states_properties.nuclear_repulsion_energy\n",
    "    numpy_eigensolver_nuclear_repulsion_energies.append(nuclear_repulsion_energy)\n",
    "    \n",
    "    # constructs NumPyMinimumEigensolver - solver algorithm\n",
    "    numpy_minimum_solver = NumPyMinimumEigensolverFactory()\n",
    "    # compute the ground state using a minimum eigensolver\n",
    "    numpy_ground_state_calculation = GroundStateEigensolver(qubit_converter, numpy_minimum_solver)\n",
    "    # Compute Ground state properties - returns an Eigenstate result\n",
    "    numpy_ground_state_properties = numpy_ground_state_calculation.solve(es_problem)\n",
    "    \n",
    "    # Get electronic ground state energies\n",
    "    electronic_ground_energy = np.real(numpy_ground_state_properties.eigenenergies[0])\n",
    "    numpy_eigensolver_electronic_ground_energies.append(electronic_ground_energy)\n",
    "    \n",
    "    # Get the total ground state energy\n",
    "    total_ground_state_energy = (electronic_ground_energy + nuclear_repulsion_energy)\n",
    "    numpy_eigensolver_total_ground_state_energies.append(total_ground_state_energy)\n",
    "    \n",
    "    print(\"Interatomic dist: {:.4f} Å \\t Electronic Ground Energy: {:.4f} Eh \\tNuclear Repulsion Energy: {:.4f} Eh \\tTotal Ground State Energy: {:.4f} Eh\".format(dist, electronic_ground_energy, nuclear_repulsion_energy, total_ground_state_energy))\n",
    "    # print(\"Interatomic dist: {:.4f} Å \\t Total Ground State Energy: {:.4f} Eh\".format(dist, total_ground_state_energy))"
   ]
  },
  {
   "cell_type": "markdown",
   "id": "8fe3f1da-c847-4350-8cda-7073cb3e4750",
   "metadata": {},
   "source": [
    "## UCCSD"
   ]
  },
  {
   "cell_type": "code",
   "execution_count": 12,
   "id": "21a92917-46bc-4326-b55d-6c081af689e5",
   "metadata": {},
   "outputs": [
    {
     "name": "stdout",
     "output_type": "stream",
     "text": [
      "=== GROUND STATE ENERGY ===\n",
      " \n",
      "* Electronic ground state energy (Hartree): -1.450131840144\n",
      "  - computed part:      -1.450131840144\n",
      "~ Nuclear repulsion energy (Hartree): 0.411811059082\n",
      "> Total ground state energy (Hartree): -1.038320781063\n",
      " \n",
      "=== MEASURED OBSERVABLES ===\n",
      " \n",
      "  0:  # Particles: 2.000 S: 0.000 S^2: 0.000 M: 0.000\n",
      " \n",
      "=== DIPOLE MOMENTS ===\n",
      " \n",
      "~ Nuclear dipole moment (a.u.): [0.0  0.0  2.42829807]\n",
      " \n",
      "  0: \n",
      "  * Electronic dipole moment (a.u.): [0.0  0.0  2.42814868]\n",
      "    - computed part:      [0.0  0.0  2.42814868]\n",
      "  > Dipole moment (a.u.): [0.0  0.0  0.00014939]  Total: 0.00014939\n",
      "                 (debye): [0.0  0.0  0.00037971]  Total: 0.00037971\n",
      " \n"
     ]
    }
   ],
   "source": [
    "uccsd_total_ground_state_energies: list = []\n",
    "\n",
    "from IPython.display import display, clear_output\n",
    "\n",
    "def callback(eval_count, parameters, mean, std):\n",
    "    # overwrites same line when printing\n",
    "    display(\"Evaluation: {},\\tEnergy: {},\\tStd: {}\".format(eval_count, mean, std))\n",
    "    clear_output(wait=True)\n",
    "    counts.append(eval_count)\n",
    "    values.append(mean)\n",
    "    params.append(parameters)\n",
    "    deviation.append(std)\n",
    "    \n",
    "counts = []\n",
    "values = []\n",
    "params = []\n",
    "deviation = []\n",
    "\n",
    "backend = state_sim#Aer.get_backend(\"aer_simulator_statevector\")\n",
    "quantum_instance = QuantumInstance(backend)#Aer.get_backend(\"aer_simulator_statevector\"))\n",
    "optimizer = COBYLA(maxiter=10000)\n",
    "\n",
    "for dist in inter_atomic_dists:\n",
    "    qubit_op, num_particles, num_spin_orbitals, qubit_converter, es_problem = initial_state_preparation(dist, \"pa\")\n",
    "    \n",
    "    init_state = HartreeFock(num_spin_orbitals, num_particles, qubit_converter)\n",
    "    \n",
    "    ansatz_type = \"UCCSD\"\n",
    "\n",
    "    ansatz = UCCSD(\n",
    "        qubit_converter=qubit_converter,\n",
    "        num_particles=num_particles,\n",
    "        num_spin_orbitals=num_spin_orbitals,\n",
    "        reps=1,\n",
    "        initial_state=init_state,\n",
    "    )\n",
    "\n",
    "    ansatz.compose(init_state, front=True, inplace=True)\n",
    "\n",
    "    try:\n",
    "        initial_point = [0.01] * len(ansatz.ordered_parameters)\n",
    "    except:\n",
    "        initial_point = [0.01] * ansatz.num_parameters\n",
    "        \n",
    "    vqe_solver = VQEUCCFactory(\n",
    "        quantum_instance=quantum_instance,\n",
    "        optimizer=optimizer,\n",
    "        initial_point=initial_point,\n",
    "        ansatz=ansatz,\n",
    "        initial_state=init_state,\n",
    "        callback=callback\n",
    "    )\n",
    "\n",
    "    # result = vqe_solver.compute_minimum_eigenvalue(qubit_op)\n",
    "    calc = GroundStateEigensolver(qubit_converter, vqe_solver)\n",
    "    result = calc.solve(es_problem)\n",
    "    uccsd_total_ground_state_energies.append( result.total_energies[0] )\n",
    "    print(result)\n",
    "    "
   ]
  },
  {
   "cell_type": "markdown",
   "id": "08e2f9fa-1ad2-450e-a344-676b419c1c77",
   "metadata": {},
   "source": [
    "## RY"
   ]
  },
  {
   "cell_type": "code",
   "execution_count": 13,
   "id": "9954f89f-f201-4c65-a371-671522629c6a",
   "metadata": {},
   "outputs": [
    {
     "name": "stdout",
     "output_type": "stream",
     "text": [
      "{   'aux_operator_eigenvalues': None,\n",
      "    'cost_function_evals': 99,\n",
      "    'eigenstate': array([-1.03545129e-05+5.48277937e-17j,  9.62841484e-01-8.06345550e-17j,\n",
      "       -2.70067169e-01+1.04569749e-17j,  5.03048199e-06-1.53789431e-17j]),\n",
      "    'eigenvalue': (-1.4501318413140398+0j),\n",
      "    'optimal_parameters': {   ParameterVectorElement(θ[3]): -1.773583342697314,\n",
      "                              ParameterVectorElement(θ[2]): -1.9473021557180263,\n",
      "                              ParameterVectorElement(θ[1]): 2.1505045554576423,\n",
      "                              ParameterVectorElement(θ[0]): 1.8902636981331613},\n",
      "    'optimal_point': array([ 1.8902637 ,  2.15050456, -1.94730216, -1.77358334]),\n",
      "    'optimal_value': -1.4501318413140398,\n",
      "    'optimizer_evals': None,\n",
      "    'optimizer_time': 0.8404228687286377}\n",
      "Eigenvalue:\t -1.4501318413140398\n"
     ]
    }
   ],
   "source": [
    "ry_electronic_ground_energies: list = []\n",
    "ry_nuclear_repulsion_energies: list = []#numpy_eigensolver_nuclear_repulsion_energies\n",
    "ry_total_ground_state_energies: list = []\n",
    "\n",
    "from qiskit.utils import QuantumInstance\n",
    "from qiskit_nature.algorithms import ExcitedStatesEigensolver, NumPyEigensolverFactory, VQEUCCFactory\n",
    "\n",
    "from IPython.display import display, clear_output\n",
    "\n",
    "def callback(eval_count, parameters, mean, std):\n",
    "    # overwrites same line when printing\n",
    "    display(\"Evaluation: {},\\tEnergy: {},\\tStd: {}\".format(eval_count, mean, std))\n",
    "    clear_output(wait=True)\n",
    "    counts.append(eval_count)\n",
    "    values.append(mean)\n",
    "    params.append(parameters)\n",
    "    deviation.append(std)\n",
    "    \n",
    "counts = []\n",
    "values = []\n",
    "params = []\n",
    "deviation = []\n",
    "\n",
    "backend = state_sim\n",
    "quantum_instance = QuantumInstance(backend)\n",
    "optimizer = COBYLA(maxiter=10000)\n",
    "\n",
    "print(\"Total Ground State Energies of H2 Molecule using UCCSD ansatz\\n\")\n",
    "# dist = 0.725\n",
    "for dist in inter_atomic_dists:\n",
    "    qubit_op, num_particles, num_spin_orbitals, qubit_converter, es_problem = initial_state_preparation(dist, \"pa\")\n",
    "\n",
    "    init_state = HartreeFock(num_spin_orbitals, num_particles, qubit_converter)\n",
    "\n",
    "    # init_state.draw(\"mpl\", initial_state=True)\n",
    "\n",
    "    # Setting up TwoLocal for our ansatz\n",
    "    ansatz_type = \"RY\"\n",
    "\n",
    "    # Single qubit rotations that are placed on all qubits with independent parameters\n",
    "    rotation_blocks = [\"ry\"]\n",
    "    # Entangling gates\n",
    "    entanglement_blocks = \"cx\"\n",
    "    # How the qubits are entangled?\n",
    "    entanglement = 'linear'\n",
    "    # Repetitions of rotation_blocks + entanglement_blocks with independent parameters\n",
    "    repetitions = 1\n",
    "    # Skipoing the final rotation_blocks layer\n",
    "    skip_final_rotation_layer = False\n",
    "\n",
    "    ansatz = TwoLocal(\n",
    "        qubit_op.num_qubits,\n",
    "        rotation_blocks,\n",
    "        entanglement_blocks,\n",
    "        reps=repetitions,\n",
    "        entanglement=entanglement,\n",
    "        skip_final_rotation_layer=skip_final_rotation_layer,\n",
    "        insert_barriers=True)\n",
    "\n",
    "    # Add the initial state\n",
    "    ansatz.compose(init_state, front=True, inplace=True)   \n",
    "    \n",
    "\n",
    "    try:\n",
    "        initial_point = [0.01] * len(ansatz.ordered_parameters)\n",
    "    except:\n",
    "        initial_point = [0.01] * ansatz.num_parameters\n",
    "\n",
    "    algorithm = VQE(\n",
    "        ansatz,\n",
    "        optimizer=optimizer,\n",
    "        quantum_instance=quantum_instance,\n",
    "        callback=callback,\n",
    "        initial_point=initial_point\n",
    "    )\n",
    "\n",
    "    result = algorithm.compute_minimum_eigenvalue(qubit_op)\n",
    "    print(result)\n",
    "    # ry_total_ground_state_energies.append( np.real(result.eigenvalue) )\n",
    "    ry_electronic_ground_energies.append( np.real(result.eigenvalue) )\n",
    "    print(\"Eigenvalue:\\t\", np.real(result.eigenvalue))\n",
    "    # print(\"RY Energies: \", ry_total_ground_state_energies)"
   ]
  },
  {
   "cell_type": "code",
   "execution_count": 14,
   "id": "5948589f-38c0-4db6-af02-e89b6b309ff0",
   "metadata": {},
   "outputs": [
    {
     "name": "stdout",
     "output_type": "stream",
     "text": [
      "[-1.0404683988962082, -1.0830479628737155, -1.1103901118943322, -1.126695815436928, -1.134945013642808, -1.137306035166064, -1.1353771819157894, -1.1303411527022493, -1.123073653200851, -1.1142255556496237, -1.1042863387853479, -1.093631953934539, -1.0825591839912527, -1.0713087509986916, -1.0600797103933326, -1.0490379319191938, -1.038320782232328]\n"
     ]
    }
   ],
   "source": [
    "for i in range(len(inter_atomic_dists)):\n",
    "    ry_total_ground_state_energies.append( ry_electronic_ground_energies[i] + numpy_eigensolver_nuclear_repulsion_energies[i] )\n",
    "print(ry_total_ground_state_energies)"
   ]
  },
  {
   "cell_type": "markdown",
   "id": "2d266ca4-05e1-45a0-a6d4-d1e5b6da233f",
   "metadata": {},
   "source": [
    "## RYRZ"
   ]
  },
  {
   "cell_type": "code",
   "execution_count": 15,
   "id": "6299ee31-cb57-4c4e-9742-a3bb0b0119f0",
   "metadata": {},
   "outputs": [
    {
     "name": "stdout",
     "output_type": "stream",
     "text": [
      "{   'aux_operator_eigenvalues': None,\n",
      "    'cost_function_evals': 45,\n",
      "    'eigenstate': array([-0.70668103+3.38142912e-03j,  0.01659657+1.93343939e-05j,\n",
      "       -0.00406268-8.33766285e-05j,  0.70730823-3.68863124e-03j]),\n",
      "    'eigenvalue': (-1.2635481106368929+0j),\n",
      "    'optimal_parameters': {   ParameterVectorElement(θ[3]): 0.00999989345949242,\n",
      "                              ParameterVectorElement(θ[6]): -0.00014347465839836425,\n",
      "                              ParameterVectorElement(θ[4]): -0.003504447652385708,\n",
      "                              ParameterVectorElement(θ[5]): -0.01420822272187525,\n",
      "                              ParameterVectorElement(θ[7]): -0.00014257663192926082,\n",
      "                              ParameterVectorElement(θ[1]): 0.029212823032725196,\n",
      "                              ParameterVectorElement(θ[2]): -0.00014245350485259274,\n",
      "                              ParameterVectorElement(θ[0]): 1.569750715218314},\n",
      "    'optimal_point': array([ 1.56975072e+00,  2.92128230e-02, -1.42453505e-04,  9.99989346e-03,\n",
      "       -3.50444765e-03, -1.42082227e-02, -1.43474658e-04, -1.42576632e-04]),\n",
      "    'optimal_value': -1.2635481106368929,\n",
      "    'optimizer_evals': None,\n",
      "    'optimizer_time': 0.32556986808776855}\n"
     ]
    }
   ],
   "source": [
    "ryrz_electronic_ground_energies: list = []\n",
    "ryrz_nuclear_repulsion_energies: list = []\n",
    "ryrz_total_ground_state_energies: list = []\n",
    "\n",
    "from qiskit.utils import QuantumInstance\n",
    "from qiskit_nature.algorithms import ExcitedStatesEigensolver, NumPyEigensolverFactory, VQEUCCFactory\n",
    "\n",
    "from IPython.display import display, clear_output\n",
    "\n",
    "def callback(eval_count, parameters, mean, std):\n",
    "    # overwrites same line when printing\n",
    "    display(\"Evaluation: {},\\tEnergy: {},\\tStd: {}\".format(eval_count, mean, std))\n",
    "    clear_output(wait=True)\n",
    "    counts.append(eval_count)\n",
    "    values.append(mean)\n",
    "    params.append(parameters)\n",
    "    deviation.append(std)\n",
    "    \n",
    "counts = []\n",
    "values = []\n",
    "params = []\n",
    "deviation = []\n",
    "\n",
    "# provider = IBMQ.get_provider(hub='ibm-q')\n",
    "# backend = provider.get_backend('ibmq_toronto')\n",
    "backend = state_sim#Aer.get_backend(\"aer_simulator_statevector\")\n",
    "quantum_instance = QuantumInstance(backend)\n",
    "optimizer = SLSQP(maxiter=5)\n",
    "# optimizer = COBYLA(maxiter=10000)\n",
    "\n",
    "print(\"Total Ground State Energies of H2 Molecule using RYRZ ansatz\\n\")\n",
    "\n",
    "for dist in inter_atomic_dists:\n",
    "    qubit_op, num_particles, num_spin_orbitals, qubit_converter, es_problem = initial_state_preparation(dist, \"pa\")\n",
    "\n",
    "    init_state = HartreeFock(num_spin_orbitals, num_particles, qubit_converter)\n",
    "\n",
    "    # init_state.draw(\"mpl\", initial_state=True)\n",
    "\n",
    "    # Setting up TwoLocal for our ansatz\n",
    "    ansatz_type = \"RYRZ\"\n",
    "\n",
    "    # Single qubit rotations that are placed on all qubits with independent parameters\n",
    "    rotation_blocks = [\"ry\", \"rz\"]\n",
    "    # Entangling gates\n",
    "    entanglement_blocks = \"cx\"\n",
    "    # How the qubits are entangled?\n",
    "    entanglement = 'linear'\n",
    "    # Repetitions of rotation_blocks + entanglement_blocks with independent parameters\n",
    "    repetitions = 1\n",
    "    # Skipoing the final rotation_blocks layer\n",
    "    skip_final_rotation_layer = False\n",
    "\n",
    "    ansatz = TwoLocal(\n",
    "        qubit_op.num_qubits,\n",
    "        rotation_blocks,\n",
    "        entanglement_blocks,\n",
    "        reps=repetitions,\n",
    "        entanglement=entanglement,\n",
    "        skip_final_rotation_layer=skip_final_rotation_layer,\n",
    "        insert_barriers=True)\n",
    "\n",
    "    # Add the initial state\n",
    "    ansatz.compose(init_state, front=True, inplace=True)\n",
    "\n",
    "    try:\n",
    "        initial_point = [0.01] * len(ansatz.ordered_parameters)\n",
    "    except:\n",
    "        initial_point = [0.01] * ansatz.num_parameters\n",
    "\n",
    "    algorithm = VQE(\n",
    "        ansatz,\n",
    "        optimizer=optimizer,\n",
    "        quantum_instance=state_sim,\n",
    "        callback=callback,\n",
    "        initial_point=initial_point\n",
    "    )\n",
    "\n",
    "    result = algorithm.compute_minimum_eigenvalue(qubit_op)\n",
    "    print(result)\n",
    "    ryrz_electronic_ground_energies.append( np.real(result.eigenvalue) )\n",
    "    # print(np.real(result.eigenvalue))\n",
    "    "
   ]
  },
  {
   "cell_type": "code",
   "execution_count": 16,
   "id": "9e44e84c-7461-4470-993e-544cad0bc5dd",
   "metadata": {},
   "outputs": [
    {
     "name": "stdout",
     "output_type": "stream",
     "text": [
      "[-0.02922626659387606, -0.167286106881391, -0.28191318929287357, -0.37760329187301533, -0.457813138293627, -0.5253013116431001, -0.582316060737887, -0.6307014279008527, -0.6719639855547942, -0.7073241115193327, -0.7377618516977527, -0.7640605983410955, -0.7868473564913865, -0.8066279697973264, -0.8238160775867104, -0.8387555405258948, -0.851737051555181]\n"
     ]
    }
   ],
   "source": [
    "for i in range(len(inter_atomic_dists)):\n",
    "    ryrz_total_ground_state_energies.append( ryrz_electronic_ground_energies[i] + numpy_eigensolver_nuclear_repulsion_energies[i] )\n",
    "print(ryrz_total_ground_state_energies)"
   ]
  },
  {
   "cell_type": "markdown",
   "id": "cf351e6c-8284-418d-8380-541d9a310814",
   "metadata": {
    "tags": []
   },
   "source": [
    "## A"
   ]
  },
  {
   "cell_type": "code",
   "execution_count": 17,
   "id": "ae611a98-8a10-43a0-b09d-1a760bd298e1",
   "metadata": {},
   "outputs": [
    {
     "name": "stdout",
     "output_type": "stream",
     "text": [
      "None -2.1315554358155455 ===\n",
      " {   'aux_operator_eigenvalues': None,\n",
      "    'cost_function_evals': 28,\n",
      "    'eigenstate': array([ 0.        +0.00000000e+00j,  0.96280874+2.05457758e-05j,\n",
      "       -0.27018387+2.71049812e-05j, -0.        +0.00000000e+00j]),\n",
      "    'eigenvalue': (-1.4501318204022116+0j),\n",
      "    'optimal_parameters': {   ParameterVectorElement(θ[1]): 0.27358399453517007,\n",
      "                              ParameterVectorElement(θ[0]): -4.2678830933482564e-05},\n",
      "    'optimal_point': array([-4.26788309e-05,  2.73583995e-01]),\n",
      "    'optimal_value': -1.4501318204022116,\n",
      "    'optimizer_evals': None,\n",
      "    'optimizer_time': 0.08060503005981445}\n"
     ]
    }
   ],
   "source": [
    "a_electronic_ground_energies: list = []\n",
    "a_total_ground_state_energies: list = []\n",
    "\n",
    "from IPython.display import display, clear_output\n",
    "\n",
    "def callback(eval_count, parameters, mean, std):\n",
    "    # overwrites same line when printing\n",
    "    display(\"Evaluation: {},\\tEnergy: {},\\tStd: {}\".format(eval_count, mean, std))\n",
    "    clear_output(wait=True)\n",
    "    counts.append(eval_count)\n",
    "    values.append(mean)\n",
    "    params.append(parameters)\n",
    "    deviation.append(std)\n",
    "    \n",
    "counts = []\n",
    "values = []\n",
    "params = []\n",
    "deviation = []\n",
    "\n",
    "# ansatz = 0\n",
    "\n",
    "backend = state_sim#Aer.get_backend(\"aer_simulator_statevector\")\n",
    "quantum_instance = QuantumInstance(backend)#Aer.get_backend(\"aer_simulator_statevector\"))\n",
    "optimizer = COBYLA(maxiter=10000)\n",
    "# optimizer = SLSQP(maxiter=5)\n",
    "\n",
    "for dist in inter_atomic_dists:\n",
    "    qubit_op, num_particles, num_spin_orbitals, qubit_converter, es_problem = initial_state_preparation(dist, \"pa\")\n",
    "\n",
    "    init_state = HartreeFock(num_spin_orbitals, num_particles, qubit_converter)\n",
    "\n",
    "    ansatz = A_ansatz(qubit_op, init_state)\n",
    "\n",
    "    try:\n",
    "        initial_point = [0.01] * len(ansatz.ordered_parameters)\n",
    "    except:\n",
    "        initial_point = [0.01] * ansatz.num_parameters\n",
    "\n",
    "    vqe_solver = VQE(\n",
    "        ansatz=ansatz,\n",
    "        optimizer=optimizer,\n",
    "        initial_point=initial_point,\n",
    "        callback=callback,\n",
    "        quantum_instance=quantum_instance,\n",
    "    )\n",
    "\n",
    "    result = vqe_solver.compute_minimum_eigenvalue(qubit_op)\n",
    "    a_electronic_ground_energies.append( np.real(result.eigenvalue) )\n",
    "    print(result.aux_operator_eigenvalues, min(values), \"===\\n\", result)\n",
    "    # values.clear()"
   ]
  },
  {
   "cell_type": "code",
   "execution_count": 18,
   "id": "7913ce16-0432-488b-a402-9460ace147aa",
   "metadata": {},
   "outputs": [
    {
     "name": "stdout",
     "output_type": "stream",
     "text": [
      "[-1.0404684027343185, -1.0830479599990062, -1.1103901114081967, -1.1266958049320177, -1.1349449951277302, -1.137306032211915, -1.1353771806210093, -1.13034114427498, -1.1230736353282387, -1.1142255486016743, -1.1042863368854823, -1.0936319476803351, -1.082559169207485, -1.0713087451957704, -1.0600797125410413, -1.049037929869333, -1.0383207613204997]\n"
     ]
    }
   ],
   "source": [
    "for i in range(len(inter_atomic_dists)):\n",
    "    a_total_ground_state_energies.append( a_electronic_ground_energies[i] + numpy_eigensolver_nuclear_repulsion_energies[i] )\n",
    "print(a_total_ground_state_energies)"
   ]
  },
  {
   "cell_type": "markdown",
   "id": "b23c8e0f-7f53-4a16-9bcb-274e1b60749a",
   "metadata": {},
   "source": [
    "## AT"
   ]
  },
  {
   "cell_type": "code",
   "execution_count": 19,
   "id": "9f24b739-2f15-4abc-8866-9a94bce0e977",
   "metadata": {},
   "outputs": [
    {
     "name": "stdout",
     "output_type": "stream",
     "text": [
      "None -2.1315554406862978 ===\n",
      " {   'aux_operator_eigenvalues': None,\n",
      "    'cost_function_evals': 22,\n",
      "    'eigenstate': array([ 0.        +0.00000000e+00j,  0.96282394-5.89559630e-17j,\n",
      "       -0.2701297 -7.77730134e-17j,  0.        +0.00000000e+00j]),\n",
      "    'eigenvalue': (-1.4501318335952542+0j),\n",
      "    'optimal_parameters': {ParameterVectorElement(θ[0]): 0.273527734375},\n",
      "    'optimal_point': array([0.27352773]),\n",
      "    'optimal_value': -1.4501318335952542,\n",
      "    'optimizer_evals': None,\n",
      "    'optimizer_time': 0.123870849609375}\n"
     ]
    }
   ],
   "source": [
    "at_electronic_ground_energies: list = []\n",
    "at_total_ground_state_energies: list = []\n",
    "\n",
    "from IPython.display import display, clear_output\n",
    "\n",
    "def callback(eval_count, parameters, mean, std):\n",
    "    # overwrites same line when printing\n",
    "    display(\"Evaluation: {},\\tEnergy: {},\\tStd: {}\".format(eval_count, mean, std))\n",
    "    clear_output(wait=True)\n",
    "    counts.append(eval_count)\n",
    "    values.append(mean)\n",
    "    params.append(parameters)\n",
    "    deviation.append(std)\n",
    "    \n",
    "counts = []\n",
    "values = []\n",
    "params = []\n",
    "deviation = []\n",
    "\n",
    "# ansatz = 0\n",
    "\n",
    "backend = state_sim#Aer.get_backend(\"aer_simulator_statevector\")\n",
    "quantum_instance = QuantumInstance(backend=backend)#Aer.get_backend(\"aer_simulator_statevector\"))\n",
    "optimizer = COBYLA(maxiter=10000)\n",
    "# optimizer = SLSQP(maxiter=5)\n",
    "\n",
    "for dist in inter_atomic_dists:\n",
    "    qubit_op, num_particles, num_spin_orbitals, qubit_converter, es_problem = initial_state_preparation(dist, \"pa\")\n",
    "\n",
    "    init_state = HartreeFock(num_spin_orbitals, num_particles, qubit_converter)\n",
    "\n",
    "    ansatz = AT_ansatz(qubit_op, init_state)\n",
    "\n",
    "    try:\n",
    "        initial_point = [0.01] * len(ansatz.ordered_parameters)\n",
    "    except:\n",
    "        initial_point = [0.01] * ansatz.num_parameters\n",
    "\n",
    "    vqe_solver = VQE(\n",
    "        ansatz=ansatz,\n",
    "        optimizer=optimizer,\n",
    "        initial_point=initial_point,\n",
    "        callback=callback,\n",
    "        quantum_instance=quantum_instance,\n",
    "    )\n",
    "\n",
    "    result = vqe_solver.compute_minimum_eigenvalue(qubit_op)\n",
    "    at_electronic_ground_energies.append( np.real(result.eigenvalue) )\n",
    "    print(result.aux_operator_eigenvalues, min(values), \"===\\n\", result)\n",
    "    # values.clear()"
   ]
  },
  {
   "cell_type": "code",
   "execution_count": 20,
   "id": "4ec4e4f1-51f2-4877-87a8-30634c44a6ab",
   "metadata": {},
   "outputs": [
    {
     "name": "stdout",
     "output_type": "stream",
     "text": [
      "[-1.0404683801423569, -1.0830479510855513, -1.1103901032108197, -1.1266958159377585, -1.1349450054987238, -1.1373060213295663, -1.1353771603648806, -1.1303411368965774, -1.1230736523743183, -1.1142255419219522, -1.1042863243462457, -1.0936319469877918, -1.0825591864754616, -1.0713087397402068, -1.0600797035588996, -1.0490379254338762, -1.0383207745135423]\n"
     ]
    }
   ],
   "source": [
    "for i in range(len(inter_atomic_dists)):\n",
    "    at_total_ground_state_energies.append( at_electronic_ground_energies[i] + numpy_eigensolver_nuclear_repulsion_energies[i] )\n",
    "print(at_total_ground_state_energies)"
   ]
  },
  {
   "cell_type": "code",
   "execution_count": null,
   "id": "ef413548-61c8-4d7a-a605-22fa907c4270",
   "metadata": {},
   "outputs": [],
   "source": []
  },
  {
   "cell_type": "code",
   "execution_count": 24,
   "id": "c553759f-5d5a-4583-91b6-261ba3ded25b",
   "metadata": {},
   "outputs": [
    {
     "data": {
      "image/png": "[encoded data removed]",
      "text/plain": [
       "<Figure size 1382.4x777.6 with 1 Axes>"
      ]
     },
     "metadata": {
      "needs_background": "light"
     },
     "output_type": "display_data"
    }
   ],
   "source": [
    "fig, ax = plt.subplots(1, 1, figsize=(19.20, 10.80))\n",
    "# plt.title(\"$H_2$ Molecule Energy vs Inter-atomic distances\\t-\\tParity Mapper\")\n",
    "\n",
    "# fig.text(0.75, 0.65, f'Exact Energy: {numpy_exact_energy:.3f} Eh')\n",
    "\n",
    "plt.rc('font', size=16)\n",
    "plt.rc('axes', labelsize=16)\n",
    "plt.rc('xtick', labelsize=16) \n",
    "plt.rc('ytick', labelsize=16)\n",
    "plt.rc('legend', fontsize=16)\n",
    "\n",
    "# plt.xlim([-1, 51])\n",
    "\n",
    "# ax.set_facecolor(\"#293952\")\n",
    "ax.set_xlabel('Inter-Atomic Distances (Angstrom)')\n",
    "ax.set_ylabel('Energy (Eh)')\n",
    "ax.grid()\n",
    "\n",
    "# plt.plot(inter_atomic_dists, numpy_eigensolver_electronic_ground_energies, label=\"Exact\", color=\"#000000\", linewidth=5, linestyle=None)\n",
    "# plt.plot(inter_atomic_dists, uccsd_total_ground_state_energies, label=\"UCCSD\", linewidth=3, linestyle=\"-.\")\n",
    "# plt.plot(inter_atomic_dists, ryrz_electronic_ground_energies, label=\"RYRZ\", linewidth=3, linestyle=\"--\")\n",
    "\n",
    "\n",
    "plt.plot(inter_atomic_dists, numpy_eigensolver_total_ground_state_energies, label=\"Exact\", color=\"#000000\", linewidth=5, linestyle=None)\n",
    "plt.plot(inter_atomic_dists, uccsd_total_ground_state_energies, label=\"UCCSD\", linewidth=3, linestyle=\"-.\")\n",
    "plt.plot(inter_atomic_dists, ry_total_ground_state_energies, label=\"RY\", linewidth=3, linestyle=\"--\")\n",
    "# plt.plot(inter_atomic_dists, ryrz_total_ground_state_energies, label=\"RYRZ\", linewidth=3, linestyle=\":\")\n",
    "plt.plot(inter_atomic_dists, a_total_ground_state_energies, label=\"A\", linewidth=3, linestyle=None)\n",
    "plt.plot(inter_atomic_dists, at_total_ground_state_energies, label=\"AT\", linewidth=3, linestyle=\"-.\")\n",
    "\n",
    "\n",
    "plt.legend()\n",
    "\n",
    "fig.savefig(\"vqe_h2_pa_id_all.png\", dpi=200)"
   ]
  },
  {
   "cell_type": "code",
   "execution_count": null,
   "id": "9f033091-37dd-45f2-9d99-8bc99ffe3a67",
   "metadata": {},
   "outputs": [],
   "source": []
  },
  {
   "cell_type": "code",
   "execution_count": null,
   "id": "ac7a7c94-d0b2-478b-b006-d678b678c546",
   "metadata": {},
   "outputs": [],
   "source": []
  },
  {
   "cell_type": "code",
   "execution_count": null,
   "id": "7df3ebe8-8a5a-40d8-b278-88f958ac9ac7",
   "metadata": {},
   "outputs": [],
   "source": []
  },
  {
   "cell_type": "code",
   "execution_count": null,
   "id": "f14150c0-a3c6-4d5c-b600-d4865499e8ab",
   "metadata": {},
   "outputs": [],
   "source": []
  }
 ],
 "metadata": {
  "kernelspec": {
   "display_name": "Qiskit v0.35.0 (ipykernel)",
   "language": "python",
   "name": "python3"
  },
  "language_info": {
   "codemirror_mode": {
    "name": "ipython",
    "version": 3
   },
   "file_extension": ".py",
   "mimetype": "text/x-python",
   "name": "python",
   "nbconvert_exporter": "python",
   "pygments_lexer": "ipython3",
   "version": "3.8.13"
  },
  "widgets": {
   "application/vnd.jupyter.widget-state+json": {
    "state": {
     "0607bf8c36af45beacd228db20ae4841": {
      "model_module": "@jupyter-widgets/base",
      "model_module_version": "1.2.0",
      "model_name": "LayoutModel",
      "state": {
       "grid_area": "right",
       "padding": "0px 0px 0px 0px",
       "width": "70px"
      }
     },
     "11bec93d4fa24d60885334551b894cc9": {
      "model_module": "@jupyter-widgets/base",
      "model_module_version": "1.2.0",
      "model_name": "LayoutModel",
      "state": {
       "margin": "0px 0px 10px 0px"
      }
     },
     "2dc849a68e9e4a588a089ecde97f38c6": {
      "model_module": "@jupyter-widgets/base",
      "model_module_version": "1.2.0",
      "model_name": "LayoutModel",
      "state": {
       "grid_template_areas": "\n                                       \". . . . right \"\n                                        ",
       "grid_template_columns": "20% 20% 20% 20% 20%",
       "width": "100%"
      }
     },
     "3125414d6af84cc88ae6a1de4570a274": {
      "model_module": "@jupyter-widgets/controls",
      "model_module_version": "1.5.0",
      "model_name": "HTMLModel",
      "state": {
       "layout": "IPY_MODEL_a94dad4ff4f4425ea6516fb376239be1",
       "style": "IPY_MODEL_5bcbec9d9a7c4394847c0006a187d73c",
       "value": "<h5>Queue</h5>"
      }
     },
     "3678bb875a1b4290a499172f4c0ecead": {
      "model_module": "@jupyter-widgets/base",
      "model_module_version": "1.2.0",
      "model_name": "LayoutModel",
      "state": {
       "margin": "0px 0px 0px 37px",
       "width": "600px"
      }
     },
     "3aa7f7cc6ba74ba08f8ddde54628d72d": {
      "model_module": "@jupyter-widgets/base",
      "model_module_version": "1.2.0",
      "model_name": "LayoutModel",
      "state": {}
     },
     "4bdf468fa964448aa4c3b903e2f7eae5": {
      "model_module": "@jupyter-widgets/controls",
      "model_module_version": "1.5.0",
      "model_name": "GridBoxModel",
      "state": {
       "children": [
        "IPY_MODEL_bcc9323b6c654583970e56259799e7fb"
       ],
       "layout": "IPY_MODEL_2dc849a68e9e4a588a089ecde97f38c6"
      }
     },
     "568260603bf14e479552563ce47667f7": {
      "model_module": "@jupyter-widgets/controls",
      "model_module_version": "1.5.0",
      "model_name": "HTMLModel",
      "state": {
       "layout": "IPY_MODEL_efe1275887a546ef8ee96298be3ea946",
       "style": "IPY_MODEL_9f7a476804de49d78347e01f2ccbca72",
       "value": "<h5>Status</h5>"
      }
     },
     "5bcbec9d9a7c4394847c0006a187d73c": {
      "model_module": "@jupyter-widgets/controls",
      "model_module_version": "1.5.0",
      "model_name": "DescriptionStyleModel",
      "state": {
       "description_width": ""
      }
     },
     "6942c7993cd14651980f78431ab5e5fd": {
      "model_module": "@jupyter-widgets/controls",
      "model_module_version": "1.5.0",
      "model_name": "DescriptionStyleModel",
      "state": {
       "description_width": ""
      }
     },
     "87688fa9a2fc45e69b9569ba692db19b": {
      "model_module": "@jupyter-widgets/controls",
      "model_module_version": "1.5.0",
      "model_name": "HBoxModel",
      "state": {
       "children": [
        "IPY_MODEL_9fd30e948f4b4daca7ff386c718425b1",
        "IPY_MODEL_92327b252e004d168393bacff5e77ce4",
        "IPY_MODEL_568260603bf14e479552563ce47667f7",
        "IPY_MODEL_3125414d6af84cc88ae6a1de4570a274",
        "IPY_MODEL_a9f59a281e064469b8cdf66c9422bdd9"
       ],
       "layout": "IPY_MODEL_3678bb875a1b4290a499172f4c0ecead"
      }
     },
     "905bb3d16dcb4969b87e996173f25097": {
      "model_module": "@jupyter-widgets/controls",
      "model_module_version": "1.5.0",
      "model_name": "DescriptionStyleModel",
      "state": {
       "description_width": ""
      }
     },
     "92327b252e004d168393bacff5e77ce4": {
      "model_module": "@jupyter-widgets/controls",
      "model_module_version": "1.5.0",
      "model_name": "HTMLModel",
      "state": {
       "layout": "IPY_MODEL_d6c543ba19a94ef58bfc2d2dbd498642",
       "style": "IPY_MODEL_c4da80755ce24503a3edd678fa3b5662",
       "value": "<h5>Backend</h5>"
      }
     },
     "9dd2ea43f8fc4c80a2a710969b8a1d1c": {
      "model_module": "@jupyter-widgets/controls",
      "model_module_version": "1.5.0",
      "model_name": "HTMLModel",
      "state": {
       "layout": "IPY_MODEL_11bec93d4fa24d60885334551b894cc9",
       "style": "IPY_MODEL_905bb3d16dcb4969b87e996173f25097",
       "value": "<p style='font-family: IBM Plex Sans, Arial, Helvetica, sans-serif; font-size: 20px; font-weight: medium;'>Circuit Properties</p>"
      }
     },
     "9f7a476804de49d78347e01f2ccbca72": {
      "model_module": "@jupyter-widgets/controls",
      "model_module_version": "1.5.0",
      "model_name": "DescriptionStyleModel",
      "state": {
       "description_width": ""
      }
     },
     "9fd30e948f4b4daca7ff386c718425b1": {
      "model_module": "@jupyter-widgets/controls",
      "model_module_version": "1.5.0",
      "model_name": "HTMLModel",
      "state": {
       "layout": "IPY_MODEL_a77ceb0dd25945f681a8a6ab69a1d33f",
       "style": "IPY_MODEL_da399a4be671465ebe35ce4c37376ced",
       "value": "<h5>Job ID</h5>"
      }
     },
     "a77ceb0dd25945f681a8a6ab69a1d33f": {
      "model_module": "@jupyter-widgets/base",
      "model_module_version": "1.2.0",
      "model_name": "LayoutModel",
      "state": {
       "width": "190px"
      }
     },
     "a94dad4ff4f4425ea6516fb376239be1": {
      "model_module": "@jupyter-widgets/base",
      "model_module_version": "1.2.0",
      "model_name": "LayoutModel",
      "state": {
       "width": "70px"
      }
     },
     "a9f59a281e064469b8cdf66c9422bdd9": {
      "model_module": "@jupyter-widgets/controls",
      "model_module_version": "1.5.0",
      "model_name": "HTMLModel",
      "state": {
       "layout": "IPY_MODEL_3aa7f7cc6ba74ba08f8ddde54628d72d",
       "style": "IPY_MODEL_6942c7993cd14651980f78431ab5e5fd",
       "value": "<h5>Message</h5>"
      }
     },
     "bcc9323b6c654583970e56259799e7fb": {
      "model_module": "@jupyter-widgets/controls",
      "model_module_version": "1.5.0",
      "model_name": "ButtonModel",
      "state": {
       "button_style": "primary",
       "description": "Clear",
       "layout": "IPY_MODEL_0607bf8c36af45beacd228db20ae4841",
       "style": "IPY_MODEL_c651e0254dd94d2aadb350d57dee390d"
      }
     },
     "c4da80755ce24503a3edd678fa3b5662": {
      "model_module": "@jupyter-widgets/controls",
      "model_module_version": "1.5.0",
      "model_name": "DescriptionStyleModel",
      "state": {
       "description_width": ""
      }
     },
     "c651e0254dd94d2aadb350d57dee390d": {
      "model_module": "@jupyter-widgets/controls",
      "model_module_version": "1.5.0",
      "model_name": "ButtonStyleModel",
      "state": {}
     },
     "d6c543ba19a94ef58bfc2d2dbd498642": {
      "model_module": "@jupyter-widgets/base",
      "model_module_version": "1.2.0",
      "model_name": "LayoutModel",
      "state": {
       "width": "145px"
      }
     },
     "da399a4be671465ebe35ce4c37376ced": {
      "model_module": "@jupyter-widgets/controls",
      "model_module_version": "1.5.0",
      "model_name": "DescriptionStyleModel",
      "state": {
       "description_width": ""
      }
     },
     "efe1275887a546ef8ee96298be3ea946": {
      "model_module": "@jupyter-widgets/base",
      "model_module_version": "1.2.0",
      "model_name": "LayoutModel",
      "state": {
       "width": "95px"
      }
     }
    },
    "version_major": 2,
    "version_minor": 0
   }
  }
 },
 "nbformat": 4,
 "nbformat_minor": 5
}
