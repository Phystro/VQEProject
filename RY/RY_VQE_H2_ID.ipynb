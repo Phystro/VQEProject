{
 "cells": [
  {
   "cell_type": "markdown",
   "id": "a918b151-41ec-404d-9cfd-d5f457009a94",
   "metadata": {},
   "source": [
    "# Variational Quantum Eigensolver - Ground State Energy for $H2$ Molecule using the RY ansatz"
   ]
  },
  {
   "cell_type": "code",
   "execution_count": 17,
   "id": "f1c8fd53-4113-4970-a853-1fe7ffd34d4c",
   "metadata": {},
   "outputs": [
    {
     "name": "stderr",
     "output_type": "stream",
     "text": [
      "ibmqfactory.load_account:WARNING:2022-05-04 19:47:42,654: Credentials are already in use. The existing account in the session will be replaced.\n"
     ]
    }
   ],
   "source": [
    "import numpy as np\n",
    "import matplotlib.pyplot as plt\n",
    "\n",
    "# Importing standard Qiskit libraries\n",
    "from qiskit import QuantumCircuit, transpile, IBMQ\n",
    "\n",
    "from qiskit.tools.jupyter import *\n",
    "\n",
    "from qiskit.visualization import *\n",
    "\n",
    "from ibm_quantum_widgets import *\n",
    "\n",
    "from qiskit.providers.aer import QasmSimulator, StatevectorSimulator\n",
    "\n",
    "from qiskit.utils import QuantumInstance\n",
    "\n",
    "# Loading your IBM Quantum account(s)\n",
    "provider = IBMQ.load_account()"
   ]
  },
  {
   "cell_type": "code",
   "execution_count": 18,
   "id": "3f8990ff-ecc1-4849-9e13-d551f59bc9ad",
   "metadata": {},
   "outputs": [],
   "source": [
    "# Chemistry Drivers\n",
    "from qiskit_nature.drivers.second_quantization.pyscfd import PySCFDriver\n",
    "\n",
    "from qiskit_nature.transformers.second_quantization.electronic import FreezeCoreTransformer\n",
    "\n",
    "from qiskit.opflow.primitive_ops import Z2Symmetries\n",
    "\n",
    "# Electroinic structure problem\n",
    "from qiskit_nature.problems.second_quantization.electronic import ElectronicStructureProblem\n",
    "\n",
    "# Qubit converter\n",
    "from qiskit_nature.converters.second_quantization.qubit_converter import QubitConverter\n",
    "\n",
    "# Mappers\n",
    "from qiskit_nature.mappers.second_quantization import ParityMapper, BravyiKitaevMapper, JordanWignerMapper\n",
    "\n",
    "# Initial state\n",
    "from qiskit_nature.circuit.library import HartreeFock\n",
    "\n",
    "# Variational form - circuit\n",
    "from qiskit.circuit.library import TwoLocal\n",
    "\n",
    "# Optimizer\n",
    "from qiskit.algorithms.optimizers import COBYLA, SLSQP, SPSA\n",
    "\n",
    "# Algorithms and Factories\n",
    "from qiskit_nature.algorithms import ExcitedStatesEigensolver, NumPyEigensolverFactory\n",
    "\n",
    "# Eigen Solvers\n",
    "# NumPy Minimum Eigen Solver\n",
    "from qiskit_nature.algorithms.ground_state_solvers.minimum_eigensolver_factories import NumPyMinimumEigensolverFactory\n",
    "# ground state\n",
    "from qiskit_nature.algorithms.ground_state_solvers import GroundStateEigensolver\n",
    "# VQE Solver\n",
    "from qiskit.algorithms import VQE"
   ]
  },
  {
   "cell_type": "markdown",
   "id": "5db07c92-3405-4f35-8738-7a4f017f0da9",
   "metadata": {},
   "source": [
    "Backend"
   ]
  },
  {
   "cell_type": "code",
   "execution_count": 19,
   "id": "7b2f99dd-df43-4804-8407-b4d32dcd4c4e",
   "metadata": {},
   "outputs": [],
   "source": [
    "qasm_sim = QasmSimulator()\n",
    "state_sim = StatevectorSimulator()"
   ]
  },
  {
   "cell_type": "markdown",
   "id": "01540732-3180-4e1d-8bc0-5c7e81ae8066",
   "metadata": {},
   "source": [
    "Drivers\n",
    "\n",
    "Below we set up a PySCF driver for $H2$ molecule at equilibrium bond length 0.735 Angstrom"
   ]
  },
  {
   "cell_type": "code",
   "execution_count": 46,
   "id": "9638e039-4e6d-43b9-ab1d-52ee37fc0f0e",
   "metadata": {},
   "outputs": [],
   "source": [
    "def exact_diagonalizer(es_problem, qubit_converter):\n",
    "    solver = NumPyMinimumEigensolverFactory()\n",
    "    calc = GroundStateEigensolver(qubit_converter, solver)\n",
    "    result = calc.solve(es_problem)\n",
    "    return result"
   ]
  },
  {
   "cell_type": "code",
   "execution_count": 47,
   "id": "b8496fe1-f925-491a-99fa-6e8ab13e827e",
   "metadata": {},
   "outputs": [],
   "source": [
    "def get_mapper(mapper_str: str):\n",
    "    if mapper_str == \"jw\":\n",
    "        mapper = JordanWignerMapper()\n",
    "    elif mapper_str == \"pa\":\n",
    "        mapper = ParityMapper()\n",
    "    elif mapper_str == \"bk\":\n",
    "        mapper = BravyiKitaevMapper()\n",
    "        \n",
    "    return mapper"
   ]
  },
  {
   "cell_type": "code",
   "execution_count": 48,
   "id": "62f48465-05e7-44a7-adad-5eb6af1f51ed",
   "metadata": {},
   "outputs": [],
   "source": [
    "def initial_state_preparation(dist: float, mapper_str: str = \"pa\"):\n",
    "    \n",
    "    molecule = \"H 0.0 0.0 0.0; H 0.0 0.0 \" + str(dist)\n",
    "    driver = PySCFDriver(atom=molecule)\n",
    "    qmolecule = driver.run()\n",
    "    \n",
    "    transformer = FreezeCoreTransformer()\n",
    "    qmolecule = transformer.transform(qmolecule)\n",
    "    es_problem = ElectronicStructureProblem(driver)\n",
    "    \n",
    "    # generating second_quzntized operators\n",
    "    second_q_ops = es_problem.second_q_ops()\n",
    "    \n",
    "    # Hamiltonian\n",
    "    main_op = second_q_ops[0]\n",
    "    \n",
    "    # return tuple of number of particles if available\n",
    "    num_particles = es_problem.num_particles\n",
    "    # return the number of spin orbitals\n",
    "    num_spin_orbitals = es_problem.num_spin_orbitals\n",
    "    \n",
    "    mapper = get_mapper(mapper_str)\n",
    "    \n",
    "    qubit_converter = QubitConverter(mapper=mapper, two_qubit_reduction=True)#, z2symmetry_reduction=[1, 1])\n",
    "    \n",
    "    # Qubit Hamiltonian\n",
    "    qubit_op = qubit_converter.convert(main_op, num_particles=num_particles)\n",
    "    \n",
    "    return (qubit_op, num_particles, num_spin_orbitals, qubit_converter, es_problem)"
   ]
  },
  {
   "cell_type": "code",
   "execution_count": 49,
   "id": "c2f0b906-096a-4273-b027-8d82200e107c",
   "metadata": {},
   "outputs": [],
   "source": [
    "inter_atomic_dists: list = np.arange(0.720, 0.755, 0.005)"
   ]
  },
  {
   "cell_type": "code",
   "execution_count": 8,
   "id": "f57d669d-0ab8-4d66-9c87-8331704f4a21",
   "metadata": {},
   "outputs": [
    {
     "name": "stdout",
     "output_type": "stream",
     "text": [
      "Total Ground State Energies of H2 Molecule using NumPyMinimumEigensolver algorithm\n",
      "\n",
      "Interatomic dist: 0.7200 Å \t Electronic Ground Energy: -1.8721 Eh \tTotal Ground State Energy: -1.1371 Eh\n",
      "Interatomic dist: 0.7250 Å \t Electronic Ground Energy: -1.8671 Eh \tTotal Ground State Energy: -1.1372 Eh\n",
      "Interatomic dist: 0.7300 Å \t Electronic Ground Energy: -1.8622 Eh \tTotal Ground State Energy: -1.1373 Eh\n",
      "Interatomic dist: 0.7350 Å \t Electronic Ground Energy: -1.8573 Eh \tTotal Ground State Energy: -1.1373 Eh\n",
      "Interatomic dist: 0.7400 Å \t Electronic Ground Energy: -1.8524 Eh \tTotal Ground State Energy: -1.1373 Eh\n",
      "Interatomic dist: 0.7450 Å \t Electronic Ground Energy: -1.8475 Eh \tTotal Ground State Energy: -1.1372 Eh\n",
      "Interatomic dist: 0.7500 Å \t Electronic Ground Energy: -1.8427 Eh \tTotal Ground State Energy: -1.1371 Eh\n",
      "Interatomic dist: 0.7550 Å \t Electronic Ground Energy: -1.8379 Eh \tTotal Ground State Energy: -1.1370 Eh\n"
     ]
    }
   ],
   "source": [
    "numpy_eigensolver_electronic_ground_energies: list = []\n",
    "numpy_eigensolver_nuclear_repulsion_energies: list = []\n",
    "numpy_eigensolver_total_ground_state_energies: list = []\n",
    "\n",
    "from qiskit_nature.algorithms import ExcitedStatesEigensolver, NumPyEigensolverFactory\n",
    "\n",
    "print(\"Total Ground State Energies of H2 Molecule using NumPyMinimumEigensolver algorithm\\n\")\n",
    "\n",
    "for dist in inter_atomic_dists:\n",
    "    qubit_op, num_particles, num_spin_orbitals, qubit_converter, es_problem = initial_state_preparation(dist, \"pa\")\n",
    "    # construct NumPyEigensolver - solver algorithm\n",
    "    numpy_solver = NumPyEigensolverFactory(use_default_filter_criterion=True)\n",
    "    # calculate excited states using the NumPyEigensolver solver algorithm\n",
    "    numpy_excited_states_calculation = ExcitedStatesEigensolver(qubit_converter, numpy_solver)\n",
    "    # Compute Ground and Excited States properties.\n",
    "    numpy_ground_excited_states_properties = numpy_excited_states_calculation.solve(es_problem)\n",
    "    \n",
    "    # Get Repulsion energy from properties of ground and excited states\n",
    "    nuclear_repulsion_energy = numpy_ground_excited_states_properties.nuclear_repulsion_energy\n",
    "    numpy_eigensolver_nuclear_repulsion_energies.append(nuclear_repulsion_energy)\n",
    "    \n",
    "    # constructs NumPyMinimumEigensolver - solver algorithm\n",
    "    numpy_minimum_solver = NumPyMinimumEigensolverFactory()\n",
    "    # compute the ground state using a minimum eigensolver\n",
    "    numpy_ground_state_calculation = GroundStateEigensolver(qubit_converter, numpy_minimum_solver)\n",
    "    # Compute Ground state properties - returns an Eigenstate result\n",
    "    numpy_ground_state_properties = numpy_ground_state_calculation.solve(es_problem)\n",
    "    \n",
    "    # Get electronic ground state energies\n",
    "    electronic_ground_energy = np.real(numpy_ground_state_properties.eigenenergies[0])\n",
    "    numpy_eigensolver_electronic_ground_energies.append(electronic_ground_energy)\n",
    "    \n",
    "    # Get the total ground state energy\n",
    "    total_ground_state_energy = (electronic_ground_energy + nuclear_repulsion_energy)\n",
    "    numpy_eigensolver_total_ground_state_energies.append(total_ground_state_energy)\n",
    "    \n",
    "    print(\"Interatomic dist: {:.4f} Å \\t Electronic Ground Energy: {:.4f} Eh \\tTotal Ground State Energy: {:.4f} Eh\".format(dist, electronic_ground_energy, total_ground_state_energy))\n",
    "    # print(\"Interatomic dist: {:.4f} Å \\t Total Ground State Energy: {:.4f} Eh\".format(dist, total_ground_state_energy))\n",
    "    "
   ]
  },
  {
   "cell_type": "code",
   "execution_count": 10,
   "id": "9722fc2e-49be-4be5-841b-ba6700c6cd61",
   "metadata": {},
   "outputs": [
    {
     "data": {
      "image/png": "[encoded data removed]",
      "text/plain": [
       "<Figure size 1382.4x777.6 with 1 Axes>"
      ]
     },
     "metadata": {
      "needs_background": "light"
     },
     "output_type": "display_data"
    }
   ],
   "source": [
    "fig, ax = plt.subplots(1, 1, figsize=(19.20, 10.80))\n",
    "plt.plot(inter_atomic_dists, numpy_eigensolver_total_ground_state_energies)\n",
    "plt.show()"
   ]
  },
  {
   "cell_type": "code",
   "execution_count": 50,
   "id": "14302a53-a761-41a2-ab44-821e9856792c",
   "metadata": {},
   "outputs": [
    {
     "name": "stdout",
     "output_type": "stream",
     "text": [
      "{   'aux_operator_eigenvalues': None,\n",
      "    'cost_function_evals': 79,\n",
      "    'eigenstate': array([ 3.84473787e-05+0.j,  9.93296776e-01+0.j, -1.15592012e-01+0.j,\n",
      "        2.14283254e-05+0.j]),\n",
      "    'eigenvalue': (-1.8378720276043319+0j),\n",
      "    'optimal_parameters': {   ParameterVectorElement(θ[4]): 0.0169235782361427,\n",
      "                              ParameterVectorElement(θ[5]): -0.13612410787776819,\n",
      "                              ParameterVectorElement(θ[3]): -0.05412901748953852,\n",
      "                              ParameterVectorElement(θ[2]): 0.23116058478368465,\n",
      "                              ParameterVectorElement(θ[1]): 0.07843249936704833,\n",
      "                              ParameterVectorElement(θ[0]): -0.04817119763414022},\n",
      "    'optimal_point': array([-0.0481712 ,  0.0784325 ,  0.23116058, -0.05412902,  0.01692358,\n",
      "       -0.13612411]),\n",
      "    'optimal_value': -1.8378720276043319,\n",
      "    'optimizer_evals': None,\n",
      "    'optimizer_time': 0.46538829803466797}\n"
     ]
    }
   ],
   "source": [
    "ry_electronic_ground_energies: list = []\n",
    "ry_nuclear_repulsion_energies: list = []\n",
    "ry_total_ground_state_energies: list = []\n",
    "\n",
    "from qiskit.utils import QuantumInstance\n",
    "from qiskit_nature.algorithms import ExcitedStatesEigensolver, NumPyEigensolverFactory, VQEUCCFactory\n",
    "\n",
    "from IPython.display import display, clear_output\n",
    "\n",
    "def callback(eval_count, parameters, mean, std):\n",
    "    # overwrites same line when printing\n",
    "    display(\"Evaluation: {},\\tEnergy: {},\\tStd: {}\".format(eval_count, mean, std))\n",
    "    clear_output(wait=True)\n",
    "    counts.append(eval_count)\n",
    "    values.append(mean)\n",
    "    params.append(parameters)\n",
    "    deviation.append(std)\n",
    "    \n",
    "# counts = []\n",
    "# values = []\n",
    "# params = []\n",
    "# deviation = []\n",
    "\n",
    "# provider = IBMQ.get_provider(hub='ibm-q')\n",
    "# backend = provider.get_backend('ibmq_toronto')\n",
    "backend = state_sim#Aer.get_backend(\"aer_simulator_statevector\")\n",
    "quantum_instance = QuantumInstance(backend=backend)\n",
    "# optimizer = SLSQP(maxiter=5)\n",
    "optimizer = COBYLA(maxiter=10000)\n",
    "ansatz = 0\n",
    "\n",
    "print(\"Total Ground State Energies of H2 Molecule using UCCSD ansatz\\n\")\n",
    "\n",
    "for dist in inter_atomic_dists:\n",
    "    qubit_op, num_particles, num_spin_orbitals, qubit_converter, es_problem = initial_state_preparation(dist, \"pa\")\n",
    "\n",
    "    init_state = HartreeFock(num_spin_orbitals, num_particles, qubit_converter)\n",
    "\n",
    "    # init_state.draw(\"mpl\", initial_state=True)\n",
    "\n",
    "    # Setting up TwoLocal for our ansatz\n",
    "    ansatz_type = \"RY\"\n",
    "\n",
    "    # Single qubit rotations that are placed on all qubits with independent parameters\n",
    "    rotation_blocks = [\"ry\"]\n",
    "    # Entangling gates\n",
    "    entanglement_blocks = \"cx\"\n",
    "    # How the qubits are entangled?\n",
    "    entanglement = 'linear'\n",
    "    # Repetitions of rotation_blocks + entanglement_blocks with independent parameters\n",
    "    repetitions = 2\n",
    "    # Skipoing the final rotation_blocks layer\n",
    "    skip_final_rotation_layer = False\n",
    "\n",
    "    ansatz = TwoLocal(\n",
    "        num_qubits = qubit_op.num_qubits,\n",
    "        rotation_blocks = rotation_blocks,\n",
    "        entanglement_blocks = entanglement_blocks,\n",
    "        entanglement=entanglement,\n",
    "        reps=repetitions,\n",
    "        skip_unentangled_qubits = False,\n",
    "        skip_final_rotation_layer=skip_final_rotation_layer,\n",
    "        insert_barriers=True,\n",
    "        name=\"RY\"\n",
    "    )\n",
    "\n",
    "    # Add the initial state\n",
    "    ansatz.compose(init_state, front=True, inplace=True)\n",
    "    \n",
    "    counts = []\n",
    "    values = []\n",
    "    params = []\n",
    "    deviation = []\n",
    "\n",
    "    try:\n",
    "        initial_point = [0.01] * len(ansatz.ordered_parameters)\n",
    "    except:\n",
    "        initial_point = [0.01] * ansatz.num_parameters\n",
    "\n",
    "    algorithm = VQE(\n",
    "        ansatz,\n",
    "        optimizer=optimizer,\n",
    "        quantum_instance=quantum_instance,\n",
    "        callback=callback,\n",
    "        initial_point=initial_point\n",
    "    )\n",
    "\n",
    "    result = algorithm.compute_minimum_eigenvalue(qubit_op)\n",
    "    print(result)\n",
    "    ry_total_ground_state_energies.append( np.real(result.eigenvalue) )\n",
    "    # print(np.real(result.eigenvalue))\n",
    "    "
   ]
  },
  {
   "cell_type": "code",
   "execution_count": 51,
   "id": "0fd7d3c8-3275-44e7-ae02-1564df0904dc",
   "metadata": {},
   "outputs": [
    {
     "data": {
      "image/png": "[encoded data removed]",
      "text/plain": [
       "<Figure size 327.252x144.48 with 1 Axes>"
      ]
     },
     "execution_count": 51,
     "metadata": {},
     "output_type": "execute_result"
    }
   ],
   "source": [
    "ansatz.draw(\"mpl\")"
   ]
  },
  {
   "cell_type": "code",
   "execution_count": 52,
   "id": "6af03f05-afba-494c-8385-7fb7af96253e",
   "metadata": {},
   "outputs": [
    {
     "data": {
      "image/png": "[encoded data removed]",
      "text/plain": [
       "<Figure size 688.452x144.48 with 1 Axes>"
      ]
     },
     "execution_count": 52,
     "metadata": {},
     "output_type": "execute_result"
    }
   ],
   "source": [
    "ansatz.decompose().draw(\"mpl\")"
   ]
  },
  {
   "cell_type": "code",
   "execution_count": 53,
   "id": "ae859447-665d-499a-83c0-bfb0aac0a386",
   "metadata": {},
   "outputs": [],
   "source": [
    "# print(ry_total_ground_state_energies)"
   ]
  },
  {
   "cell_type": "code",
   "execution_count": 54,
   "id": "da106311-f430-4681-8e78-c4644ea32d27",
   "metadata": {},
   "outputs": [
    {
     "data": {
      "image/png": "[encoded data removed]",
      "text/plain": [
       "<Figure size 1382.4x777.6 with 1 Axes>"
      ]
     },
     "metadata": {
      "needs_background": "light"
     },
     "output_type": "display_data"
    }
   ],
   "source": [
    "fig, ax = plt.subplots(1, 1, figsize=(19.20, 10.80))\n",
    "# plt.plot(inter_atomic_dists, numpy_minimum_solver_total_ground_state_energies)\n",
    "plt.plot(inter_atomic_dists, ry_total_ground_state_energies)\n",
    "plt.show()"
   ]
  },
  {
   "cell_type": "code",
   "execution_count": 44,
   "id": "571cd9bc-0eae-4112-b3c0-bde0657ce113",
   "metadata": {},
   "outputs": [],
   "source": [
    "# Storing results in a dictionary\n",
    "from qiskit.transpiler import PassManager\n",
    "from qiskit.transpiler.passes import Unroller\n",
    "# Unroller transpile our circuit into CNOTs and U gates\n",
    "pass_ = Unroller(['u', 'cx'])\n",
    "pm = PassManager(pass_)\n",
    "ansatz_tp = pm.run(ansatz)\n",
    "cnots = ansatz_tp.count_ops()['cx']\n",
    "score = cnots\n",
    "accuracy_threshold = 4.0 # in mHa\n",
    "energy = result.optimal_value\n",
    "\n",
    "# if ansatz_type == \"TwoLocal\":\n",
    "result_dict = {\n",
    "    'optimizer': optimizer.__class__.__name__,\n",
    "    'mapping': qubit_converter.mapper.__class__.__name__,\n",
    "    'ansatz': ansatz.__class__.__name__,\n",
    "    'rotation blocks': rotation_blocks,\n",
    "    'entanglement_blocks': entanglement_blocks,\n",
    "    'entanglement': entanglement,\n",
    "    'repetitions': repetitions,\n",
    "    'skip_final_rotation_layer': skip_final_rotation_layer,\n",
    "    # 'energy (Ha)': energy,\n",
    "    # 'error (mHa)': (energy-exact_energy)*1000,\n",
    "    # 'pass': (energy-exact_energy)*1000 <= accuracy_threshold,\n",
    "    '# of parameters': len(result.optimal_point),\n",
    "    'final parameters': result.optimal_point,\n",
    "    '# of evaluations': result.optimizer_evals,\n",
    "    'optimizer time': result.optimizer_time,\n",
    "    '# of qubits': int(qubit_op.num_qubits),\n",
    "    '# of CNOTs': cnots,\n",
    "    # 'score': score\n",
    "}"
   ]
  },
  {
   "cell_type": "code",
   "execution_count": 45,
   "id": "e0cc73d4-4137-4fe0-bc5f-af9f15c55e26",
   "metadata": {},
   "outputs": [
    {
     "data": {
      "text/html": [
       "<div>\n",
       "<style scoped>\n",
       "    .dataframe tbody tr th:only-of-type {\n",
       "        vertical-align: middle;\n",
       "    }\n",
       "\n",
       "    .dataframe tbody tr th {\n",
       "        vertical-align: top;\n",
       "    }\n",
       "\n",
       "    .dataframe thead th {\n",
       "        text-align: right;\n",
       "    }\n",
       "</style>\n",
       "<table border=\"1\" class=\"dataframe\">\n",
       "  <thead>\n",
       "    <tr style=\"text-align: right;\">\n",
       "      <th></th>\n",
       "      <th>optimizer</th>\n",
       "      <th>ansatz</th>\n",
       "      <th># of qubits</th>\n",
       "      <th># of parameters</th>\n",
       "      <th>rotation blocks</th>\n",
       "      <th>entanglement_blocks</th>\n",
       "      <th>entanglement</th>\n",
       "      <th>repetitions</th>\n",
       "      <th># of CNOTs</th>\n",
       "    </tr>\n",
       "  </thead>\n",
       "  <tbody>\n",
       "    <tr>\n",
       "      <th>0</th>\n",
       "      <td>COBYLA</td>\n",
       "      <td>TwoLocal</td>\n",
       "      <td>2</td>\n",
       "      <td>6</td>\n",
       "      <td>[ry]</td>\n",
       "      <td>cx</td>\n",
       "      <td>linear</td>\n",
       "      <td>2</td>\n",
       "      <td>2</td>\n",
       "    </tr>\n",
       "  </tbody>\n",
       "</table>\n",
       "</div>"
      ],
      "text/plain": [
       "  optimizer    ansatz  # of qubits  # of parameters rotation blocks  \\\n",
       "0    COBYLA  TwoLocal            2                6            [ry]   \n",
       "\n",
       "  entanglement_blocks entanglement  repetitions  # of CNOTs  \n",
       "0                  cx       linear            2           2  "
      ]
     },
     "execution_count": 45,
     "metadata": {},
     "output_type": "execute_result"
    },
    {
     "data": {
      "image/png": "[encoded data removed]",
      "text/plain": [
       "<Figure size 1382.4x777.6 with 1 Axes>"
      ]
     },
     "metadata": {
      "needs_background": "light"
     },
     "output_type": "display_data"
    }
   ],
   "source": [
    "fig, ax = plt.subplots(1, 1, figsize=(19.20, 10.80))\n",
    "\n",
    "plt.title(r\"$H2$: Ground State Energy vs. Interatomic Distance\")\n",
    "\n",
    "plt.rc('font', size=14)\n",
    "plt.rc('axes', labelsize=14)\n",
    "plt.rc('xtick', labelsize=14) \n",
    "plt.rc('ytick', labelsize=14)\n",
    "plt.rc('legend', fontsize=14)\n",
    "\n",
    "ax.set_xlabel('Inter-Atomic Distances (Angstrom)')\n",
    "ax.set_ylabel('Energy (Eh)')\n",
    "ax.grid()\n",
    "\n",
    "plt.plot(inter_atomic_dists, numpy_eigensolver_total_ground_state_energies, label=\"Exact Ground state energy\")\n",
    "plt.plot(inter_atomic_dists, ry_total_ground_state_energies, label=\"RY Ground state energy\")\n",
    "\n",
    "plt.legend()\n",
    "\n",
    "# fig_title = f\"{result_dict['optimizer']}-{result_dict['mapping']}-{result_dict['ansatz']}.png\"\n",
    "\n",
    "fig.savefig(\"ry_vqe_h2_id_fig.png\", dpi=300)\n",
    "\n",
    "\n",
    "# Displaying and saving the data\n",
    "\n",
    "import pandas as pd\n",
    "\n",
    "result_df = pd.DataFrame.from_dict([result_dict])\n",
    "result_df[['optimizer','ansatz', '# of qubits', '# of parameters','rotation blocks', 'entanglement_blocks',\n",
    "\n",
    "    'entanglement', 'repetitions', \"# of CNOTs\"]]\n",
    "\n",
    "# plt.show()"
   ]
  },
  {
   "cell_type": "code",
   "execution_count": null,
   "id": "3be14a55-8c0b-4c66-92ea-5fda0c988a6f",
   "metadata": {},
   "outputs": [],
   "source": []
  },
  {
   "cell_type": "code",
   "execution_count": null,
   "id": "c5f56816-d4ee-441a-85e0-4c4d00774826",
   "metadata": {},
   "outputs": [],
   "source": []
  },
  {
   "cell_type": "code",
   "execution_count": null,
   "id": "ada9dc94-e556-44e3-875a-ffbbdb31b934",
   "metadata": {},
   "outputs": [],
   "source": []
  }
 ],
 "metadata": {
  "kernelspec": {
   "display_name": "Qiskit v0.35.0 (ipykernel)",
   "language": "python",
   "name": "python3"
  },
  "language_info": {
   "codemirror_mode": {
    "name": "ipython",
    "version": 3
   },
   "file_extension": ".py",
   "mimetype": "text/x-python",
   "name": "python",
   "nbconvert_exporter": "python",
   "pygments_lexer": "ipython3",
   "version": "3.8.13"
  },
  "widgets": {
   "application/vnd.jupyter.widget-state+json": {
    "state": {
     "054b07066fc44aa482005c0d4393bd0f": {
      "model_module": "@jupyter-widgets/controls",
      "model_module_version": "1.5.0",
      "model_name": "HTMLModel",
      "state": {
       "layout": "IPY_MODEL_3fb2673ae3a040af9495777cf0a39b00",
       "style": "IPY_MODEL_990c75df9b9a4589921b6550a05ec4f5",
       "value": "<h5>Backend</h5>"
      }
     },
     "0892a6493e204d77b70747906193942e": {
      "model_module": "@jupyter-widgets/controls",
      "model_module_version": "1.5.0",
      "model_name": "HBoxModel",
      "state": {
       "children": [
        "IPY_MODEL_5b4a2648489f456aa43fce1463eecd18",
        "IPY_MODEL_054b07066fc44aa482005c0d4393bd0f",
        "IPY_MODEL_7ac1d86a16034385a887db1b362ff3d4",
        "IPY_MODEL_688c2659318f477c8522a5ae2f079520",
        "IPY_MODEL_769a2230518140f0a00bf9284af250db"
       ],
       "layout": "IPY_MODEL_f13847a97b684747b168b1190ead53f6"
      }
     },
     "0bf600874a544788aef7f4629f0da134": {
      "model_module": "@jupyter-widgets/controls",
      "model_module_version": "1.5.0",
      "model_name": "GridBoxModel",
      "state": {
       "children": [
        "IPY_MODEL_52cf7a58940e43fc94d5a23bd6003dfc"
       ],
       "layout": "IPY_MODEL_e9fb0513868748f3bace7f2b01f95117"
      }
     },
     "23d551349dfd4403a3813a05db2533d6": {
      "model_module": "@jupyter-widgets/controls",
      "model_module_version": "1.5.0",
      "model_name": "DescriptionStyleModel",
      "state": {
       "description_width": ""
      }
     },
     "2cf84a55be7746168899b8d9fb6bc1c5": {
      "model_module": "@jupyter-widgets/controls",
      "model_module_version": "1.5.0",
      "model_name": "DescriptionStyleModel",
      "state": {
       "description_width": ""
      }
     },
     "3fb2673ae3a040af9495777cf0a39b00": {
      "model_module": "@jupyter-widgets/base",
      "model_module_version": "1.2.0",
      "model_name": "LayoutModel",
      "state": {
       "width": "145px"
      }
     },
     "52cf7a58940e43fc94d5a23bd6003dfc": {
      "model_module": "@jupyter-widgets/controls",
      "model_module_version": "1.5.0",
      "model_name": "ButtonModel",
      "state": {
       "button_style": "primary",
       "description": "Clear",
       "layout": "IPY_MODEL_5a1b6738f31647f7a9fd90e4ea6fec14",
       "style": "IPY_MODEL_b5bc0fc153f74d0bab32e46fcf6452e0"
      }
     },
     "5a1b6738f31647f7a9fd90e4ea6fec14": {
      "model_module": "@jupyter-widgets/base",
      "model_module_version": "1.2.0",
      "model_name": "LayoutModel",
      "state": {
       "grid_area": "right",
       "padding": "0px 0px 0px 0px",
       "width": "70px"
      }
     },
     "5a6c78557f984bee91d9464ea9a59a82": {
      "model_module": "@jupyter-widgets/controls",
      "model_module_version": "1.5.0",
      "model_name": "DescriptionStyleModel",
      "state": {
       "description_width": ""
      }
     },
     "5b4a2648489f456aa43fce1463eecd18": {
      "model_module": "@jupyter-widgets/controls",
      "model_module_version": "1.5.0",
      "model_name": "HTMLModel",
      "state": {
       "layout": "IPY_MODEL_b9794fd1b2444fbb97cd99dbf2c60888",
       "style": "IPY_MODEL_5a6c78557f984bee91d9464ea9a59a82",
       "value": "<h5>Job ID</h5>"
      }
     },
     "5d9fc89944fe4730817dd43f4a77fbfc": {
      "model_module": "@jupyter-widgets/base",
      "model_module_version": "1.2.0",
      "model_name": "LayoutModel",
      "state": {
       "margin": "0px 0px 10px 0px"
      }
     },
     "643d38bcf3ee477fa351ebdcabc68547": {
      "model_module": "@jupyter-widgets/base",
      "model_module_version": "1.2.0",
      "model_name": "LayoutModel",
      "state": {
       "width": "95px"
      }
     },
     "67c6971ea95b4e1982481654e5b17d65": {
      "model_module": "@jupyter-widgets/base",
      "model_module_version": "1.2.0",
      "model_name": "LayoutModel",
      "state": {}
     },
     "688c2659318f477c8522a5ae2f079520": {
      "model_module": "@jupyter-widgets/controls",
      "model_module_version": "1.5.0",
      "model_name": "HTMLModel",
      "state": {
       "layout": "IPY_MODEL_7a66bf84cc5c4a74b26896d91a309c47",
       "style": "IPY_MODEL_23d551349dfd4403a3813a05db2533d6",
       "value": "<h5>Queue</h5>"
      }
     },
     "6b2137b53ed94655a5c0d1014551e870": {
      "model_module": "@jupyter-widgets/controls",
      "model_module_version": "1.5.0",
      "model_name": "HTMLModel",
      "state": {
       "layout": "IPY_MODEL_5d9fc89944fe4730817dd43f4a77fbfc",
       "style": "IPY_MODEL_c07ea5f035174f79abb1500ba9fe4dc8",
       "value": "<p style='font-family: IBM Plex Sans, Arial, Helvetica, sans-serif; font-size: 20px; font-weight: medium;'>Circuit Properties</p>"
      }
     },
     "769a2230518140f0a00bf9284af250db": {
      "model_module": "@jupyter-widgets/controls",
      "model_module_version": "1.5.0",
      "model_name": "HTMLModel",
      "state": {
       "layout": "IPY_MODEL_67c6971ea95b4e1982481654e5b17d65",
       "style": "IPY_MODEL_9a6c31b0625340d5b53f2e4193f9e745",
       "value": "<h5>Message</h5>"
      }
     },
     "7a66bf84cc5c4a74b26896d91a309c47": {
      "model_module": "@jupyter-widgets/base",
      "model_module_version": "1.2.0",
      "model_name": "LayoutModel",
      "state": {
       "width": "70px"
      }
     },
     "7ac1d86a16034385a887db1b362ff3d4": {
      "model_module": "@jupyter-widgets/controls",
      "model_module_version": "1.5.0",
      "model_name": "HTMLModel",
      "state": {
       "layout": "IPY_MODEL_643d38bcf3ee477fa351ebdcabc68547",
       "style": "IPY_MODEL_2cf84a55be7746168899b8d9fb6bc1c5",
       "value": "<h5>Status</h5>"
      }
     },
     "990c75df9b9a4589921b6550a05ec4f5": {
      "model_module": "@jupyter-widgets/controls",
      "model_module_version": "1.5.0",
      "model_name": "DescriptionStyleModel",
      "state": {
       "description_width": ""
      }
     },
     "9a6c31b0625340d5b53f2e4193f9e745": {
      "model_module": "@jupyter-widgets/controls",
      "model_module_version": "1.5.0",
      "model_name": "DescriptionStyleModel",
      "state": {
       "description_width": ""
      }
     },
     "b5bc0fc153f74d0bab32e46fcf6452e0": {
      "model_module": "@jupyter-widgets/controls",
      "model_module_version": "1.5.0",
      "model_name": "ButtonStyleModel",
      "state": {}
     },
     "b9794fd1b2444fbb97cd99dbf2c60888": {
      "model_module": "@jupyter-widgets/base",
      "model_module_version": "1.2.0",
      "model_name": "LayoutModel",
      "state": {
       "width": "190px"
      }
     },
     "c07ea5f035174f79abb1500ba9fe4dc8": {
      "model_module": "@jupyter-widgets/controls",
      "model_module_version": "1.5.0",
      "model_name": "DescriptionStyleModel",
      "state": {
       "description_width": ""
      }
     },
     "e9fb0513868748f3bace7f2b01f95117": {
      "model_module": "@jupyter-widgets/base",
      "model_module_version": "1.2.0",
      "model_name": "LayoutModel",
      "state": {
       "grid_template_areas": "\n                                       \". . . . right \"\n                                        ",
       "grid_template_columns": "20% 20% 20% 20% 20%",
       "width": "100%"
      }
     },
     "f13847a97b684747b168b1190ead53f6": {
      "model_module": "@jupyter-widgets/base",
      "model_module_version": "1.2.0",
      "model_name": "LayoutModel",
      "state": {
       "margin": "0px 0px 0px 37px",
       "width": "600px"
      }
     }
    },
    "version_major": 2,
    "version_minor": 0
   }
  }
 },
 "nbformat": 4,
 "nbformat_minor": 5
}
