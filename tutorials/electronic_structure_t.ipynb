{
 "cells": [
  {
   "cell_type": "markdown",
   "id": "416d86d8",
   "metadata": {},
   "source": [
    "# Electronic Structure - Basic Structure/Procedure\n",
    "\n",
    "#### Born-Oppenheimer approximation\n",
    "\n",
    "In molecules, nuclei are much heavier than electrons, thus they don't move on same time scale; therefore the behaviour of nuclei and electrons can be decoupled.\n",
    "\n",
    "Therefore, one can first tackle the electronic problem with nuclear coordinates entering only as parameters. The energy levels of the electrons in the molecule can be found by solving the non-relativistic time-independent Schroedinger equation,\n",
    "\n",
    "$\n",
    "\\begin{align}\n",
    "\\mathcal{H}_{el} |\\Psi_n \\rangle = E_n |\\Psi_n \\rangle\n",
    "\\end{align}\n",
    "$\n",
    "\n",
    "The ground state energy is given by:\n",
    "\n",
    "$\n",
    "\\begin{align}\n",
    "E_0 = \\frac{ \\langle\\Psi_0|H_{el}|\\Psi_0\\rangle } { \\langle\\Psi_0|\\Psi_0\\rangle }\n",
    "\\end{align}\n",
    "$\n",
    "\n",
    "We would like to prepare the ground state, $\\Psi_0$ on a quantum computer and measure the Hamiltonian expectation value, $E_0$ directly."
   ]
  },
  {
   "cell_type": "markdown",
   "id": "7b9bf491",
   "metadata": {},
   "source": [
    "### The Hartree-Fock initial state\n",
    "\n",
    "Good starting point to this problem is the Hartree-Fock method. This method approximates a N-body problem into N one-body problems where each electron evolves in the mean-field of other.\n",
    "\n",
    "The Hamiltonian can then be expressed in the basis of the solutions of the HF method, also called Molecular Orbitals (MOs).\n",
    "\n",
    "MOs ($\\phi_\\mu$) can be occupied or virtual (unoccupied). One MO can contain 2 electrons. For now we work with Spin Orbitals which are associated with a spin up ($\\alpha$) or spin down ($\\beta$) electron. Thus spin orbitals can contain one electron or be un-occupied."
   ]
  },
  {
   "cell_type": "markdown",
   "id": "737551b1",
   "metadata": {},
   "source": [
    "There are different codes able to find HF solutions: **Gaussian, Psi4, PyQuante, PySCF**\n",
    "\n",
    "Below we set up a PySCF driver for H2 molecule at equilibrium bond length 0.735 Angstrom, in the singlet state and with no charge."
   ]
  },
  {
   "cell_type": "code",
   "execution_count": 1,
   "id": "f8d00b76",
   "metadata": {},
   "outputs": [
    {
     "name": "stderr",
     "output_type": "stream",
     "text": [
      "<frozen importlib._bootstrap>:219: RuntimeWarning: scipy._lib.messagestream.MessageStream size changed, may indicate binary incompatibility. Expected 56 from C header, got 64 from PyObject\n"
     ]
    }
   ],
   "source": [
    "from qiskit_nature.drivers import UnitsType, Molecule\n",
    "from qiskit_nature.drivers.second_quantization import (\n",
    "    ElectronicStructureDriverType,\n",
    "    ElectronicStructureMoleculeDriver,\n",
    ")\n",
    "\n",
    "molecule = Molecule(\n",
    "    geometry = [\n",
    "        [\"H\", [0.0, 0.0, 0.0]],\n",
    "        [\"H\", [0.0, 0.0, 0.735]]],\n",
    "    charge = 0,\n",
    "    multiplicity = 1\n",
    ")\n",
    "\n",
    "driver = ElectronicStructureMoleculeDriver(\n",
    "    molecule,\n",
    "    basis = \"sto3g\",\n",
    "    driver_type = ElectronicStructureDriverType.PYSCF\n",
    ")"
   ]
  },
  {
   "cell_type": "markdown",
   "id": "79c4d3cc",
   "metadata": {},
   "source": [
    "Molecular Hamiltonian is expressed in terms of fermionic operators and these operators mmust be mapped to spin operators to be Qubit Hamiltonian.\n",
    "\n",
    "Different mapping types: Jordan-Wigner mapping, Parity mapping, Bravyi-Kitaev mapping.\n",
    "\n",
    "JW mapping usu maps each Spin Orbital to a qubit.\n",
    "\n",
    "Below, we set up Electronic Structure Problem to generate the Second quantized operator and a qubit converter that will map it to a qubit operator."
   ]
  },
  {
   "cell_type": "code",
   "execution_count": 2,
   "id": "ebbcbc33",
   "metadata": {},
   "outputs": [],
   "source": [
    "from qiskit_nature.problems.second_quantization import ElectronicStructureProblem\n",
    "from qiskit_nature.converters.second_quantization import QubitConverter\n",
    "from qiskit_nature.mappers.second_quantization import JordanWignerMapper, ParityMapper"
   ]
  },
  {
   "cell_type": "code",
   "execution_count": 3,
   "id": "bb7d2d6a",
   "metadata": {},
   "outputs": [
    {
     "name": "stdout",
     "output_type": "stream",
     "text": [
      "Fermionic Operator\n",
      "register length=4, number terms=14\n",
      "  (0.18093119978423106+0j) * ( +_0 -_1 +_2 -_3 )\n",
      "+ (-0.18093119978423128+0j) * ( +_0 -_1 -_2 +_3 )\n",
      "+ (-0.18093119978423128+0j) * ( -_0 +_1 +_2 -_3 )\n",
      "+ (0.18093119978423144+0j) * ( -_0 +_1 -_2 +_3  ...\n"
     ]
    }
   ],
   "source": [
    "es_problem = ElectronicStructureProblem(driver)\n",
    "second_q_op = es_problem.second_q_ops()\n",
    "print(second_q_op[0])"
   ]
  },
  {
   "cell_type": "markdown",
   "id": "34d94058",
   "metadata": {},
   "source": [
    "Transform this Hamiltonian for given driver defined above we get our qubit operator:"
   ]
  },
  {
   "cell_type": "code",
   "execution_count": 4,
   "id": "5572d249",
   "metadata": {},
   "outputs": [
    {
     "name": "stdout",
     "output_type": "stream",
     "text": [
      "0.04523279994605781 * YYYY\n",
      "+ 0.04523279994605781 * XXYY\n",
      "+ 0.04523279994605781 * YYXX\n",
      "+ 0.04523279994605781 * XXXX\n",
      "- 0.8105479805373281 * IIII\n",
      "- 0.22575349222402358 * ZIII\n",
      "+ 0.17218393261915543 * IZII\n",
      "+ 0.12091263261776633 * ZZII\n",
      "- 0.22575349222402358 * IIZI\n",
      "+ 0.17464343068300436 * ZIZI\n",
      "+ 0.16614543256382414 * IZZI\n",
      "+ 0.17218393261915543 * IIIZ\n",
      "+ 0.16614543256382414 * ZIIZ\n",
      "+ 0.16892753870087904 * IZIZ\n",
      "+ 0.12091263261776633 * IIZZ\n"
     ]
    }
   ],
   "source": [
    "qubit_converter = QubitConverter(mapper=JordanWignerMapper())\n",
    "qubit_op = qubit_converter.convert(second_q_op[0])\n",
    "print(qubit_op)"
   ]
  },
  {
   "cell_type": "markdown",
   "id": "d48dca84",
   "metadata": {},
   "source": [
    "In the minimal (STO-3G) basis set 4 qubits are required. We can reduce number of qubits by using Parity mapping, which allows for removal of 2 qubits by exploiting known symmetries arising from the mapping."
   ]
  },
  {
   "cell_type": "code",
   "execution_count": 5,
   "id": "04e62364",
   "metadata": {},
   "outputs": [
    {
     "name": "stdout",
     "output_type": "stream",
     "text": [
      "0.18093119978423114 * XX\n",
      "- 1.0523732457728605 * II\n",
      "- 0.39793742484317884 * ZI\n",
      "+ 0.39793742484317884 * IZ\n",
      "- 0.011280104256235171 * ZZ\n"
     ]
    }
   ],
   "source": [
    "qubit_converter = QubitConverter(mapper=ParityMapper(), two_qubit_reduction=True)\n",
    "qubit_op = qubit_converter.convert(second_q_op[0], num_particles=es_problem.num_particles)\n",
    "print(qubit_op)"
   ]
  },
  {
   "cell_type": "markdown",
   "id": "3d07ee94",
   "metadata": {},
   "source": [
    "This time only two qubits are required.\n",
    "\n",
    "The Hamiltonian is ready and can be used in a quantum algorithm to find into about electronic structure of corresponding molecule."
   ]
  }
 ],
 "metadata": {
  "kernelspec": {
   "display_name": "Qiskit v0.35.0 (ipykernel)",
   "language": "python",
   "name": "python3"
  },
  "language_info": {
   "codemirror_mode": {
    "name": "ipython",
    "version": 3
   },
   "file_extension": ".py",
   "mimetype": "text/x-python",
   "name": "python",
   "nbconvert_exporter": "python",
   "pygments_lexer": "ipython3",
   "version": "3.8.13"
  },
  "widgets": {
   "application/vnd.jupyter.widget-state+json": {
    "state": {},
    "version_major": 2,
    "version_minor": 0
   }
  }
 },
 "nbformat": 4,
 "nbformat_minor": 5
}
