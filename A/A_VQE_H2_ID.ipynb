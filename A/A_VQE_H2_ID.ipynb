{
 "cells": [
  {
   "cell_type": "markdown",
   "id": "12a778cb-cf1c-4661-b8be-944764fe7e8a",
   "metadata": {},
   "source": [
    "# Variational Quantum Eigensolver - Ground State Energy for $H2$ Molecule using the A ansatz"
   ]
  },
  {
   "cell_type": "code",
   "execution_count": 2,
   "id": "8bbdedce-794c-443d-9708-8a6de668572c",
   "metadata": {},
   "outputs": [
    {
     "name": "stderr",
     "output_type": "stream",
     "text": [
      "/opt/conda/lib/python3.8/site-packages/numpy/core/getlimits.py:499: UserWarning: The value of the smallest subnormal for <class 'numpy.float64'> type is zero.\n",
      "  setattr(self, word, getattr(machar, word).flat[0])\n",
      "/opt/conda/lib/python3.8/site-packages/numpy/core/getlimits.py:89: UserWarning: The value of the smallest subnormal for <class 'numpy.float64'> type is zero.\n",
      "  return self._float_to_str(self.smallest_subnormal)\n",
      "/opt/conda/lib/python3.8/site-packages/numpy/core/getlimits.py:499: UserWarning: The value of the smallest subnormal for <class 'numpy.float32'> type is zero.\n",
      "  setattr(self, word, getattr(machar, word).flat[0])\n",
      "/opt/conda/lib/python3.8/site-packages/numpy/core/getlimits.py:89: UserWarning: The value of the smallest subnormal for <class 'numpy.float32'> type is zero.\n",
      "  return self._float_to_str(self.smallest_subnormal)\n",
      "<frozen importlib._bootstrap>:219: RuntimeWarning: scipy._lib.messagestream.MessageStream size changed, may indicate binary incompatibility. Expected 56 from C header, got 64 from PyObject\n"
     ]
    }
   ],
   "source": [
    "import numpy as np\n",
    "import matplotlib.pyplot as plt\n",
    "\n",
    "# Importing standard Qiskit libraries\n",
    "from qiskit import QuantumCircuit, transpile, IBMQ, QuantumRegister, ClassicalRegister\n",
    "\n",
    "from qiskit.tools.jupyter import *\n",
    "\n",
    "from qiskit.visualization import *\n",
    "\n",
    "from ibm_quantum_widgets import *\n",
    "\n",
    "from qiskit.providers.aer import QasmSimulator, StatevectorSimulator\n",
    "\n",
    "from qiskit.utils import QuantumInstance\n",
    "\n",
    "from qiskit.circuit import Parameter\n",
    "\n",
    "# Loading your IBM Quantum account(s)\n",
    "provider = IBMQ.load_account()"
   ]
  },
  {
   "cell_type": "code",
   "execution_count": 3,
   "id": "2214a62b-e1c3-4e07-9036-67615d3ccb3b",
   "metadata": {},
   "outputs": [],
   "source": [
    "# Chemistry Drivers\n",
    "from qiskit_nature.drivers.second_quantization.pyscfd import PySCFDriver\n",
    "\n",
    "from qiskit_nature.transformers.second_quantization.electronic import FreezeCoreTransformer\n",
    "\n",
    "from qiskit.opflow.primitive_ops import Z2Symmetries\n",
    "\n",
    "# Electroinic structure problem\n",
    "from qiskit_nature.problems.second_quantization.electronic import ElectronicStructureProblem\n",
    "\n",
    "# Qubit converter\n",
    "from qiskit_nature.converters.second_quantization.qubit_converter import QubitConverter\n",
    "\n",
    "# Mappers\n",
    "from qiskit_nature.mappers.second_quantization import ParityMapper, BravyiKitaevMapper, JordanWignerMapper\n",
    "\n",
    "# Initial state\n",
    "from qiskit_nature.circuit.library import HartreeFock\n",
    "\n",
    "# Variational form - circuit\n",
    "from qiskit.circuit.library import TwoLocal\n",
    "\n",
    "# Optimizer\n",
    "from qiskit.algorithms.optimizers import COBYLA, SLSQP, SPSA\n",
    "\n",
    "# Algorithms and Factories\n",
    "from qiskit_nature.algorithms import ExcitedStatesEigensolver, NumPyEigensolverFactory\n",
    "\n",
    "# Eigen Solvers\n",
    "# NumPy Minimum Eigen Solver\n",
    "from qiskit_nature.algorithms.ground_state_solvers.minimum_eigensolver_factories import NumPyMinimumEigensolverFactory\n",
    "# ground state\n",
    "from qiskit_nature.algorithms.ground_state_solvers import GroundStateEigensolver\n",
    "# VQE Solver\n",
    "from qiskit.algorithms import VQE"
   ]
  },
  {
   "cell_type": "code",
   "execution_count": 4,
   "id": "62273428-315e-42d1-a2e4-35112f9421e5",
   "metadata": {},
   "outputs": [],
   "source": [
    "class VariationalForms:\n",
    "\n",
    "\tdef R(self, theta: float, phi: float):# -> Instruction:\n",
    "\t\t# num of num_qubits\n",
    "\t\tnum_qubits: int = 1\n",
    "\n",
    "\t\t# quantum circuit\n",
    "\t\tqr: QuantumRegister = QuantumRegister(num_qubits)\n",
    "\t\trgate: QuantumCircuit = QuantumCircuit(qr, name=\"$R(\\\\theta, \\phi)$\")\n",
    "\t\t\n",
    "\t\t# setup the gate\n",
    "\t\trgate.ry( (0.5 * np.pi) + theta, qr[0])\n",
    "\t\trgate.rz( np.pi + phi, qr[0])\n",
    "\t\treturn rgate.to_instruction()\n",
    "\n",
    "\t\n",
    "\tdef Rd(self, theta: float, phi: float):# -> Instruction:\n",
    "\t\t# num of num_qubits\n",
    "\t\tnum_qubits = 1\n",
    "\t\t\n",
    "\t\t# quantum circuit\n",
    "\t\tqr = QuantumRegister(num_qubits)\n",
    "\t\trdgate = QuantumCircuit(qr, name=\"$R(\\\\theta, \\phi)^\\dagger$\")\n",
    "\t\t\n",
    "\t\t# setup the gate\n",
    "\t\trdgate.rz( np.pi + phi, qr[0]).inverse()\n",
    "\t\trdgate.ry( (0.5 * np.pi) + theta, qr[0]).inverse()\n",
    "\t\treturn rdgate.to_instruction()\n",
    "\n",
    "\t\n",
    "\tdef A(self, theta: float, phi: float):# -> Instruction:\n",
    "\t\t# num of num_qubits\n",
    "\t\tnum_qubits = 2\n",
    "\t\t\n",
    "\t\t# quantum circuit\n",
    "\t\tqr = QuantumRegister(num_qubits)\n",
    "\t\tagate = QuantumCircuit(qr, name=\"$A(\\\\theta, \\phi)$\")\n",
    "\t\t\n",
    "\t\t# Rotation gates\n",
    "\t\tRGate = self.R(theta, phi)\n",
    "\t\tRDGate = self.Rd(theta, phi)\n",
    "\t\t# RGate = r.to_instruction()\n",
    "\t\t# RDGate = rd.to_instruction()\n",
    "\t\t\n",
    "\t\t# Gate setup\n",
    "\t\tagate.cx(1, 0)\n",
    "\t\tagate.append(RDGate, [qr[1]])\n",
    "\t\tagate.cx(0, 1)\n",
    "\t\tagate.append(RGate, [qr[1]])\n",
    "\t\tagate.cx(1, 0)\n",
    "\t\treturn agate.to_instruction()\n",
    "\n",
    "\n",
    "\tdef draw(self, g, theme: str = \"mpl\", decomposed: bool = False):\n",
    "\t\tnum_qubits: int = g.num_qubits\n",
    "\t\tqc = QuantumCircuit(num_qubits)\n",
    "\t\tqc.append( g, list(np.arange(num_qubits)) )\n",
    "\t\tif decomposed:\n",
    "\t\t\treturn qc.decompose().draw(theme)\n",
    "\t\treturn qc.draw(\"mpl\", initial_state=True)\n",
    "\n",
    "\tdef decompose(self, g, theme: str = \"mpl\"):\n",
    "\t\tnum_qubits: int = g.num_qubits\n",
    "\t\tqc = QuantumCircuit(num_qubits)\n",
    "\t\tqc.append( g, list(np.arange(num_qubits)) )\n",
    "\t\treturn qc.decompose().draw(theme, initial_state=True)"
   ]
  },
  {
   "cell_type": "code",
   "execution_count": 5,
   "id": "37c6c485-5ec7-4c90-a63c-fc81b09171dc",
   "metadata": {},
   "outputs": [],
   "source": [
    "vf = VariationalForms()"
   ]
  },
  {
   "cell_type": "markdown",
   "id": "64690e5a-659b-4cde-8bfe-88374ea5b80b",
   "metadata": {},
   "source": [
    "Backend"
   ]
  },
  {
   "cell_type": "code",
   "execution_count": 6,
   "id": "1463dc33-917f-4ffb-a05c-8e934cb60bc9",
   "metadata": {},
   "outputs": [],
   "source": [
    "qasm_sim = QasmSimulator()\n",
    "state_sim = StatevectorSimulator()"
   ]
  },
  {
   "cell_type": "markdown",
   "id": "c8e82989-063d-49d6-8c2f-e32bb1cb5bcc",
   "metadata": {},
   "source": [
    "Drivers\n",
    "\n",
    "Below we set up a PySCF driver for $H2$ molecule at equilibrium bond length 0.735 Angstrom"
   ]
  },
  {
   "cell_type": "code",
   "execution_count": 7,
   "id": "b02f9d15-1267-4e17-8e91-4fb4015aacc0",
   "metadata": {},
   "outputs": [],
   "source": [
    "def exact_diagonalizer(es_problem, qubit_converter):\n",
    "    solver = NumPyMinimumEigensolverFactory()\n",
    "    calc = GroundStateEigensolver(qubit_converter, solver)\n",
    "    result = calc.solve(es_problem)\n",
    "    return result"
   ]
  },
  {
   "cell_type": "code",
   "execution_count": 8,
   "id": "7b06d7c6-156a-42de-bea6-6e5b7db34950",
   "metadata": {},
   "outputs": [],
   "source": [
    "def get_mapper(mapper_str: str):\n",
    "    if mapper_str == \"jw\":\n",
    "        mapper = JordanWignerMapper()\n",
    "    elif mapper_str == \"pa\":\n",
    "        mapper = ParityMapper()\n",
    "    elif mapper_str == \"bk\":\n",
    "        mapper = BravyiKitaevMapper()\n",
    "        \n",
    "    return mapper"
   ]
  },
  {
   "cell_type": "code",
   "execution_count": 9,
   "id": "7d9fe4d0-4e4b-4490-baa6-0b7756b5af92",
   "metadata": {},
   "outputs": [],
   "source": [
    "def initial_state_preparation(dist: float, mapper_str: str = \"jw\"):\n",
    "    \n",
    "    molecule = \"H 0.0 0.0 0.0; H 0.0 0.0 \" + str(dist)\n",
    "    driver = PySCFDriver(atom=molecule)\n",
    "    qmolecule = driver.run()\n",
    "    \n",
    "    transformer = FreezeCoreTransformer()\n",
    "    qmolecule = transformer.transform(qmolecule)\n",
    "    es_problem = ElectronicStructureProblem(driver)\n",
    "    \n",
    "    # generating second_quzntized operators\n",
    "    second_q_ops = es_problem.second_q_ops()\n",
    "    \n",
    "    # Hamiltonian\n",
    "    main_op = second_q_ops[0]\n",
    "    \n",
    "    # return tuple of number of particles if available\n",
    "    num_particles = es_problem.num_particles\n",
    "    # return the number of spin orbitals\n",
    "    num_spin_orbitals = es_problem.num_spin_orbitals\n",
    "    \n",
    "    mapper = get_mapper(mapper_str)\n",
    "    \n",
    "    qubit_converter = QubitConverter(mapper=mapper, two_qubit_reduction=True)#, z2symmetry_reduction=[1, 1])\n",
    "    \n",
    "    # Qubit Hamiltonian\n",
    "    qubit_op = qubit_converter.convert(main_op, num_particles=num_particles)\n",
    "    \n",
    "    return (qubit_op, num_particles, num_spin_orbitals, qubit_converter, es_problem)"
   ]
  },
  {
   "cell_type": "code",
   "execution_count": 10,
   "id": "0ce3ede4-5d27-45a5-ad4b-0e603a274376",
   "metadata": {},
   "outputs": [],
   "source": [
    "inter_atomic_dists: list = np.arange(0.45, 1.25, 0.05)"
   ]
  },
  {
   "cell_type": "code",
   "execution_count": 11,
   "id": "fd36d9f0-34ab-4095-b2e6-3f7567c9148f",
   "metadata": {},
   "outputs": [
    {
     "name": "stdout",
     "output_type": "stream",
     "text": [
      "Total Ground State Energies of H2 Molecule using NumPyMinimumEigensolver algorithm\n",
      "\n",
      "Interatomic dist: 0.4500 Å \t Electronic Ground Energy: -2.1744 Eh \tTotal Ground State Energy: -0.9984 Eh\n",
      "Interatomic dist: 0.5000 Å \t Electronic Ground Energy: -2.1135 Eh \tTotal Ground State Energy: -1.0552 Eh\n",
      "Interatomic dist: 0.5500 Å \t Electronic Ground Energy: -2.0548 Eh \tTotal Ground State Energy: -1.0926 Eh\n",
      "Interatomic dist: 0.6000 Å \t Electronic Ground Energy: -1.9982 Eh \tTotal Ground State Energy: -1.1163 Eh\n",
      "Interatomic dist: 0.6500 Å \t Electronic Ground Energy: -1.9440 Eh \tTotal Ground State Energy: -1.1299 Eh\n",
      "Interatomic dist: 0.7000 Å \t Electronic Ground Energy: -1.8922 Eh \tTotal Ground State Energy: -1.1362 Eh\n",
      "Interatomic dist: 0.7500 Å \t Electronic Ground Energy: -1.8427 Eh \tTotal Ground State Energy: -1.1371 Eh\n",
      "Interatomic dist: 0.8000 Å \t Electronic Ground Energy: -1.7956 Eh \tTotal Ground State Energy: -1.1341 Eh\n",
      "Interatomic dist: 0.8500 Å \t Electronic Ground Energy: -1.7509 Eh \tTotal Ground State Energy: -1.1284 Eh\n",
      "Interatomic dist: 0.9000 Å \t Electronic Ground Energy: -1.7085 Eh \tTotal Ground State Energy: -1.1206 Eh\n",
      "Interatomic dist: 0.9500 Å \t Electronic Ground Energy: -1.6684 Eh \tTotal Ground State Energy: -1.1113 Eh\n",
      "Interatomic dist: 1.0000 Å \t Electronic Ground Energy: -1.6303 Eh \tTotal Ground State Energy: -1.1012 Eh\n",
      "Interatomic dist: 1.0500 Å \t Electronic Ground Energy: -1.5943 Eh \tTotal Ground State Energy: -1.0903 Eh\n",
      "Interatomic dist: 1.1000 Å \t Electronic Ground Energy: -1.5603 Eh \tTotal Ground State Energy: -1.0792 Eh\n",
      "Interatomic dist: 1.1500 Å \t Electronic Ground Energy: -1.5281 Eh \tTotal Ground State Energy: -1.0679 Eh\n",
      "Interatomic dist: 1.2000 Å \t Electronic Ground Energy: -1.4977 Eh \tTotal Ground State Energy: -1.0567 Eh\n"
     ]
    }
   ],
   "source": [
    "numpy_eigensolver_electronic_ground_energies: list = []\n",
    "numpy_eigensolver_nuclear_repulsion_energies: list = []\n",
    "numpy_eigensolver_total_ground_state_energies: list = []\n",
    "\n",
    "from qiskit_nature.algorithms import ExcitedStatesEigensolver, NumPyEigensolverFactory\n",
    "\n",
    "print(\"Total Ground State Energies of H2 Molecule using NumPyMinimumEigensolver algorithm\\n\")\n",
    "\n",
    "for dist in inter_atomic_dists:\n",
    "    qubit_op, num_particles, num_spin_orbitals, qubit_converter, es_problem = initial_state_preparation(dist, \"pa\")\n",
    "    # construct NumPyEigensolver - solver algorithm\n",
    "    numpy_solver = NumPyEigensolverFactory(use_default_filter_criterion=True)\n",
    "    # calculate excited states using the NumPyEigensolver solver algorithm\n",
    "    numpy_excited_states_calculation = ExcitedStatesEigensolver(qubit_converter, numpy_solver)\n",
    "    # Compute Ground and Excited States properties.\n",
    "    numpy_ground_excited_states_properties = numpy_excited_states_calculation.solve(es_problem)\n",
    "    \n",
    "    # Get Repulsion energy from properties of ground and excited states\n",
    "    nuclear_repulsion_energy = numpy_ground_excited_states_properties.nuclear_repulsion_energy\n",
    "    numpy_eigensolver_nuclear_repulsion_energies.append(nuclear_repulsion_energy)\n",
    "    \n",
    "    # constructs NumPyMinimumEigensolver - solver algorithm\n",
    "    numpy_minimum_solver = NumPyMinimumEigensolverFactory()\n",
    "    # compute the ground state using a minimum eigensolver\n",
    "    numpy_ground_state_calculation = GroundStateEigensolver(qubit_converter, numpy_minimum_solver)\n",
    "    # Compute Ground state properties - returns an Eigenstate result\n",
    "    numpy_ground_state_properties = numpy_ground_state_calculation.solve(es_problem)\n",
    "    \n",
    "    # Get electronic ground state energies\n",
    "    electronic_ground_energy = np.real(numpy_ground_state_properties.eigenenergies[0])\n",
    "    numpy_eigensolver_electronic_ground_energies.append(electronic_ground_energy)\n",
    "    \n",
    "    # Get the total ground state energy\n",
    "    total_ground_state_energy = (electronic_ground_energy + nuclear_repulsion_energy)\n",
    "    numpy_eigensolver_total_ground_state_energies.append(total_ground_state_energy)\n",
    "    \n",
    "    print(\"Interatomic dist: {:.4f} Å \\t Electronic Ground Energy: {:.4f} Eh \\tTotal Ground State Energy: {:.4f} Eh\".format(dist, electronic_ground_energy, total_ground_state_energy))\n",
    "    # print(\"Interatomic dist: {:.4f} Å \\t Total Ground State Energy: {:.4f} Eh\".format(dist, total_ground_state_energy))\n",
    "    "
   ]
  },
  {
   "cell_type": "code",
   "execution_count": 13,
   "id": "b5d9d5af-f297-4c3c-a3db-bc9a96749aee",
   "metadata": {},
   "outputs": [
    {
     "data": {
      "image/png": "[encoded data removed]",
      "text/plain": [
       "<Figure size 1382.4x777.6 with 1 Axes>"
      ]
     },
     "metadata": {
      "needs_background": "light"
     },
     "output_type": "display_data"
    }
   ],
   "source": [
    "fig, ax = plt.subplots(1, 1, figsize=(19.20, 10.80))\n",
    "plt.plot(inter_atomic_dists, numpy_eigensolver_total_ground_state_energies)\n",
    "plt.show()"
   ]
  },
  {
   "cell_type": "code",
   "execution_count": 15,
   "id": "8d775b55-ddde-4378-ae62-bb48231a619b",
   "metadata": {},
   "outputs": [],
   "source": [
    "def ansatz_preparation():\n",
    "    phi = Parameter('p')\n",
    "    theta = Parameter('t')\n",
    "\n",
    "    n = qubit_op.num_qubits\n",
    "\n",
    "    qc = QuantumCircuit(n)\n",
    "\n",
    "    # A = vf.A( theta, phi )\n",
    "    # Rd = vf.Rd( theta, phi )\n",
    "    # R = vf.R( theta, phi )\n",
    "\n",
    "    qc.cx(1, 0)\n",
    "\n",
    "    qc.rz(np.pi + phi, 1)\n",
    "    qc.ry((0.5 * np.pi) + theta, 1)\n",
    "\n",
    "    # qc.append(Rd, [1])\n",
    "\n",
    "    qc.cx(0, 1)\n",
    "\n",
    "    qc.ry((0.5 * np.pi) + theta, 1)\n",
    "    qc.rz(np.pi + phi, 1)\n",
    "\n",
    "    # qc.append®\n",
    "\n",
    "    qc.cx(1, 0)\n",
    "\n",
    "    # qc.draw(\"mpl\")\n",
    "\n",
    "\n",
    "    ansatz = qc\n",
    "    \n",
    "    return ansatz"
   ]
  },
  {
   "cell_type": "code",
   "execution_count": 24,
   "id": "8e49f1f2-a934-4495-96f9-f69bfa7f3ced",
   "metadata": {},
   "outputs": [
    {
     "name": "stdout",
     "output_type": "stream",
     "text": [
      "{   'aux_operator_eigenvalues': None,\n",
      "    'cost_function_evals': 3,\n",
      "    'eigenstate': array([0.00000000e+00+0.00000000e+00j, 1.25875283e-17+0.00000000e+00j,\n",
      "       1.00000000e+00+2.77555756e-17j, 0.00000000e+00+0.00000000e+00j]),\n",
      "    'eigenvalue': (-0.6453294085902546+0j),\n",
      "    'optimal_parameters': {   Parameter(t): 2.5734590734486407,\n",
      "                              Parameter(p): 6.036818385118334},\n",
      "    'optimal_point': array([6.03681839, 2.57345907]),\n",
      "    'optimal_value': -0.6453294085902546,\n",
      "    'optimizer_evals': None,\n",
      "    'optimizer_time': 0.019798755645751953}\n"
     ]
    }
   ],
   "source": [
    "a_electronic_ground_energies: list = []\n",
    "a_nuclear_repulsion_energies: list = []\n",
    "a_total_ground_state_energies: list = []\n",
    "\n",
    "from qiskit.utils import QuantumInstance\n",
    "from qiskit_nature.algorithms import ExcitedStatesEigensolver, NumPyEigensolverFactory, VQEUCCFactory\n",
    "\n",
    "from IPython.display import display, clear_output\n",
    "\n",
    "def callback(eval_count, parameters, mean, std):\n",
    "    # overwrites same line when printing\n",
    "    display(\"Evaluation: {},\\tEnergy: {},\\tStd: {}\".format(eval_count, mean, std))\n",
    "    clear_output(wait=True)\n",
    "    counts.append(eval_count)\n",
    "    values.append(mean)\n",
    "    params.append(parameters)\n",
    "    deviation.append(std)\n",
    "    \n",
    "counts = []\n",
    "values = []\n",
    "params = []\n",
    "deviation = []\n",
    "\n",
    "# provider = IBMQ.get_provider(hub='ibm-q')\n",
    "# backend = provider.get_backend('ibmq_toronto')\n",
    "backend = state_sim#Aer.get_backend(\"aer_simulator_statevector\")\n",
    "quantum_instance = QuantumInstance(backend=backend)\n",
    "optimizer = SLSQP(maxiter=5)\n",
    "# optimizer = COBYLA(maxiter=10000)\n",
    "\n",
    "print(\"Total Ground State Energies of H2 Molecule using UCCSD ansatz\\n\")\n",
    "\n",
    "for dist in inter_atomic_dists:\n",
    "    qubit_op, num_particles, num_spin_orbitals, qubit_converter, es_problem = initial_state_preparation(dist, \"pa\")\n",
    "\n",
    "    init_state = HartreeFock(num_spin_orbitals, num_particles, qubit_converter)\n",
    "\n",
    "    # init_state.draw(\"mpl\", initial_state=True)\n",
    "\n",
    "    # Setting up TwoLocal for our ansatz\n",
    "    ansatz_type = \"A\"\n",
    "\n",
    "    ansatz = ansatz_preparation()\n",
    "    \n",
    "    # Add the initial state\n",
    "    ansatz.compose(init_state, front=True, inplace=True)\n",
    "\n",
    "    # try:\n",
    "    #     initial_point = [0.01] * len(ansatz.ordered_parameters)\n",
    "    # except:\n",
    "    #     initial_point = [0.01] * ansatz.num_parameters\n",
    "\n",
    "    algorithm = VQE(\n",
    "        ansatz,\n",
    "        optimizer=optimizer,\n",
    "        quantum_instance=state_sim,\n",
    "        callback=callback,\n",
    "        # initial_point=initial_point\n",
    "    )\n",
    "\n",
    "    result = algorithm.compute_minimum_eigenvalue(qubit_op)\n",
    "    print(result)\n",
    "    a_total_ground_state_energies.append( np.real(result.eigenvalue) )\n",
    "    # print(np.real(result.eigenvalue))\n",
    "    "
   ]
  },
  {
   "cell_type": "code",
   "execution_count": 25,
   "id": "98c0509d-8be7-4b91-88f9-7466cc2926f7",
   "metadata": {},
   "outputs": [
    {
     "data": {
      "image/png": "[encoded data removed]",
      "text/plain": [
       "<Figure size 1382.4x777.6 with 1 Axes>"
      ]
     },
     "metadata": {
      "needs_background": "light"
     },
     "output_type": "display_data"
    }
   ],
   "source": [
    "fig, ax = plt.subplots(1, 1, figsize=(19.20, 10.80))\n",
    "# plt.plot(inter_atomic_dists, numpy_minimum_solver_total_ground_state_energies)\n",
    "plt.plot(inter_atomic_dists, a_total_ground_state_energies)\n",
    "plt.show()"
   ]
  },
  {
   "cell_type": "code",
   "execution_count": 26,
   "id": "d825ad2c-e114-403d-b1e4-6e56b630fa2c",
   "metadata": {},
   "outputs": [],
   "source": [
    "# Storing results in a dictionary\n",
    "from qiskit.transpiler import PassManager\n",
    "from qiskit.transpiler.passes import Unroller\n",
    "# Unroller transpile our circuit into CNOTs and U gates\n",
    "pass_ = Unroller(['u', 'cx'])\n",
    "pm = PassManager(pass_)\n",
    "ansatz_tp = pm.run(ansatz)\n",
    "cnots = ansatz_tp.count_ops()['cx']\n",
    "score = cnots\n",
    "accuracy_threshold = 4.0 # in mHa\n",
    "energy = result.optimal_value\n",
    "\n",
    "# if ansatz_type == \"TwoLocal\":\n",
    "result_dict = {\n",
    "    'optimizer': optimizer.__class__.__name__,\n",
    "    'mapping': qubit_converter.mapper.__class__.__name__,\n",
    "    'ansatz': ansatz.__class__.__name__,\n",
    "    # 'rotation blocks': rotation_blocks,\n",
    "    # 'entanglement_blocks': entanglement_blocks,\n",
    "    # 'entanglement': entanglement,\n",
    "    # 'repetitions': repetitions,\n",
    "    # 'skip_final_rotation_layer': skip_final_rotation_layer,\n",
    "    # 'energy (Ha)': energy,\n",
    "    # 'error (mHa)': (energy-exact_energy)*1000,\n",
    "    # 'pass': (energy-exact_energy)*1000 <= accuracy_threshold,\n",
    "    '# of parameters': len(result.optimal_point),\n",
    "    'final parameters': result.optimal_point,\n",
    "    '# of evaluations': result.optimizer_evals,\n",
    "    'optimizer time': result.optimizer_time,\n",
    "    '# of qubits': int(qubit_op.num_qubits),\n",
    "    '# of CNOTs': cnots,\n",
    "    # 'score': score\n",
    "}"
   ]
  },
  {
   "cell_type": "code",
   "execution_count": 27,
   "id": "d74a9d9a-6c06-4407-b36f-5ed489bc1816",
   "metadata": {},
   "outputs": [
    {
     "data": {
      "text/html": [
       "<div>\n",
       "<style scoped>\n",
       "    .dataframe tbody tr th:only-of-type {\n",
       "        vertical-align: middle;\n",
       "    }\n",
       "\n",
       "    .dataframe tbody tr th {\n",
       "        vertical-align: top;\n",
       "    }\n",
       "\n",
       "    .dataframe thead th {\n",
       "        text-align: right;\n",
       "    }\n",
       "</style>\n",
       "<table border=\"1\" class=\"dataframe\">\n",
       "  <thead>\n",
       "    <tr style=\"text-align: right;\">\n",
       "      <th></th>\n",
       "      <th>optimizer</th>\n",
       "      <th>ansatz</th>\n",
       "      <th># of qubits</th>\n",
       "      <th># of parameters</th>\n",
       "    </tr>\n",
       "  </thead>\n",
       "  <tbody>\n",
       "    <tr>\n",
       "      <th>0</th>\n",
       "      <td>SLSQP</td>\n",
       "      <td>QuantumCircuit</td>\n",
       "      <td>2</td>\n",
       "      <td>2</td>\n",
       "    </tr>\n",
       "  </tbody>\n",
       "</table>\n",
       "</div>"
      ],
      "text/plain": [
       "  optimizer          ansatz  # of qubits  # of parameters\n",
       "0     SLSQP  QuantumCircuit            2                2"
      ]
     },
     "execution_count": 27,
     "metadata": {},
     "output_type": "execute_result"
    },
    {
     "data": {
      "image/png": "[encoded data removed]",
      "text/plain": [
       "<Figure size 1382.4x777.6 with 1 Axes>"
      ]
     },
     "metadata": {
      "needs_background": "light"
     },
     "output_type": "display_data"
    }
   ],
   "source": [
    "fig, ax = plt.subplots(1, 1, figsize=(19.20, 10.80))\n",
    "\n",
    "plt.title(r\"$H2$: Ground State Energy vs. Interatomic Distance\")\n",
    "\n",
    "ax.set_xlabel('Inter-Atomic Distances (Angstrom)')\n",
    "ax.set_ylabel('Energy (Eh)')\n",
    "ax.grid()\n",
    "\n",
    "plt.plot(inter_atomic_dists, numpy_eigensolver_total_ground_state_energies, label=\"Exact Ground state energy\")\n",
    "plt.plot(inter_atomic_dists, a_total_ground_state_energies, label=\"A Ground state energy\")\n",
    "\n",
    "plt.legend()\n",
    "\n",
    "# fig_title = f\"{result_dict['optimizer']}-{result_dict['mapping']}-{result_dict['ansatz']}.png\"\n",
    "# fig.savefig(fig_title, dpi=300)\n",
    "\n",
    "\n",
    "# Displaying and saving the data\n",
    "\n",
    "import pandas as pd\n",
    "\n",
    "result_df = pd.DataFrame.from_dict([result_dict])\n",
    "result_df[['optimizer','ansatz', '# of qubits', '# of parameters']]\n",
    "\n",
    "# plt.show()"
   ]
  },
  {
   "cell_type": "code",
   "execution_count": null,
   "id": "48120329-9ec9-4ced-b51f-53412cdb5252",
   "metadata": {},
   "outputs": [],
   "source": []
  }
 ],
 "metadata": {
  "kernelspec": {
   "display_name": "Qiskit v0.35.0 (ipykernel)",
   "language": "python",
   "name": "python3"
  },
  "language_info": {
   "codemirror_mode": {
    "name": "ipython",
    "version": 3
   },
   "file_extension": ".py",
   "mimetype": "text/x-python",
   "name": "python",
   "nbconvert_exporter": "python",
   "pygments_lexer": "ipython3",
   "version": "3.8.13"
  },
  "widgets": {
   "application/vnd.jupyter.widget-state+json": {
    "state": {
     "05be7d3798f94ad6a62daf9b94c8b202": {
      "model_module": "@jupyter-widgets/controls",
      "model_module_version": "1.5.0",
      "model_name": "DescriptionStyleModel",
      "state": {
       "description_width": ""
      }
     },
     "076c6714873643f38191457d0e049e67": {
      "model_module": "@jupyter-widgets/controls",
      "model_module_version": "1.5.0",
      "model_name": "ButtonStyleModel",
      "state": {}
     },
     "09b32264924c48669ce6e17ba61a9be3": {
      "model_module": "@jupyter-widgets/base",
      "model_module_version": "1.2.0",
      "model_name": "LayoutModel",
      "state": {
       "width": "95px"
      }
     },
     "14168cf78b364b639e0e97cdfab1a7ca": {
      "model_module": "@jupyter-widgets/controls",
      "model_module_version": "1.5.0",
      "model_name": "DescriptionStyleModel",
      "state": {
       "description_width": ""
      }
     },
     "18042ebb9d264070b173252da8f8275f": {
      "model_module": "@jupyter-widgets/controls",
      "model_module_version": "1.5.0",
      "model_name": "HTMLModel",
      "state": {
       "layout": "IPY_MODEL_4cf76002f14a4659b46734e9aaf50f52",
       "style": "IPY_MODEL_8376905e12cf4c65958240e73330584d",
       "value": "<h5>Queue</h5>"
      }
     },
     "19f8f8ff591c4b5fa179f8d169ef7738": {
      "model_module": "@jupyter-widgets/base",
      "model_module_version": "1.2.0",
      "model_name": "LayoutModel",
      "state": {
       "width": "190px"
      }
     },
     "24e65d9e178140d7a9ded5602561531d": {
      "model_module": "@jupyter-widgets/base",
      "model_module_version": "1.2.0",
      "model_name": "LayoutModel",
      "state": {
       "width": "145px"
      }
     },
     "39947b11070040e3add14fa7b4c5a59c": {
      "model_module": "@jupyter-widgets/controls",
      "model_module_version": "1.5.0",
      "model_name": "HTMLModel",
      "state": {
       "layout": "IPY_MODEL_19f8f8ff591c4b5fa179f8d169ef7738",
       "style": "IPY_MODEL_e201cb46dd5a4914af6499877f7e4903",
       "value": "<h5>Job ID</h5>"
      }
     },
     "4a9738860f974a9a9097b5ec0ac3a76f": {
      "model_module": "@jupyter-widgets/controls",
      "model_module_version": "1.5.0",
      "model_name": "HTMLModel",
      "state": {
       "layout": "IPY_MODEL_09b32264924c48669ce6e17ba61a9be3",
       "style": "IPY_MODEL_14168cf78b364b639e0e97cdfab1a7ca",
       "value": "<h5>Status</h5>"
      }
     },
     "4cf76002f14a4659b46734e9aaf50f52": {
      "model_module": "@jupyter-widgets/base",
      "model_module_version": "1.2.0",
      "model_name": "LayoutModel",
      "state": {
       "width": "70px"
      }
     },
     "606c2c42561841e7b8c3492676f5f02e": {
      "model_module": "@jupyter-widgets/controls",
      "model_module_version": "1.5.0",
      "model_name": "GridBoxModel",
      "state": {
       "children": [
        "IPY_MODEL_b9dd68a6c57940558895ccc0874b9c91"
       ],
       "layout": "IPY_MODEL_83ff7e71b3d84fac9bcea22874751358"
      }
     },
     "73a5e5d9c2f1433a9ca55610d1c7eb43": {
      "model_module": "@jupyter-widgets/base",
      "model_module_version": "1.2.0",
      "model_name": "LayoutModel",
      "state": {
       "grid_area": "right",
       "padding": "0px 0px 0px 0px",
       "width": "70px"
      }
     },
     "7ad116b24e944685ab900f4ecbb6b1ad": {
      "model_module": "@jupyter-widgets/base",
      "model_module_version": "1.2.0",
      "model_name": "LayoutModel",
      "state": {
       "margin": "0px 0px 10px 0px"
      }
     },
     "8376905e12cf4c65958240e73330584d": {
      "model_module": "@jupyter-widgets/controls",
      "model_module_version": "1.5.0",
      "model_name": "DescriptionStyleModel",
      "state": {
       "description_width": ""
      }
     },
     "83ff7e71b3d84fac9bcea22874751358": {
      "model_module": "@jupyter-widgets/base",
      "model_module_version": "1.2.0",
      "model_name": "LayoutModel",
      "state": {
       "grid_template_areas": "\n                                       \". . . . right \"\n                                        ",
       "grid_template_columns": "20% 20% 20% 20% 20%",
       "width": "100%"
      }
     },
     "98956c5ce83f4acc9bbaa085e0b69bb5": {
      "model_module": "@jupyter-widgets/controls",
      "model_module_version": "1.5.0",
      "model_name": "DescriptionStyleModel",
      "state": {
       "description_width": ""
      }
     },
     "a3c78344594b4e6fb3f12ac2b5a51af9": {
      "model_module": "@jupyter-widgets/controls",
      "model_module_version": "1.5.0",
      "model_name": "DescriptionStyleModel",
      "state": {
       "description_width": ""
      }
     },
     "b9dd68a6c57940558895ccc0874b9c91": {
      "model_module": "@jupyter-widgets/controls",
      "model_module_version": "1.5.0",
      "model_name": "ButtonModel",
      "state": {
       "button_style": "primary",
       "description": "Clear",
       "layout": "IPY_MODEL_73a5e5d9c2f1433a9ca55610d1c7eb43",
       "style": "IPY_MODEL_076c6714873643f38191457d0e049e67"
      }
     },
     "d6b4e8658c464c2ebf1f359bb21c9b5e": {
      "model_module": "@jupyter-widgets/base",
      "model_module_version": "1.2.0",
      "model_name": "LayoutModel",
      "state": {}
     },
     "d8a309437fce4dc99434aa39e9179cc4": {
      "model_module": "@jupyter-widgets/controls",
      "model_module_version": "1.5.0",
      "model_name": "HTMLModel",
      "state": {
       "layout": "IPY_MODEL_24e65d9e178140d7a9ded5602561531d",
       "style": "IPY_MODEL_05be7d3798f94ad6a62daf9b94c8b202",
       "value": "<h5>Backend</h5>"
      }
     },
     "e201cb46dd5a4914af6499877f7e4903": {
      "model_module": "@jupyter-widgets/controls",
      "model_module_version": "1.5.0",
      "model_name": "DescriptionStyleModel",
      "state": {
       "description_width": ""
      }
     },
     "e296f73ca9414fbbb84ed5bb0c739941": {
      "model_module": "@jupyter-widgets/base",
      "model_module_version": "1.2.0",
      "model_name": "LayoutModel",
      "state": {
       "margin": "0px 0px 0px 37px",
       "width": "600px"
      }
     },
     "ed85e303387e4bb3b2c00bbdc032496d": {
      "model_module": "@jupyter-widgets/controls",
      "model_module_version": "1.5.0",
      "model_name": "HBoxModel",
      "state": {
       "children": [
        "IPY_MODEL_39947b11070040e3add14fa7b4c5a59c",
        "IPY_MODEL_d8a309437fce4dc99434aa39e9179cc4",
        "IPY_MODEL_4a9738860f974a9a9097b5ec0ac3a76f",
        "IPY_MODEL_18042ebb9d264070b173252da8f8275f",
        "IPY_MODEL_fc10553c0b5b4842a2fb5f0d0ab2e8fc"
       ],
       "layout": "IPY_MODEL_e296f73ca9414fbbb84ed5bb0c739941"
      }
     },
     "fc10553c0b5b4842a2fb5f0d0ab2e8fc": {
      "model_module": "@jupyter-widgets/controls",
      "model_module_version": "1.5.0",
      "model_name": "HTMLModel",
      "state": {
       "layout": "IPY_MODEL_d6b4e8658c464c2ebf1f359bb21c9b5e",
       "style": "IPY_MODEL_a3c78344594b4e6fb3f12ac2b5a51af9",
       "value": "<h5>Message</h5>"
      }
     },
     "fcdd6669241048e5938b6f95195fe700": {
      "model_module": "@jupyter-widgets/controls",
      "model_module_version": "1.5.0",
      "model_name": "HTMLModel",
      "state": {
       "layout": "IPY_MODEL_7ad116b24e944685ab900f4ecbb6b1ad",
       "style": "IPY_MODEL_98956c5ce83f4acc9bbaa085e0b69bb5",
       "value": "<p style='font-family: IBM Plex Sans, Arial, Helvetica, sans-serif; font-size: 20px; font-weight: medium;'>Circuit Properties</p>"
      }
     }
    },
    "version_major": 2,
    "version_minor": 0
   }
  }
 },
 "nbformat": 4,
 "nbformat_minor": 5
}
