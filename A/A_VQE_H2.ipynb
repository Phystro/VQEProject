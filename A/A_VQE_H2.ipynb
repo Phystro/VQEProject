{
 "cells": [
  {
   "cell_type": "markdown",
   "id": "12a778cb-cf1c-4661-b8be-944764fe7e8a",
   "metadata": {},
   "source": [
    "# Variational Quantum Eigensolver - Ground State Energy for $H2$ Molecule using the A ansatz"
   ]
  },
  {
   "cell_type": "code",
   "execution_count": 1,
   "id": "8bbdedce-794c-443d-9708-8a6de668572c",
   "metadata": {},
   "outputs": [
    {
     "name": "stderr",
     "output_type": "stream",
     "text": [
      "/opt/conda/lib/python3.8/site-packages/numpy/core/getlimits.py:499: UserWarning: The value of the smallest subnormal for <class 'numpy.float64'> type is zero.\n",
      "  setattr(self, word, getattr(machar, word).flat[0])\n",
      "/opt/conda/lib/python3.8/site-packages/numpy/core/getlimits.py:89: UserWarning: The value of the smallest subnormal for <class 'numpy.float64'> type is zero.\n",
      "  return self._float_to_str(self.smallest_subnormal)\n",
      "/opt/conda/lib/python3.8/site-packages/numpy/core/getlimits.py:499: UserWarning: The value of the smallest subnormal for <class 'numpy.float32'> type is zero.\n",
      "  setattr(self, word, getattr(machar, word).flat[0])\n",
      "/opt/conda/lib/python3.8/site-packages/numpy/core/getlimits.py:89: UserWarning: The value of the smallest subnormal for <class 'numpy.float32'> type is zero.\n",
      "  return self._float_to_str(self.smallest_subnormal)\n",
      "<frozen importlib._bootstrap>:219: RuntimeWarning: scipy._lib.messagestream.MessageStream size changed, may indicate binary incompatibility. Expected 56 from C header, got 64 from PyObject\n"
     ]
    }
   ],
   "source": [
    "import numpy as np\n",
    "import matplotlib.pyplot as plt\n",
    "\n",
    "# Importing standard Qiskit libraries\n",
    "from qiskit import QuantumCircuit, transpile, IBMQ, QuantumRegister, ClassicalRegister\n",
    "\n",
    "from qiskit.tools.jupyter import *\n",
    "\n",
    "from qiskit.visualization import *\n",
    "\n",
    "from ibm_quantum_widgets import *\n",
    "\n",
    "from qiskit.providers.aer import QasmSimulator, StatevectorSimulator\n",
    "\n",
    "from qiskit.utils import QuantumInstance\n",
    "\n",
    "# Loading your IBM Quantum account(s)\n",
    "provider = IBMQ.load_account()"
   ]
  },
  {
   "cell_type": "code",
   "execution_count": 2,
   "id": "2214a62b-e1c3-4e07-9036-67615d3ccb3b",
   "metadata": {},
   "outputs": [],
   "source": [
    "# Chemistry Drivers\n",
    "from qiskit_nature.drivers.second_quantization.pyscfd import PySCFDriver\n",
    "\n",
    "from qiskit_nature.transformers.second_quantization.electronic import FreezeCoreTransformer\n",
    "\n",
    "from qiskit.opflow.primitive_ops import Z2Symmetries\n",
    "\n",
    "# Electroinic structure problem\n",
    "from qiskit_nature.problems.second_quantization.electronic import ElectronicStructureProblem\n",
    "\n",
    "# Qubit converter\n",
    "from qiskit_nature.converters.second_quantization.qubit_converter import QubitConverter\n",
    "\n",
    "# Mappers\n",
    "from qiskit_nature.mappers.second_quantization import ParityMapper, BravyiKitaevMapper, JordanWignerMapper\n",
    "\n",
    "# Initial state\n",
    "from qiskit_nature.circuit.library import HartreeFock\n",
    "\n",
    "# Variational form - circuit\n",
    "from qiskit.circuit.library import TwoLocal\n",
    "\n",
    "# Optimizer\n",
    "from qiskit.algorithms.optimizers import COBYLA, SLSQP, SPSA\n",
    "\n",
    "# Algorithms and Factories\n",
    "from qiskit_nature.algorithms import ExcitedStatesEigensolver, NumPyEigensolverFactory\n",
    "\n",
    "# Eigen Solvers\n",
    "# NumPy Minimum Eigen Solver\n",
    "from qiskit_nature.algorithms.ground_state_solvers.minimum_eigensolver_factories import NumPyMinimumEigensolverFactory\n",
    "# ground state\n",
    "from qiskit_nature.algorithms.ground_state_solvers import GroundStateEigensolver\n",
    "# VQE Solver\n",
    "from qiskit.algorithms import VQE"
   ]
  },
  {
   "cell_type": "code",
   "execution_count": 3,
   "id": "62273428-315e-42d1-a2e4-35112f9421e5",
   "metadata": {},
   "outputs": [],
   "source": [
    "class VariationalForms:\n",
    "\n",
    "\tdef R(self, theta: float, phi: float):# -> Instruction:\n",
    "\t\t# num of num_qubits\n",
    "\t\tnum_qubits: int = 1\n",
    "\n",
    "\t\t# quantum circuit\n",
    "\t\tqr: QuantumRegister = QuantumRegister(num_qubits)\n",
    "\t\trgate: QuantumCircuit = QuantumCircuit(qr, name=\"$R(\\\\theta, \\phi)$\")\n",
    "\t\t\n",
    "\t\t# setup the gate\n",
    "\t\trgate.ry(theta, qr[0])\n",
    "\t\trgate.rz(phi, qr[0])\n",
    "\t\treturn rgate.to_instruction()\n",
    "\n",
    "\t\n",
    "\tdef Rd(self, theta: float, phi: float):# -> Instruction:\n",
    "\t\t# num of num_qubits\n",
    "\t\tnum_qubits = 1\n",
    "\t\t\n",
    "\t\t# quantum circuit\n",
    "\t\tqr = QuantumRegister(num_qubits)\n",
    "\t\trdgate = QuantumCircuit(qr, name=\"$R(\\\\theta, \\phi)^\\dagger$\")\n",
    "\t\t\n",
    "\t\t# setup the gate\n",
    "\t\trdgate.rz(phi, qr[0]).inverse()\n",
    "\t\trdgate.ry(theta, qr[0]).inverse()\n",
    "\t\treturn rdgate.to_instruction()\n",
    "\n",
    "\t\n",
    "\tdef A(self, theta: float, phi: float):# -> Instruction:\n",
    "\t\t# num of num_qubits\n",
    "\t\tnum_qubits = 2\n",
    "\t\t\n",
    "\t\t# quantum circuit\n",
    "\t\tqr = QuantumRegister(num_qubits)\n",
    "\t\tagate = QuantumCircuit(qr, name=\"$A(\\\\theta, \\phi)$\")\n",
    "\t\t\n",
    "\t\t# Rotation gates\n",
    "\t\tRGate = self.R(theta, phi)\n",
    "\t\tRDGate = self.Rd(theta, phi)\n",
    "\t\t# RGate = r.to_instruction()\n",
    "\t\t# RDGate = rd.to_instruction()\n",
    "\t\t\n",
    "\t\t# Gate setup\n",
    "\t\tagate.cx(1, 0)\n",
    "\t\tagate.append(RDGate, [qr[1]])\n",
    "\t\tagate.cx(0, 1)\n",
    "\t\tagate.append(RGate, [qr[1]])\n",
    "\t\tagate.cx(1, 0)\n",
    "\t\treturn agate.to_instruction()\n",
    "\n",
    "\n",
    "\tdef draw(self, g, theme: str = \"mpl\", decomposed: bool = False):\n",
    "\t\tnum_qubits: int = g.num_qubits\n",
    "\t\tqc = QuantumCircuit(num_qubits)\n",
    "\t\tqc.append( g, list(np.arange(num_qubits)) )\n",
    "\t\tif decomposed:\n",
    "\t\t\treturn qc.decompose().draw(theme)\n",
    "\t\treturn qc.draw(\"mpl\", initial_state=True)\n",
    "\n",
    "\tdef decompose(self, g, theme: str = \"mpl\"):\n",
    "\t\tnum_qubits: int = g.num_qubits\n",
    "\t\tqc = QuantumCircuit(num_qubits)\n",
    "\t\tqc.append( g, list(np.arange(num_qubits)) )\n",
    "\t\treturn qc.decompose().draw(theme, initial_state=True)"
   ]
  },
  {
   "cell_type": "code",
   "execution_count": 4,
   "id": "37c6c485-5ec7-4c90-a63c-fc81b09171dc",
   "metadata": {},
   "outputs": [],
   "source": [
    "vf = VariationalForms()"
   ]
  },
  {
   "cell_type": "markdown",
   "id": "64690e5a-659b-4cde-8bfe-88374ea5b80b",
   "metadata": {},
   "source": [
    "Backend"
   ]
  },
  {
   "cell_type": "code",
   "execution_count": 5,
   "id": "1463dc33-917f-4ffb-a05c-8e934cb60bc9",
   "metadata": {},
   "outputs": [],
   "source": [
    "qasm_sim = QasmSimulator()\n",
    "state_sim = StatevectorSimulator()"
   ]
  },
  {
   "cell_type": "markdown",
   "id": "c8e82989-063d-49d6-8c2f-e32bb1cb5bcc",
   "metadata": {},
   "source": [
    "Drivers\n",
    "\n",
    "Below we set up a PySCF driver for $H2$ molecule at equilibrium bond length 0.735 Angstrom"
   ]
  },
  {
   "cell_type": "code",
   "execution_count": 6,
   "id": "b02f9d15-1267-4e17-8e91-4fb4015aacc0",
   "metadata": {},
   "outputs": [],
   "source": [
    "def exact_diagonalizer(es_problem, qubit_converter):\n",
    "    solver = NumPyMinimumEigensolverFactory()\n",
    "    calc = GroundStateEigensolver(qubit_converter, solver)\n",
    "    result = calc.solve(es_problem)\n",
    "    return result"
   ]
  },
  {
   "cell_type": "code",
   "execution_count": 7,
   "id": "7b06d7c6-156a-42de-bea6-6e5b7db34950",
   "metadata": {},
   "outputs": [],
   "source": [
    "def get_mapper(mapper_str: str):\n",
    "    if mapper_str == \"jw\":\n",
    "        mapper = JordanWignerMapper()\n",
    "    elif mapper_str == \"pa\":\n",
    "        mapper = ParityMapper()\n",
    "    elif mapper_str == \"bk\":\n",
    "        mapper = BravyiKitaevMapper()\n",
    "        \n",
    "    return mapper"
   ]
  },
  {
   "cell_type": "code",
   "execution_count": 8,
   "id": "7d9fe4d0-4e4b-4490-baa6-0b7756b5af92",
   "metadata": {},
   "outputs": [],
   "source": [
    "def initial_state_preparation(mapper_str: str = \"jw\"):\n",
    "    \n",
    "    molecule = \"H 0.0 0.0 0.0; H 0.0 0.0 0.735\"\n",
    "    driver = PySCFDriver(atom=molecule)\n",
    "    qmolecule = driver.run()\n",
    "    \n",
    "    transformer = FreezeCoreTransformer()\n",
    "    qmolecule = transformer.transform(qmolecule)\n",
    "    es_problem = ElectronicStructureProblem(driver)\n",
    "    \n",
    "    # generating second_quzntized operators\n",
    "    second_q_ops = es_problem.second_q_ops()\n",
    "    \n",
    "    # Hamiltonian\n",
    "    main_op = second_q_ops[0]\n",
    "    \n",
    "    # return tuple of number of particles if available\n",
    "    num_particles = es_problem.num_particles\n",
    "    # return the number of spin orbitals\n",
    "    num_spin_orbitals = es_problem.num_spin_orbitals\n",
    "    \n",
    "    mapper = get_mapper(mapper_str)\n",
    "    \n",
    "    qubit_converter = QubitConverter(mapper=mapper, two_qubit_reduction=True)#, z2symmetry_reduction=[1, 1])\n",
    "    \n",
    "    # Qubit Hamiltonian\n",
    "    qubit_op = qubit_converter.convert(main_op, num_particles=num_particles)\n",
    "    \n",
    "    return (qubit_op, num_particles, num_spin_orbitals, qubit_converter, es_problem)"
   ]
  },
  {
   "cell_type": "code",
   "execution_count": 9,
   "id": "22f2e773-711d-4a36-9dfb-1ae0b1706713",
   "metadata": {},
   "outputs": [],
   "source": [
    "qubit_op, num_particles, num_spin_orbitals, qubit_converter, es_problem = initial_state_preparation(\"pa\")"
   ]
  },
  {
   "cell_type": "code",
   "execution_count": 10,
   "id": "ff00aad0-f644-40a5-b0e6-2809894cca9f",
   "metadata": {},
   "outputs": [
    {
     "data": {
      "image/png": "[encoded data removed]",
      "text/plain": [
       "<Figure size 190.495x144.48 with 1 Axes>"
      ]
     },
     "execution_count": 10,
     "metadata": {},
     "output_type": "execute_result"
    }
   ],
   "source": [
    "init_state = HartreeFock(num_spin_orbitals, num_particles, qubit_converter)\n",
    "\n",
    "init_state.draw(\"mpl\", initial_state=True)"
   ]
  },
  {
   "cell_type": "code",
   "execution_count": 11,
   "id": "f5ffe3ad-30fc-400e-9daa-05e63413113e",
   "metadata": {},
   "outputs": [],
   "source": [
    "from qiskit.circuit import Parameter\n",
    "\n",
    "theta = Parameter('t')\n",
    "phi = Parameter('p')\n",
    "\n",
    "a = QuantumCircuit(2)\n",
    "A = vf.A(theta, phi)\n",
    "a.append(A, [0, 1])\n",
    "\n",
    "# Setting up TwoLocal for our ansatz\n",
    "ansatz_type = \"A\"\n",
    "\n",
    "# Single qubit rotations that are placed on all qubits with independent parameters\n",
    "# rotation_blocks = [\"ry\"]\n",
    "rotation_blocks = [a]\n",
    "# Entangling gates\n",
    "entanglement_blocks = []\n",
    "# How the qubits are entangled?\n",
    "entanglement = 'linear'\n",
    "# Repetitions of rotation_blocks + entanglement_blocks with independent parameters\n",
    "repetitions = 1\n",
    "# Skipoing the final rotation_blocks layer\n",
    "skip_final_rotation_layer = True\n",
    "\n",
    "ansatz = TwoLocal(\n",
    "    qubit_op.num_qubits,\n",
    "    rotation_blocks,\n",
    "    entanglement_blocks,\n",
    "    reps=repetitions,\n",
    "    entanglement=entanglement,\n",
    "    skip_final_rotation_layer=skip_final_rotation_layer,\n",
    "    insert_barriers=True)\n",
    "\n",
    "# Add the initial state\n",
    "ansatz.compose(init_state, front=True, inplace=True)"
   ]
  },
  {
   "cell_type": "code",
   "execution_count": 12,
   "id": "7456d089-c9b5-4910-a116-38fd142d7374",
   "metadata": {},
   "outputs": [
    {
     "data": {
      "image/png": "[encoded data removed]",
      "text/plain": [
       "<Figure size 310.895x144.48 with 1 Axes>"
      ]
     },
     "execution_count": 12,
     "metadata": {},
     "output_type": "execute_result"
    }
   ],
   "source": [
    "ansatz.draw(output=\"mpl\", initial_state=True)"
   ]
  },
  {
   "cell_type": "code",
   "execution_count": 13,
   "id": "aff11ec1-0477-446f-b121-3f6f3adf58a8",
   "metadata": {},
   "outputs": [
    {
     "data": {
      "image/png": "[encoded data removed]",
      "text/plain": [
       "<Figure size 371.095x144.48 with 1 Axes>"
      ]
     },
     "execution_count": 13,
     "metadata": {},
     "output_type": "execute_result"
    }
   ],
   "source": [
    "ansatz.decompose().draw(output=\"mpl\", initial_state=True)"
   ]
  },
  {
   "cell_type": "code",
   "execution_count": 14,
   "id": "e2332511-0f09-454c-95fb-0f9393e5344c",
   "metadata": {},
   "outputs": [],
   "source": [
    "optimizer = COBYLA(maxiter=10000)"
   ]
  },
  {
   "cell_type": "markdown",
   "id": "5920833f-e3fc-45c8-8043-66bed1c369e0",
   "metadata": {},
   "source": [
    "### Solver\n",
    "\n",
    "Exact Eigensolver using NumPyMinimumEigensolver\n"
   ]
  },
  {
   "cell_type": "code",
   "execution_count": 15,
   "id": "43631187-2f8d-4b12-bb38-a18e2a7a8bce",
   "metadata": {},
   "outputs": [
    {
     "name": "stdout",
     "output_type": "stream",
     "text": [
      "Exact Electronic Energy: -1.8573 Eh\n",
      "\n",
      "\n",
      "Results:\n",
      "\n",
      " === GROUND STATE ENERGY ===\n",
      " \n",
      "* Electronic ground state energy (Hartree): -1.857275030202\n",
      "  - computed part:      -1.857275030202\n",
      "~ Nuclear repulsion energy (Hartree): 0.719968994449\n",
      "> Total ground state energy (Hartree): -1.137306035753\n",
      " \n",
      "=== MEASURED OBSERVABLES ===\n",
      " \n",
      "  0:  # Particles: 2.000 S: 0.000 S^2: 0.000 M: 0.000\n",
      " \n",
      "=== DIPOLE MOMENTS ===\n",
      " \n",
      "~ Nuclear dipole moment (a.u.): [0.0  0.0  1.3889487]\n",
      " \n",
      "  0: \n",
      "  * Electronic dipole moment (a.u.): [0.0  0.0  1.3889487]\n",
      "    - computed part:      [0.0  0.0  1.3889487]\n",
      "  > Dipole moment (a.u.): [0.0  0.0  0.0]  Total: 0.0\n",
      "                 (debye): [0.0  0.0  0.0]  Total: 0.0\n",
      " \n"
     ]
    }
   ],
   "source": [
    "result_exact = exact_diagonalizer(es_problem, qubit_converter)\n",
    "exact_energy = np.real(result_exact.eigenenergies[0])\n",
    "\n",
    "print(\"Exact Electronic Energy: {:.4f} Eh\\n\\n\".format(exact_energy))\n",
    "\n",
    "print(\"Results:\\n\\n\", result_exact)"
   ]
  },
  {
   "cell_type": "markdown",
   "id": "5cda13f9-0f5d-4a54-acef-1aa4c6779fc8",
   "metadata": {},
   "source": [
    "### VQE Solver"
   ]
  },
  {
   "cell_type": "code",
   "execution_count": 16,
   "id": "2d8e75ce-11de-45bc-8bbe-064ac39fe5e7",
   "metadata": {},
   "outputs": [
    {
     "name": "stdout",
     "output_type": "stream",
     "text": [
      "{   'aux_operator_eigenvalues': None,\n",
      "    'cost_function_evals': 15,\n",
      "    'eigenstate': array([0.+0.00000000e+00j, 0.+8.67361738e-19j, 1.-2.22049687e-16j,\n",
      "       0.+0.00000000e+00j]),\n",
      "    'eigenvalue': (-0.2452182918302677+0j),\n",
      "    'optimal_parameters': {   ParameterVectorElement(θ[1]): 0.01,\n",
      "                              ParameterVectorElement(θ[0]): 1.01},\n",
      "    'optimal_point': array([1.01, 0.01]),\n",
      "    'optimal_value': -0.2452182918302677,\n",
      "    'optimizer_evals': None,\n",
      "    'optimizer_time': 0.34134459495544434}\n"
     ]
    }
   ],
   "source": [
    "from IPython.display import display, clear_output\n",
    "\n",
    "def callback(eval_count, parameters, mean, std):\n",
    "    # overwrites same line when printing\n",
    "    display(\"Evaluation: {},\\tEnergy: {},\\tStd: {}\".format(eval_count, mean, std))\n",
    "    clear_output(wait=True)\n",
    "    counts.append(eval_count)\n",
    "    values.append(mean)\n",
    "    params.append(parameters)\n",
    "    deviation.append(std)\n",
    "    \n",
    "counts = []\n",
    "values = []\n",
    "params = []\n",
    "deviation = []\n",
    "\n",
    "# Set initial parameters of the ansatz\n",
    "# we choose a fixed small displacement\n",
    "\n",
    "try:\n",
    "    initial_point = [0.01] * len(ansatz.ordered_parameters)\n",
    "except:\n",
    "    initial_point = [0.01] * ansatz.num_parameters\n",
    "    \n",
    "algorithm = VQE(\n",
    "    ansatz,\n",
    "    optimizer=optimizer,\n",
    "    quantum_instance=state_sim,\n",
    "    callback=callback,\n",
    "    initial_point=initial_point\n",
    ")\n",
    "\n",
    "result = algorithm.compute_minimum_eigenvalue(qubit_op)\n",
    "\n",
    "print(result)"
   ]
  },
  {
   "cell_type": "code",
   "execution_count": 17,
   "id": "990b3dd6-41ec-411b-9209-3386b5657a9a",
   "metadata": {},
   "outputs": [],
   "source": [
    "# Storing results in a dictionary\n",
    "from qiskit.transpiler import PassManager\n",
    "from qiskit.transpiler.passes import Unroller\n",
    "# Unroller transpile our circuit into CNOTs and U gates\n",
    "pass_ = Unroller(['u', 'cx'])\n",
    "pm = PassManager(pass_)\n",
    "ansatz_tp = pm.run(ansatz)\n",
    "cnots = ansatz_tp.count_ops()['cx']\n",
    "score = cnots\n",
    "accuracy_threshold = 4.0 # in mHa\n",
    "energy = result.optimal_value\n",
    "\n",
    "# if ansatz_type == \"TwoLocal\":\n",
    "result_dict = {\n",
    "    'optimizer': optimizer.__class__.__name__,\n",
    "    'mapping': qubit_converter.mapper.__class__.__name__,\n",
    "    'ansatz': ansatz.__class__.__name__,\n",
    "    'rotation blocks': rotation_blocks,\n",
    "    'entanglement_blocks': entanglement_blocks,\n",
    "    'entanglement': entanglement,\n",
    "    'repetitions': repetitions,\n",
    "    'skip_final_rotation_layer': skip_final_rotation_layer,\n",
    "    'energy (Ha)': energy,\n",
    "    'error (mHa)': (energy-exact_energy)*1000,\n",
    "    'pass': (energy-exact_energy)*1000 <= accuracy_threshold,\n",
    "    '# of parameters': len(result.optimal_point),\n",
    "    'final parameters': result.optimal_point,\n",
    "    '# of evaluations': result.optimizer_evals,\n",
    "    'optimizer time': result.optimizer_time,\n",
    "    '# of qubits': int(qubit_op.num_qubits),\n",
    "    '# of CNOTs': cnots,\n",
    "    'score': score}"
   ]
  },
  {
   "cell_type": "code",
   "execution_count": 18,
   "id": "b63ee5fe-5886-4af8-8e75-58f559904f09",
   "metadata": {},
   "outputs": [
    {
     "data": {
      "text/html": [
       "<div>\n",
       "<style scoped>\n",
       "    .dataframe tbody tr th:only-of-type {\n",
       "        vertical-align: middle;\n",
       "    }\n",
       "\n",
       "    .dataframe tbody tr th {\n",
       "        vertical-align: top;\n",
       "    }\n",
       "\n",
       "    .dataframe thead th {\n",
       "        text-align: right;\n",
       "    }\n",
       "</style>\n",
       "<table border=\"1\" class=\"dataframe\">\n",
       "  <thead>\n",
       "    <tr style=\"text-align: right;\">\n",
       "      <th></th>\n",
       "      <th>optimizer</th>\n",
       "      <th>ansatz</th>\n",
       "      <th># of qubits</th>\n",
       "      <th>error (mHa)</th>\n",
       "      <th>pass</th>\n",
       "      <th>score</th>\n",
       "      <th># of parameters</th>\n",
       "      <th>rotation blocks</th>\n",
       "      <th>entanglement_blocks</th>\n",
       "      <th>entanglement</th>\n",
       "      <th>repetitions</th>\n",
       "    </tr>\n",
       "  </thead>\n",
       "  <tbody>\n",
       "    <tr>\n",
       "      <th>0</th>\n",
       "      <td>COBYLA</td>\n",
       "      <td>TwoLocal</td>\n",
       "      <td>2</td>\n",
       "      <td>1612.056738</td>\n",
       "      <td>False</td>\n",
       "      <td>3</td>\n",
       "      <td>2</td>\n",
       "      <td>[((Instruction(name='$A(\\theta, \\phi)$', num_q...</td>\n",
       "      <td>[]</td>\n",
       "      <td>linear</td>\n",
       "      <td>1</td>\n",
       "    </tr>\n",
       "  </tbody>\n",
       "</table>\n",
       "</div>"
      ],
      "text/plain": [
       "  optimizer    ansatz  # of qubits  error (mHa)   pass  score  \\\n",
       "0    COBYLA  TwoLocal            2  1612.056738  False      3   \n",
       "\n",
       "   # of parameters                                    rotation blocks  \\\n",
       "0                2  [((Instruction(name='$A(\\theta, \\phi)$', num_q...   \n",
       "\n",
       "  entanglement_blocks entanglement  repetitions  \n",
       "0                  []       linear            1  "
      ]
     },
     "execution_count": 18,
     "metadata": {},
     "output_type": "execute_result"
    },
    {
     "data": {
      "image/png": "[encoded data removed]",
      "text/plain": [
       "<Figure size 1382.4x777.6 with 1 Axes>"
      ]
     },
     "metadata": {
      "needs_background": "light"
     },
     "output_type": "display_data"
    }
   ],
   "source": [
    "# Plotting the results\n",
    "\n",
    "\n",
    "fig, ax = plt.subplots(1, 1, figsize=(19.20, 10.80))\n",
    "\n",
    "# ax.set_facecolor(\"#293952\")\n",
    "ax.set_xlabel('Iterations')\n",
    "ax.set_ylabel('Energy (Eh)')\n",
    "ax.grid()\n",
    "\n",
    "fig.text(0.7, 0.75, f'VQE Energy: {result.optimal_value:.4f} Eh\\nExact Energy: {exact_energy:.4f} Eh\\nScore: {score:.0f}')\n",
    "\n",
    "plt.title(f\"Ground State Energy of H2 using A VQE Ansatz\\nOptimizer: {result_dict['optimizer']} \\n Mapper: {result_dict['mapping']}\\nVariational Form: {result_dict['ansatz']} - RY\")\n",
    "\n",
    "ax.plot(counts, values)\n",
    "ax.axhline(exact_energy, linestyle='--')\n",
    "\n",
    "fig_title = f\"\\\n",
    "{result_dict['optimizer']}-\\\n",
    "{result_dict['mapping']}-\\\n",
    "{result_dict['ansatz']}-\\\n",
    "Energy({result_dict['energy (Ha)']:.3f})-\\\n",
    "Score({result_dict['score']:.0f})\\\n",
    ".png\"\n",
    "# fig.savefig(fig_title, dpi=300)\n",
    "\n",
    "\n",
    "# Displaying and saving the data\n",
    "\n",
    "import pandas as pd\n",
    "\n",
    "result_df = pd.DataFrame.from_dict([result_dict])\n",
    "result_df[['optimizer','ansatz', '# of qubits', 'error (mHa)', 'pass', 'score','# of parameters','rotation blocks', 'entanglement_blocks',\n",
    "\n",
    "    'entanglement', 'repetitions']]\n"
   ]
  },
  {
   "cell_type": "code",
   "execution_count": null,
   "id": "a8ed95ae-5a17-4aea-96c4-36dc06241d4f",
   "metadata": {},
   "outputs": [],
   "source": []
  }
 ],
 "metadata": {
  "kernelspec": {
   "display_name": "Qiskit v0.35.0 (ipykernel)",
   "language": "python",
   "name": "python3"
  },
  "language_info": {
   "codemirror_mode": {
    "name": "ipython",
    "version": 3
   },
   "file_extension": ".py",
   "mimetype": "text/x-python",
   "name": "python",
   "nbconvert_exporter": "python",
   "pygments_lexer": "ipython3",
   "version": "3.8.13"
  },
  "widgets": {
   "application/vnd.jupyter.widget-state+json": {
    "state": {
     "079cd2dfd0194392a98173a8f0b2c2df": {
      "model_module": "@jupyter-widgets/controls",
      "model_module_version": "1.5.0",
      "model_name": "HTMLModel",
      "state": {
       "layout": "IPY_MODEL_17881c324e2349eca339a0cc3d1249fa",
       "style": "IPY_MODEL_29677f10cf5c49a5bb04a880195e2013",
       "value": "<h5>Backend</h5>"
      }
     },
     "1486ab942e3c41aea7ba148a764ef8a9": {
      "model_module": "@jupyter-widgets/controls",
      "model_module_version": "1.5.0",
      "model_name": "DescriptionStyleModel",
      "state": {
       "description_width": ""
      }
     },
     "16840c410457458bb5c4d07d44a6e7c5": {
      "model_module": "@jupyter-widgets/base",
      "model_module_version": "1.2.0",
      "model_name": "LayoutModel",
      "state": {}
     },
     "17881c324e2349eca339a0cc3d1249fa": {
      "model_module": "@jupyter-widgets/base",
      "model_module_version": "1.2.0",
      "model_name": "LayoutModel",
      "state": {
       "width": "145px"
      }
     },
     "1d39c65ab6784839bacb8361c50c8b65": {
      "model_module": "@jupyter-widgets/controls",
      "model_module_version": "1.5.0",
      "model_name": "HTMLModel",
      "state": {
       "layout": "IPY_MODEL_a6699df1447f4c7a98d0cc4bb420e6d1",
       "style": "IPY_MODEL_eed643035f184cf5b87e3f1282138827",
       "value": "<p style='font-family: IBM Plex Sans, Arial, Helvetica, sans-serif; font-size: 20px; font-weight: medium;'>Circuit Properties</p>"
      }
     },
     "29677f10cf5c49a5bb04a880195e2013": {
      "model_module": "@jupyter-widgets/controls",
      "model_module_version": "1.5.0",
      "model_name": "DescriptionStyleModel",
      "state": {
       "description_width": ""
      }
     },
     "3ab18d29adcb4b2984de7bf3e38ec19b": {
      "model_module": "@jupyter-widgets/controls",
      "model_module_version": "1.5.0",
      "model_name": "HTMLModel",
      "state": {
       "layout": "IPY_MODEL_5d82c5230512437a9582d4fd56c2b686",
       "style": "IPY_MODEL_650de2c337d54e15a7eb6c0356a879c6",
       "value": "<h5>Status</h5>"
      }
     },
     "4101c5eccc6f421980186a0f018ff9be": {
      "model_module": "@jupyter-widgets/controls",
      "model_module_version": "1.5.0",
      "model_name": "DescriptionStyleModel",
      "state": {
       "description_width": ""
      }
     },
     "50094863c2e44332808d961aaa3df547": {
      "model_module": "@jupyter-widgets/base",
      "model_module_version": "1.2.0",
      "model_name": "LayoutModel",
      "state": {
       "width": "70px"
      }
     },
     "5a57bdccac5d4df2b54948efdbff8e0a": {
      "model_module": "@jupyter-widgets/controls",
      "model_module_version": "1.5.0",
      "model_name": "HBoxModel",
      "state": {
       "children": [
        "IPY_MODEL_76fb261b9ebb465296b7debd52755d09",
        "IPY_MODEL_079cd2dfd0194392a98173a8f0b2c2df",
        "IPY_MODEL_3ab18d29adcb4b2984de7bf3e38ec19b",
        "IPY_MODEL_6e0c8ec255964deda7b552a62389254f",
        "IPY_MODEL_8697801691b34e9797702582f66df15d"
       ],
       "layout": "IPY_MODEL_5c0e647268204a37ac0a3894ec927429"
      }
     },
     "5c0e647268204a37ac0a3894ec927429": {
      "model_module": "@jupyter-widgets/base",
      "model_module_version": "1.2.0",
      "model_name": "LayoutModel",
      "state": {
       "margin": "0px 0px 0px 37px",
       "width": "600px"
      }
     },
     "5d82c5230512437a9582d4fd56c2b686": {
      "model_module": "@jupyter-widgets/base",
      "model_module_version": "1.2.0",
      "model_name": "LayoutModel",
      "state": {
       "width": "95px"
      }
     },
     "650de2c337d54e15a7eb6c0356a879c6": {
      "model_module": "@jupyter-widgets/controls",
      "model_module_version": "1.5.0",
      "model_name": "DescriptionStyleModel",
      "state": {
       "description_width": ""
      }
     },
     "65de05e5095140bc9fbec0a08ecd3adf": {
      "model_module": "@jupyter-widgets/controls",
      "model_module_version": "1.5.0",
      "model_name": "ButtonModel",
      "state": {
       "button_style": "primary",
       "description": "Clear",
       "layout": "IPY_MODEL_a5a9859a41bc43c1a81744f24bc27175",
       "style": "IPY_MODEL_89bd8103a11b4039a01509eb5c8415c6"
      }
     },
     "6e0c8ec255964deda7b552a62389254f": {
      "model_module": "@jupyter-widgets/controls",
      "model_module_version": "1.5.0",
      "model_name": "HTMLModel",
      "state": {
       "layout": "IPY_MODEL_50094863c2e44332808d961aaa3df547",
       "style": "IPY_MODEL_e143972a51f5481c837669cf3ae4dc95",
       "value": "<h5>Queue</h5>"
      }
     },
     "76fb261b9ebb465296b7debd52755d09": {
      "model_module": "@jupyter-widgets/controls",
      "model_module_version": "1.5.0",
      "model_name": "HTMLModel",
      "state": {
       "layout": "IPY_MODEL_ae7eadca32cb40ba8b808ac0cff6dc96",
       "style": "IPY_MODEL_1486ab942e3c41aea7ba148a764ef8a9",
       "value": "<h5>Job ID</h5>"
      }
     },
     "8697801691b34e9797702582f66df15d": {
      "model_module": "@jupyter-widgets/controls",
      "model_module_version": "1.5.0",
      "model_name": "HTMLModel",
      "state": {
       "layout": "IPY_MODEL_16840c410457458bb5c4d07d44a6e7c5",
       "style": "IPY_MODEL_4101c5eccc6f421980186a0f018ff9be",
       "value": "<h5>Message</h5>"
      }
     },
     "89bd8103a11b4039a01509eb5c8415c6": {
      "model_module": "@jupyter-widgets/controls",
      "model_module_version": "1.5.0",
      "model_name": "ButtonStyleModel",
      "state": {}
     },
     "a5a9859a41bc43c1a81744f24bc27175": {
      "model_module": "@jupyter-widgets/base",
      "model_module_version": "1.2.0",
      "model_name": "LayoutModel",
      "state": {
       "grid_area": "right",
       "padding": "0px 0px 0px 0px",
       "width": "70px"
      }
     },
     "a6699df1447f4c7a98d0cc4bb420e6d1": {
      "model_module": "@jupyter-widgets/base",
      "model_module_version": "1.2.0",
      "model_name": "LayoutModel",
      "state": {
       "margin": "0px 0px 10px 0px"
      }
     },
     "ae7eadca32cb40ba8b808ac0cff6dc96": {
      "model_module": "@jupyter-widgets/base",
      "model_module_version": "1.2.0",
      "model_name": "LayoutModel",
      "state": {
       "width": "190px"
      }
     },
     "c8f5775262cb41248b41bff522ebd7e8": {
      "model_module": "@jupyter-widgets/controls",
      "model_module_version": "1.5.0",
      "model_name": "GridBoxModel",
      "state": {
       "children": [
        "IPY_MODEL_65de05e5095140bc9fbec0a08ecd3adf"
       ],
       "layout": "IPY_MODEL_e2c19672557649c7b33350cf0ae7d491"
      }
     },
     "e143972a51f5481c837669cf3ae4dc95": {
      "model_module": "@jupyter-widgets/controls",
      "model_module_version": "1.5.0",
      "model_name": "DescriptionStyleModel",
      "state": {
       "description_width": ""
      }
     },
     "e2c19672557649c7b33350cf0ae7d491": {
      "model_module": "@jupyter-widgets/base",
      "model_module_version": "1.2.0",
      "model_name": "LayoutModel",
      "state": {
       "grid_template_areas": "\n                                       \". . . . right \"\n                                        ",
       "grid_template_columns": "20% 20% 20% 20% 20%",
       "width": "100%"
      }
     },
     "eed643035f184cf5b87e3f1282138827": {
      "model_module": "@jupyter-widgets/controls",
      "model_module_version": "1.5.0",
      "model_name": "DescriptionStyleModel",
      "state": {
       "description_width": ""
      }
     }
    },
    "version_major": 2,
    "version_minor": 0
   }
  }
 },
 "nbformat": 4,
 "nbformat_minor": 5
}
