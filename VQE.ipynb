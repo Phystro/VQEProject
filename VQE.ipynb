{
 "cells": [
  {
   "cell_type": "markdown",
   "id": "f5fcff4b",
   "metadata": {},
   "source": [
    "# The Variational Quantum Eigensolver Algorithm"
   ]
  },
  {
   "cell_type": "code",
   "execution_count": 9,
   "id": "0d0485d2",
   "metadata": {},
   "outputs": [],
   "source": [
    "import numpy as np\n",
    "\n",
    "from VariationalForms import VariationalForms\n",
    "\n",
    "from qiskit import *\n",
    "\n",
    "from qiskit.visualization import *\n",
    "\n",
    "from qiskit.providers.aer import QasmSimulator, StatevectorSimulator, UnitarySimulator\n"
   ]
  },
  {
   "cell_type": "code",
   "execution_count": 10,
   "id": "9685eb5e",
   "metadata": {},
   "outputs": [],
   "source": [
    "qasm_sim = QasmSimulator()\n",
    "state_sim = StatevectorSimulator()\n",
    "unit_sim = UnitarySimulator()\n",
    "\n",
    "vf = VariationalForms()"
   ]
  },
  {
   "cell_type": "markdown",
   "id": "1129fadd",
   "metadata": {},
   "source": [
    "# Variational Forms"
   ]
  },
  {
   "cell_type": "markdown",
   "id": "2a4d1baa",
   "metadata": {},
   "source": [
    "### Rotation Gates\n",
    "\n",
    "\n",
    "\\begin{align}\n",
    "    \\mathbf{R_z(\\theta) = e^{-i\\frac{\\theta}{2}\\sigma_z}}\n",
    "\\end{align}\n",
    "\n",
    "\\begin{align}\n",
    "    \\mathbf{R_y(\\phi) = e^{-i\\frac{\\phi}{2}\\sigma_y}}\n",
    "\\end{align}"
   ]
  },
  {
   "cell_type": "markdown",
   "id": "d8a9e2d4",
   "metadata": {},
   "source": [
    "## $R(\\theta, \\phi)$\n",
    "\n",
    "$R(\\theta, \\phi)$ Rotation gate, where:\n",
    "$R(\\theta, \\phi) = $"
   ]
  },
  {
   "cell_type": "code",
   "execution_count": 11,
   "id": "f65d0627",
   "metadata": {},
   "outputs": [
    {
     "data": {
      "image/png": "[encoded data removed]",
      "text/plain": [
       "<Figure size 237.569x84.28 with 1 Axes>"
      ]
     },
     "execution_count": 11,
     "metadata": {},
     "output_type": "execute_result"
    }
   ],
   "source": [
    "vf.draw(vf.R(0, 0))"
   ]
  },
  {
   "cell_type": "code",
   "execution_count": 12,
   "id": "76c12b2c",
   "metadata": {},
   "outputs": [
    {
     "data": {
      "image/png": "[encoded data removed]",
      "text/plain": [
       "<Figure size 237.569x84.28 with 1 Axes>"
      ]
     },
     "execution_count": 12,
     "metadata": {},
     "output_type": "execute_result"
    }
   ],
   "source": [
    "vf.decompose(vf.R(0, 0))"
   ]
  },
  {
   "cell_type": "markdown",
   "id": "12c99af3",
   "metadata": {},
   "source": [
    "## $R(\\theta, \\phi)^\\dagger$\n",
    "\n",
    "$R(\\theta, \\phi)^\\dagger$ Rotation gate"
   ]
  },
  {
   "cell_type": "code",
   "execution_count": 13,
   "id": "e30cb7e6",
   "metadata": {},
   "outputs": [
    {
     "data": {
      "image/png": "[encoded data removed]",
      "text/plain": [
       "<Figure size 237.569x84.28 with 1 Axes>"
      ]
     },
     "execution_count": 13,
     "metadata": {},
     "output_type": "execute_result"
    }
   ],
   "source": [
    "vf.draw(vf.Rd(0, 0))"
   ]
  },
  {
   "cell_type": "code",
   "execution_count": 14,
   "id": "8018f749",
   "metadata": {},
   "outputs": [
    {
     "data": {
      "image/png": "[encoded data removed]",
      "text/plain": [
       "<Figure size 237.569x84.28 with 1 Axes>"
      ]
     },
     "execution_count": 14,
     "metadata": {},
     "output_type": "execute_result"
    }
   ],
   "source": [
    "vf.decompose(vf.Rd(0, 0))"
   ]
  },
  {
   "cell_type": "markdown",
   "id": "b14b092c",
   "metadata": {},
   "source": [
    "## $A(\\theta, \\phi)$\n",
    "\n",
    "$A(\\theta, \\phi)$ 2 Qubit A gate. Preserves **Particle-Number Symmetry** and **Time-Reversal Symmetry**"
   ]
  },
  {
   "cell_type": "code",
   "execution_count": 15,
   "id": "a40921c7",
   "metadata": {},
   "outputs": [
    {
     "data": {
      "image/png": "[encoded data removed]",
      "text/plain": [
       "<Figure size 250.695x144.48 with 1 Axes>"
      ]
     },
     "execution_count": 15,
     "metadata": {},
     "output_type": "execute_result"
    }
   ],
   "source": [
    "vf.draw(vf.A(0, 0))"
   ]
  },
  {
   "cell_type": "code",
   "execution_count": 16,
   "id": "aeabbb22",
   "metadata": {},
   "outputs": [
    {
     "data": {
      "image/png": "[encoded data removed]",
      "text/plain": [
       "<Figure size 551.695x144.48 with 1 Axes>"
      ]
     },
     "execution_count": 16,
     "metadata": {},
     "output_type": "execute_result"
    }
   ],
   "source": [
    "vf.decompose(vf.A(0, 0))"
   ]
  },
  {
   "cell_type": "code",
   "execution_count": 23,
   "id": "affdcefd",
   "metadata": {},
   "outputs": [
    {
     "name": "stdout",
     "output_type": "stream",
     "text": [
      "Figure(748.797x204.68)\n"
     ]
    }
   ],
   "source": []
  }
 ],
 "metadata": {
  "kernelspec": {
   "display_name": "Python 3 (ipykernel)",
   "language": "python",
   "name": "python3"
  },
  "language_info": {
   "codemirror_mode": {
    "name": "ipython",
    "version": 3
   },
   "file_extension": ".py",
   "mimetype": "text/x-python",
   "name": "python",
   "nbconvert_exporter": "python",
   "pygments_lexer": "ipython3",
   "version": "3.10.4"
  }
 },
 "nbformat": 4,
 "nbformat_minor": 5
}
