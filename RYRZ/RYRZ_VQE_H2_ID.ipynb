{
 "cells": [
  {
   "cell_type": "markdown",
   "id": "b4f1dac1-648e-4c32-91cc-d454eee849ed",
   "metadata": {},
   "source": [
    "# Variational Quantum Eigensolver - Ground State Energy for $H2$ Molecule using the RYRZ ansatz¶"
   ]
  },
  {
   "cell_type": "code",
   "execution_count": 10,
   "id": "0f90f032-cfe8-44fb-b128-7b2e831ab418",
   "metadata": {},
   "outputs": [
    {
     "name": "stderr",
     "output_type": "stream",
     "text": [
      "ibmqfactory.load_account:WARNING:2022-04-19 20:44:05,604: Credentials are already in use. The existing account in the session will be replaced.\n"
     ]
    }
   ],
   "source": [
    "import numpy as np\n",
    "import matplotlib.pyplot as plt\n",
    "\n",
    "# Importing standard Qiskit libraries\n",
    "from qiskit import QuantumCircuit, transpile, IBMQ\n",
    "\n",
    "from qiskit.tools.jupyter import *\n",
    "\n",
    "from qiskit.visualization import *\n",
    "\n",
    "from ibm_quantum_widgets import *\n",
    "\n",
    "from qiskit.providers.aer import QasmSimulator, StatevectorSimulator\n",
    "\n",
    "from qiskit.utils import QuantumInstance\n",
    "\n",
    "# Loading your IBM Quantum account(s)\n",
    "provider = IBMQ.load_account()"
   ]
  },
  {
   "cell_type": "code",
   "execution_count": 11,
   "id": "610d8cac-f84c-454f-819c-09a9f0c7faa8",
   "metadata": {},
   "outputs": [],
   "source": [
    "# Chemistry Drivers\n",
    "from qiskit_nature.drivers.second_quantization.pyscfd import PySCFDriver\n",
    "\n",
    "from qiskit_nature.transformers.second_quantization.electronic import FreezeCoreTransformer\n",
    "\n",
    "from qiskit.opflow.primitive_ops import Z2Symmetries\n",
    "\n",
    "# Electroinic structure problem\n",
    "from qiskit_nature.problems.second_quantization.electronic import ElectronicStructureProblem\n",
    "\n",
    "# Qubit converter\n",
    "from qiskit_nature.converters.second_quantization.qubit_converter import QubitConverter\n",
    "\n",
    "# Mappers\n",
    "from qiskit_nature.mappers.second_quantization import ParityMapper, BravyiKitaevMapper, JordanWignerMapper\n",
    "\n",
    "# Initial state\n",
    "from qiskit_nature.circuit.library import HartreeFock\n",
    "\n",
    "# Variational form - circuit\n",
    "from qiskit.circuit.library import TwoLocal\n",
    "\n",
    "# Optimizer\n",
    "from qiskit.algorithms.optimizers import COBYLA, SLSQP, SPSA\n",
    "\n",
    "# Algorithms and Factories\n",
    "from qiskit_nature.algorithms import ExcitedStatesEigensolver, NumPyEigensolverFactory\n",
    "\n",
    "# Eigen Solvers\n",
    "# NumPy Minimum Eigen Solver\n",
    "from qiskit_nature.algorithms.ground_state_solvers.minimum_eigensolver_factories import NumPyMinimumEigensolverFactory\n",
    "# ground state\n",
    "from qiskit_nature.algorithms.ground_state_solvers import GroundStateEigensolver\n",
    "# VQE Solver\n",
    "from qiskit.algorithms import VQE"
   ]
  },
  {
   "cell_type": "markdown",
   "id": "e3015f61-ad68-41ce-a815-75c2743b032f",
   "metadata": {},
   "source": [
    "Backend"
   ]
  },
  {
   "cell_type": "code",
   "execution_count": 12,
   "id": "bd91343e-4c4d-4979-b2b7-7b5d773fffc6",
   "metadata": {},
   "outputs": [],
   "source": [
    "qasm_sim = QasmSimulator()\n",
    "state_sim = StatevectorSimulator()"
   ]
  },
  {
   "cell_type": "markdown",
   "id": "2e1c9316-dd70-447f-996d-ce32eebf19ae",
   "metadata": {},
   "source": [
    "Drivers\n",
    "\n",
    "Below we set up a PySCF driver for $H2$ molecule at equilibrium bond length 0.735 Angstrom"
   ]
  },
  {
   "cell_type": "code",
   "execution_count": 13,
   "id": "7490b568-d9a7-4e9e-baa4-7ef9b4059b23",
   "metadata": {},
   "outputs": [],
   "source": [
    "def exact_diagonalizer(es_problem, qubit_converter):\n",
    "    solver = NumPyMinimumEigensolverFactory()\n",
    "    calc = GroundStateEigensolver(qubit_converter, solver)\n",
    "    result = calc.solve(es_problem)\n",
    "    return result"
   ]
  },
  {
   "cell_type": "code",
   "execution_count": 14,
   "id": "003c68eb-7089-4317-a5f1-8e7fe8a41bc6",
   "metadata": {},
   "outputs": [],
   "source": [
    "def get_mapper(mapper_str: str):\n",
    "    if mapper_str == \"jw\":\n",
    "        mapper = JordanWignerMapper()\n",
    "    elif mapper_str == \"pa\":\n",
    "        mapper = ParityMapper()\n",
    "    elif mapper_str == \"bk\":\n",
    "        mapper = BravyiKitaevMapper()\n",
    "        \n",
    "    return mapper"
   ]
  },
  {
   "cell_type": "code",
   "execution_count": 15,
   "id": "b304b409-9d9e-4661-aa6b-8fdecf1d989e",
   "metadata": {},
   "outputs": [],
   "source": [
    "def initial_state_preparation(dist: float, mapper_str: str = \"jw\"):\n",
    "    \n",
    "    molecule = \"H 0.0 0.0 0.0; H 0.0 0.0 \" + str(dist)\n",
    "    driver = PySCFDriver(atom=molecule)\n",
    "    qmolecule = driver.run()\n",
    "    \n",
    "    transformer = FreezeCoreTransformer()\n",
    "    qmolecule = transformer.transform(qmolecule)\n",
    "    es_problem = ElectronicStructureProblem(driver)\n",
    "    \n",
    "    # generating second_quzntized operators\n",
    "    second_q_ops = es_problem.second_q_ops()\n",
    "    \n",
    "    # Hamiltonian\n",
    "    main_op = second_q_ops[0]\n",
    "    \n",
    "    # return tuple of number of particles if available\n",
    "    num_particles = es_problem.num_particles\n",
    "    # return the number of spin orbitals\n",
    "    num_spin_orbitals = es_problem.num_spin_orbitals\n",
    "    \n",
    "    mapper = get_mapper(mapper_str)\n",
    "    \n",
    "    qubit_converter = QubitConverter(mapper=mapper, two_qubit_reduction=True)#, z2symmetry_reduction=[1, 1])\n",
    "    \n",
    "    # Qubit Hamiltonian\n",
    "    qubit_op = qubit_converter.convert(main_op, num_particles=num_particles)\n",
    "    \n",
    "    return (qubit_op, num_particles, num_spin_orbitals, qubit_converter, es_problem)"
   ]
  },
  {
   "cell_type": "code",
   "execution_count": 16,
   "id": "efc9eb02-769e-4c76-9ad6-8856775b34b8",
   "metadata": {},
   "outputs": [],
   "source": [
    "inter_atomic_dists: list = np.arange(0.45, 1.25, 0.05)"
   ]
  },
  {
   "cell_type": "code",
   "execution_count": 17,
   "id": "974d9b1c-f13c-4f13-9031-6552d8250e3d",
   "metadata": {},
   "outputs": [
    {
     "name": "stdout",
     "output_type": "stream",
     "text": [
      "Total Ground State Energies of H2 Molecule using NumPyMinimumEigensolver algorithm\n",
      "\n",
      "Interatomic dist: 0.4500 Å \t Electronic Ground Energy: -2.1744 Eh \tTotal Ground State Energy: -0.9984 Eh\n",
      "Interatomic dist: 0.5000 Å \t Electronic Ground Energy: -2.1135 Eh \tTotal Ground State Energy: -1.0552 Eh\n",
      "Interatomic dist: 0.5500 Å \t Electronic Ground Energy: -2.0548 Eh \tTotal Ground State Energy: -1.0926 Eh\n",
      "Interatomic dist: 0.6000 Å \t Electronic Ground Energy: -1.9982 Eh \tTotal Ground State Energy: -1.1163 Eh\n",
      "Interatomic dist: 0.6500 Å \t Electronic Ground Energy: -1.9440 Eh \tTotal Ground State Energy: -1.1299 Eh\n",
      "Interatomic dist: 0.7000 Å \t Electronic Ground Energy: -1.8922 Eh \tTotal Ground State Energy: -1.1362 Eh\n",
      "Interatomic dist: 0.7500 Å \t Electronic Ground Energy: -1.8427 Eh \tTotal Ground State Energy: -1.1371 Eh\n",
      "Interatomic dist: 0.8000 Å \t Electronic Ground Energy: -1.7956 Eh \tTotal Ground State Energy: -1.1341 Eh\n",
      "Interatomic dist: 0.8500 Å \t Electronic Ground Energy: -1.7509 Eh \tTotal Ground State Energy: -1.1284 Eh\n",
      "Interatomic dist: 0.9000 Å \t Electronic Ground Energy: -1.7085 Eh \tTotal Ground State Energy: -1.1206 Eh\n",
      "Interatomic dist: 0.9500 Å \t Electronic Ground Energy: -1.6684 Eh \tTotal Ground State Energy: -1.1113 Eh\n",
      "Interatomic dist: 1.0000 Å \t Electronic Ground Energy: -1.6303 Eh \tTotal Ground State Energy: -1.1012 Eh\n",
      "Interatomic dist: 1.0500 Å \t Electronic Ground Energy: -1.5943 Eh \tTotal Ground State Energy: -1.0903 Eh\n",
      "Interatomic dist: 1.1000 Å \t Electronic Ground Energy: -1.5603 Eh \tTotal Ground State Energy: -1.0792 Eh\n",
      "Interatomic dist: 1.1500 Å \t Electronic Ground Energy: -1.5281 Eh \tTotal Ground State Energy: -1.0679 Eh\n",
      "Interatomic dist: 1.2000 Å \t Electronic Ground Energy: -1.4977 Eh \tTotal Ground State Energy: -1.0567 Eh\n"
     ]
    }
   ],
   "source": [
    "numpy_eigensolver_electronic_ground_energies: list = []\n",
    "numpy_eigensolver_nuclear_repulsion_energies: list = []\n",
    "numpy_eigensolver_total_ground_state_energies: list = []\n",
    "\n",
    "from qiskit_nature.algorithms import ExcitedStatesEigensolver, NumPyEigensolverFactory\n",
    "\n",
    "print(\"Total Ground State Energies of H2 Molecule using NumPyMinimumEigensolver algorithm\\n\")\n",
    "\n",
    "for dist in inter_atomic_dists:\n",
    "    qubit_op, num_particles, num_spin_orbitals, qubit_converter, es_problem = initial_state_preparation(dist, \"pa\")\n",
    "    # construct NumPyEigensolver - solver algorithm\n",
    "    numpy_solver = NumPyEigensolverFactory(use_default_filter_criterion=True)\n",
    "    # calculate excited states using the NumPyEigensolver solver algorithm\n",
    "    numpy_excited_states_calculation = ExcitedStatesEigensolver(qubit_converter, numpy_solver)\n",
    "    # Compute Ground and Excited States properties.\n",
    "    numpy_ground_excited_states_properties = numpy_excited_states_calculation.solve(es_problem)\n",
    "    \n",
    "    # Get Repulsion energy from properties of ground and excited states\n",
    "    nuclear_repulsion_energy = numpy_ground_excited_states_properties.nuclear_repulsion_energy\n",
    "    numpy_eigensolver_nuclear_repulsion_energies.append(nuclear_repulsion_energy)\n",
    "    \n",
    "    # constructs NumPyMinimumEigensolver - solver algorithm\n",
    "    numpy_minimum_solver = NumPyMinimumEigensolverFactory()\n",
    "    # compute the ground state using a minimum eigensolver\n",
    "    numpy_ground_state_calculation = GroundStateEigensolver(qubit_converter, numpy_minimum_solver)\n",
    "    # Compute Ground state properties - returns an Eigenstate result\n",
    "    numpy_ground_state_properties = numpy_ground_state_calculation.solve(es_problem)\n",
    "    \n",
    "    # Get electronic ground state energies\n",
    "    electronic_ground_energy = np.real(numpy_ground_state_properties.eigenenergies[0])\n",
    "    numpy_eigensolver_electronic_ground_energies.append(electronic_ground_energy)\n",
    "    \n",
    "    # Get the total ground state energy\n",
    "    total_ground_state_energy = (electronic_ground_energy + nuclear_repulsion_energy)\n",
    "    numpy_eigensolver_total_ground_state_energies.append(total_ground_state_energy)\n",
    "    \n",
    "    print(\"Interatomic dist: {:.4f} Å \\t Electronic Ground Energy: {:.4f} Eh \\tTotal Ground State Energy: {:.4f} Eh\".format(dist, electronic_ground_energy, total_ground_state_energy))\n",
    "    # print(\"Interatomic dist: {:.4f} Å \\t Total Ground State Energy: {:.4f} Eh\".format(dist, total_ground_state_energy))\n",
    "   "
   ]
  },
  {
   "cell_type": "code",
   "execution_count": 20,
   "id": "ebaae50a-8299-4538-98a1-0e39d30f6444",
   "metadata": {},
   "outputs": [
    {
     "data": {
      "image/png": "[encoded data removed]",
      "text/plain": [
       "<Figure size 1382.4x777.6 with 1 Axes>"
      ]
     },
     "metadata": {
      "needs_background": "light"
     },
     "output_type": "display_data"
    }
   ],
   "source": [
    "fig, ax = plt.subplots(1, 1, figsize=(19.20, 10.80))\n",
    "plt.plot(inter_atomic_dists, numpy_eigensolver_total_ground_state_energies)\n",
    "plt.show()"
   ]
  },
  {
   "cell_type": "code",
   "execution_count": 21,
   "id": "3851e745-51aa-4276-be5e-32883c9486be",
   "metadata": {},
   "outputs": [
    {
     "name": "stdout",
     "output_type": "stream",
     "text": [
      "{   'aux_operator_eigenvalues': None,\n",
      "    'cost_function_evals': 45,\n",
      "    'eigenstate': array([-0.70656683+3.39379361e-03j,  0.01810002+1.64569289e-05j,\n",
      "       -0.00346729-9.08965763e-05j,  0.70738861-3.67604643e-03j]),\n",
      "    'eigenvalue': (-1.269500898813898+0j),\n",
      "    'optimal_parameters': {   ParameterVectorElement(θ[7]): -0.0001302673930246136,\n",
      "                              ParameterVectorElement(θ[2]): -0.0001303423181471296,\n",
      "                              ParameterVectorElement(θ[3]): 0.009999786580074534,\n",
      "                              ParameterVectorElement(θ[6]): -0.00013138004224709466,\n",
      "                              ParameterVectorElement(θ[4]): -0.005677248841177841,\n",
      "                              ParameterVectorElement(θ[5]): -0.014999657975154405,\n",
      "                              ParameterVectorElement(θ[1]): 0.030496599370323278,\n",
      "                              ParameterVectorElement(θ[0]): 1.5694898684343759},\n",
      "    'optimal_point': array([ 1.56948987e+00,  3.04965994e-02, -1.30342318e-04,  9.99978658e-03,\n",
      "       -5.67724884e-03, -1.49996580e-02, -1.31380042e-04, -1.30267393e-04]),\n",
      "    'optimal_value': -1.269500898813898,\n",
      "    'optimizer_evals': None,\n",
      "    'optimizer_time': 0.43104028701782227}\n"
     ]
    }
   ],
   "source": [
    "ryrz_electronic_ground_energies: list = []\n",
    "ryrz_nuclear_repulsion_energies: list = []\n",
    "ryrz_total_ground_state_energies: list = []\n",
    "\n",
    "from qiskit.utils import QuantumInstance\n",
    "from qiskit_nature.algorithms import ExcitedStatesEigensolver, NumPyEigensolverFactory, VQEUCCFactory\n",
    "\n",
    "from IPython.display import display, clear_output\n",
    "\n",
    "def callback(eval_count, parameters, mean, std):\n",
    "    # overwrites same line when printing\n",
    "    display(\"Evaluation: {},\\tEnergy: {},\\tStd: {}\".format(eval_count, mean, std))\n",
    "    clear_output(wait=True)\n",
    "    counts.append(eval_count)\n",
    "    values.append(mean)\n",
    "    params.append(parameters)\n",
    "    deviation.append(std)\n",
    "    \n",
    "counts = []\n",
    "values = []\n",
    "params = []\n",
    "deviation = []\n",
    "\n",
    "# provider = IBMQ.get_provider(hub='ibm-q')\n",
    "# backend = provider.get_backend('ibmq_toronto')\n",
    "backend = state_sim#Aer.get_backend(\"aer_simulator_statevector\")\n",
    "quantum_instance = QuantumInstance(backend=backend)\n",
    "optimizer = SLSQP(maxiter=5)\n",
    "# optimizer = COBYLA(maxiter=10000)\n",
    "\n",
    "print(\"Total Ground State Energies of H2 Molecule using RYRZ ansatz\\n\")\n",
    "\n",
    "for dist in inter_atomic_dists:\n",
    "    qubit_op, num_particles, num_spin_orbitals, qubit_converter, es_problem = initial_state_preparation(dist, \"pa\")\n",
    "\n",
    "    init_state = HartreeFock(num_spin_orbitals, num_particles, qubit_converter)\n",
    "\n",
    "    # init_state.draw(\"mpl\", initial_state=True)\n",
    "\n",
    "    # Setting up TwoLocal for our ansatz\n",
    "    ansatz_type = \"RYRZ\"\n",
    "\n",
    "    # Single qubit rotations that are placed on all qubits with independent parameters\n",
    "    rotation_blocks = [\"ry\", \"rz\"]\n",
    "    # Entangling gates\n",
    "    entanglement_blocks = \"cx\"\n",
    "    # How the qubits are entangled?\n",
    "    entanglement = 'linear'\n",
    "    # Repetitions of rotation_blocks + entanglement_blocks with independent parameters\n",
    "    repetitions = 1\n",
    "    # Skipoing the final rotation_blocks layer\n",
    "    skip_final_rotation_layer = False\n",
    "\n",
    "    ansatz = TwoLocal(\n",
    "        qubit_op.num_qubits,\n",
    "        rotation_blocks,\n",
    "        entanglement_blocks,\n",
    "        reps=repetitions,\n",
    "        entanglement=entanglement,\n",
    "        skip_final_rotation_layer=skip_final_rotation_layer,\n",
    "        insert_barriers=True)\n",
    "\n",
    "    # Add the initial state\n",
    "    ansatz.compose(init_state, front=True, inplace=True)\n",
    "\n",
    "    try:\n",
    "        initial_point = [0.01] * len(ansatz.ordered_parameters)\n",
    "    except:\n",
    "        initial_point = [0.01] * ansatz.num_parameters\n",
    "\n",
    "    algorithm = VQE(\n",
    "        ansatz,\n",
    "        optimizer=optimizer,\n",
    "        quantum_instance=state_sim,\n",
    "        callback=callback,\n",
    "        initial_point=initial_point\n",
    "    )\n",
    "\n",
    "    result = algorithm.compute_minimum_eigenvalue(qubit_op)\n",
    "    print(result)\n",
    "    ryrz_total_ground_state_energies.append( np.real(result.eigenvalue) )\n",
    "    # print(np.real(result.eigenvalue))\n",
    "    "
   ]
  },
  {
   "cell_type": "code",
   "execution_count": 22,
   "id": "4444e951-1192-4664-95b1-e2d0f520ec96",
   "metadata": {},
   "outputs": [
    {
     "data": {
      "image/png": "[encoded data removed]",
      "text/plain": [
       "<Figure size 1382.4x777.6 with 1 Axes>"
      ]
     },
     "metadata": {
      "needs_background": "light"
     },
     "output_type": "display_data"
    }
   ],
   "source": [
    "fig, ax = plt.subplots(1, 1, figsize=(19.20, 10.80))\n",
    "# plt.plot(inter_atomic_dists, numpy_minimum_solver_total_ground_state_energies)\n",
    "plt.plot(inter_atomic_dists, ryrz_total_ground_state_energies)\n",
    "plt.show()"
   ]
  },
  {
   "cell_type": "code",
   "execution_count": 23,
   "id": "d8b31e74-9c2a-4a99-a91d-4b8a7163eb4d",
   "metadata": {},
   "outputs": [],
   "source": [
    "# Storing results in a dictionary\n",
    "from qiskit.transpiler import PassManager\n",
    "from qiskit.transpiler.passes import Unroller\n",
    "# Unroller transpile our circuit into CNOTs and U gates\n",
    "pass_ = Unroller(['u', 'cx'])\n",
    "pm = PassManager(pass_)\n",
    "ansatz_tp = pm.run(ansatz)\n",
    "cnots = ansatz_tp.count_ops()['cx']\n",
    "score = cnots\n",
    "accuracy_threshold = 4.0 # in mHa\n",
    "energy = result.optimal_value\n",
    "\n",
    "# if ansatz_type == \"TwoLocal\":\n",
    "result_dict = {\n",
    "    'optimizer': optimizer.__class__.__name__,\n",
    "    'mapping': qubit_converter.mapper.__class__.__name__,\n",
    "    'ansatz': ansatz.__class__.__name__,\n",
    "    'rotation blocks': rotation_blocks,\n",
    "    'entanglement_blocks': entanglement_blocks,\n",
    "    'entanglement': entanglement,\n",
    "    'repetitions': repetitions,\n",
    "    'skip_final_rotation_layer': skip_final_rotation_layer,\n",
    "    # 'energy (Ha)': energy,\n",
    "    # 'error (mHa)': (energy-exact_energy)*1000,\n",
    "    # 'pass': (energy-exact_energy)*1000 <= accuracy_threshold,\n",
    "    '# of parameters': len(result.optimal_point),\n",
    "    'final parameters': result.optimal_point,\n",
    "    '# of evaluations': result.optimizer_evals,\n",
    "    'optimizer time': result.optimizer_time,\n",
    "    '# of qubits': int(qubit_op.num_qubits),\n",
    "    '# of CNOTs': cnots,\n",
    "    # 'score': score\n",
    "}"
   ]
  },
  {
   "cell_type": "code",
   "execution_count": 31,
   "id": "6ff16efd-8870-452f-b297-b8f433e18c41",
   "metadata": {},
   "outputs": [
    {
     "data": {
      "text/html": [
       "<div>\n",
       "<style scoped>\n",
       "    .dataframe tbody tr th:only-of-type {\n",
       "        vertical-align: middle;\n",
       "    }\n",
       "\n",
       "    .dataframe tbody tr th {\n",
       "        vertical-align: top;\n",
       "    }\n",
       "\n",
       "    .dataframe thead th {\n",
       "        text-align: right;\n",
       "    }\n",
       "</style>\n",
       "<table border=\"1\" class=\"dataframe\">\n",
       "  <thead>\n",
       "    <tr style=\"text-align: right;\">\n",
       "      <th></th>\n",
       "      <th>optimizer</th>\n",
       "      <th>ansatz</th>\n",
       "      <th># of qubits</th>\n",
       "      <th># of parameters</th>\n",
       "      <th>rotation blocks</th>\n",
       "      <th>entanglement_blocks</th>\n",
       "      <th>entanglement</th>\n",
       "      <th>repetitions</th>\n",
       "    </tr>\n",
       "  </thead>\n",
       "  <tbody>\n",
       "    <tr>\n",
       "      <th>0</th>\n",
       "      <td>SLSQP</td>\n",
       "      <td>TwoLocal</td>\n",
       "      <td>2</td>\n",
       "      <td>8</td>\n",
       "      <td>[ry, rz]</td>\n",
       "      <td>cx</td>\n",
       "      <td>linear</td>\n",
       "      <td>1</td>\n",
       "    </tr>\n",
       "  </tbody>\n",
       "</table>\n",
       "</div>"
      ],
      "text/plain": [
       "  optimizer    ansatz  # of qubits  # of parameters rotation blocks  \\\n",
       "0     SLSQP  TwoLocal            2                8        [ry, rz]   \n",
       "\n",
       "  entanglement_blocks entanglement  repetitions  \n",
       "0                  cx       linear            1  "
      ]
     },
     "execution_count": 31,
     "metadata": {},
     "output_type": "execute_result"
    },
    {
     "data": {
      "image/png": "[encoded data removed]",
      "text/plain": [
       "<Figure size 1382.4x777.6 with 1 Axes>"
      ]
     },
     "metadata": {
      "needs_background": "light"
     },
     "output_type": "display_data"
    }
   ],
   "source": [
    "fig, ax = plt.subplots(1, 1, figsize=(19.20, 10.80))\n",
    "\n",
    "plt.title(r\"$H2$: Ground State Energy vs. Interatomic Distance\")\n",
    "\n",
    "ax.set_xlabel('Inter-Atomic Distances (Angstrom)')\n",
    "ax.set_ylabel('Energy (Eh)')\n",
    "ax.grid()\n",
    "\n",
    "plt.plot(inter_atomic_dists, numpy_eigensolver_total_ground_state_energies, label=\"Exact Ground state energy\")\n",
    "plt.plot(inter_atomic_dists, ryrz_total_ground_state_energies, label=\"RYRZ Ground state energy\")\n",
    "\n",
    "plt.legend()\n",
    "\n",
    "# fig_title = f\"{result_dict['optimizer']}-{result_dict['mapping']}-{result_dict['ansatz']}.png\"\n",
    "# fig.savefig(fig_title, dpi=300)\n",
    "\n",
    "\n",
    "# Displaying and saving the data\n",
    "\n",
    "import pandas as pd\n",
    "\n",
    "result_df = pd.DataFrame.from_dict([result_dict])\n",
    "result_df[['optimizer','ansatz', '# of qubits', '# of parameters','rotation blocks', 'entanglement_blocks', 'entanglement', 'repetitions']]\n",
    "\n",
    "# plt.show()"
   ]
  },
  {
   "cell_type": "code",
   "execution_count": null,
   "id": "24b3c310-8c51-4e70-b570-6ce5bb73191e",
   "metadata": {},
   "outputs": [],
   "source": []
  },
  {
   "cell_type": "code",
   "execution_count": null,
   "id": "508ddb88-9725-46e2-9c9d-8cbd6e42d244",
   "metadata": {},
   "outputs": [],
   "source": []
  },
  {
   "cell_type": "code",
   "execution_count": null,
   "id": "e3ef1001-65de-424b-91eb-ce100540416f",
   "metadata": {},
   "outputs": [],
   "source": [
    "qubit_op, num_particles, num_spin_orbitals, qubit_converter, es_problem = initial_state_preparation(\"pa\")"
   ]
  },
  {
   "cell_type": "code",
   "execution_count": null,
   "id": "93885849-1753-4ff0-b724-a6aaf7970a66",
   "metadata": {},
   "outputs": [],
   "source": [
    "init_state = HartreeFock(num_spin_orbitals, num_particles, qubit_converter)\n",
    "\n",
    "init_state.draw(\"mpl\", initial_state=True)"
   ]
  },
  {
   "cell_type": "code",
   "execution_count": null,
   "id": "5931d9f5-7423-4a7a-9456-cd7db62e129f",
   "metadata": {},
   "outputs": [],
   "source": [
    "# Setting up TwoLocal for our ansatz\n",
    "ansatz_type = \"RYRZ\"\n",
    "\n",
    "# Single qubit rotations that are placed on all qubits with independent parameters\n",
    "rotation_blocks = [\"ry\", \"rz\"]\n",
    "# Entangling gates\n",
    "entanglement_blocks = \"cx\"\n",
    "# How the qubits are entangled?\n",
    "entanglement = 'linear'\n",
    "# Repetitions of rotation_blocks + entanglement_blocks with independent parameters\n",
    "repetitions = 1\n",
    "# Skipoing the final rotation_blocks layer\n",
    "skip_final_rotation_layer = False\n",
    "\n",
    "ansatz = TwoLocal(\n",
    "    qubit_op.num_qubits,\n",
    "    rotation_blocks,\n",
    "    entanglement_blocks,\n",
    "    reps=repetitions,\n",
    "    entanglement=entanglement,\n",
    "    skip_final_rotation_layer=skip_final_rotation_layer,\n",
    "    insert_barriers=True)\n",
    "\n",
    "# Add the initial state\n",
    "ansatz.compose(init_state, front=True, inplace=True)"
   ]
  },
  {
   "cell_type": "code",
   "execution_count": null,
   "id": "2ebb5f33-b7a1-41e8-b2cc-1120f255e837",
   "metadata": {},
   "outputs": [],
   "source": [
    "ansatz.draw(output=\"mpl\", initial_state=True)"
   ]
  },
  {
   "cell_type": "code",
   "execution_count": null,
   "id": "2ae5e6d0-7090-4bf4-8507-cd5293bf0d4f",
   "metadata": {},
   "outputs": [],
   "source": [
    "ansatz.decompose().draw(output=\"mpl\", initial_state=True)"
   ]
  },
  {
   "cell_type": "code",
   "execution_count": null,
   "id": "59406373-5d41-4d91-bc35-252cb2558f3d",
   "metadata": {},
   "outputs": [],
   "source": [
    "optimizer = COBYLA(maxiter=10000)"
   ]
  },
  {
   "cell_type": "markdown",
   "id": "a4c28d01-b572-4cef-996b-a247faaa9068",
   "metadata": {},
   "source": [
    "### Solver\n",
    "\n",
    "Exact Eigensolver using NumPyMinimumEigensolver\n"
   ]
  },
  {
   "cell_type": "code",
   "execution_count": null,
   "id": "57e26b88-853c-4ecb-ba70-8fa64dca4b92",
   "metadata": {},
   "outputs": [],
   "source": [
    "result_exact = exact_diagonalizer(es_problem, qubit_converter)\n",
    "exact_energy = np.real(result_exact.eigenenergies[0])\n",
    "\n",
    "print(\"Exact Electronic Energy: {:.4f} Eh\\n\\n\".format(exact_energy))\n",
    "\n",
    "print(\"Results:\\n\\n\", result_exact)"
   ]
  },
  {
   "cell_type": "markdown",
   "id": "6ac31a4d-c3b4-4540-9203-a9f199dc393d",
   "metadata": {},
   "source": [
    "VQE Solver"
   ]
  },
  {
   "cell_type": "code",
   "execution_count": null,
   "id": "dcaba72b-33bf-445d-92ff-caad437af508",
   "metadata": {},
   "outputs": [],
   "source": [
    "from IPython.display import display, clear_output\n",
    "\n",
    "def callback(eval_count, parameters, mean, std):\n",
    "    # overwrites same line when printing\n",
    "    display(\"Evaluation: {},\\tEnergy: {},\\tStd: {}\".format(eval_count, mean, std))\n",
    "    clear_output(wait=True)\n",
    "    counts.append(eval_count)\n",
    "    values.append(mean)\n",
    "    params.append(parameters)\n",
    "    deviation.append(std)\n",
    "    \n",
    "counts = []\n",
    "values = []\n",
    "params = []\n",
    "deviation = []\n",
    "\n",
    "# Set initial parameters of the ansatz\n",
    "# we choose a fixed small displacement\n",
    "\n",
    "try:\n",
    "    initial_point = [0.01] * len(ansatz.ordered_parameters)\n",
    "except:\n",
    "    initial_point = [0.01] * ansatz.num_parameters\n",
    "    \n",
    "algorithm = VQE(\n",
    "    ansatz,\n",
    "    optimizer=optimizer,\n",
    "    quantum_instance=state_sim,\n",
    "    callback=callback,\n",
    "    initial_point=initial_point\n",
    ")\n",
    "\n",
    "result = algorithm.compute_minimum_eigenvalue(qubit_op)\n",
    "\n",
    "print(result)"
   ]
  },
  {
   "cell_type": "code",
   "execution_count": null,
   "id": "e24f72d1-a043-4f68-b662-4f2feb82b014",
   "metadata": {},
   "outputs": [],
   "source": [
    "# Storing results in a dictionary\n",
    "from qiskit.transpiler import PassManager\n",
    "from qiskit.transpiler.passes import Unroller\n",
    "# Unroller transpile our circuit into CNOTs and U gates\n",
    "pass_ = Unroller(['u', 'cx'])\n",
    "pm = PassManager(pass_)\n",
    "ansatz_tp = pm.run(ansatz)\n",
    "cnots = ansatz_tp.count_ops()['cx']\n",
    "score = cnots\n",
    "accuracy_threshold = 4.0 # in mHa\n",
    "energy = result.optimal_value\n",
    "\n",
    "# if ansatz_type == \"TwoLocal\":\n",
    "result_dict = {\n",
    "    'optimizer': optimizer.__class__.__name__,\n",
    "    'mapping': qubit_converter.mapper.__class__.__name__,\n",
    "    'ansatz': ansatz.__class__.__name__,\n",
    "    'rotation blocks': rotation_blocks,\n",
    "    'entanglement_blocks': entanglement_blocks,\n",
    "    'entanglement': entanglement,\n",
    "    'repetitions': repetitions,\n",
    "    'skip_final_rotation_layer': skip_final_rotation_layer,\n",
    "    'energy (Ha)': energy,\n",
    "    'error (mHa)': (energy-exact_energy)*1000,\n",
    "    'pass': (energy-exact_energy)*1000 <= accuracy_threshold,\n",
    "    '# of parameters': len(result.optimal_point),\n",
    "    'final parameters': result.optimal_point,\n",
    "    '# of evaluations': result.optimizer_evals,\n",
    "    'optimizer time': result.optimizer_time,\n",
    "    '# of qubits': int(qubit_op.num_qubits),\n",
    "    '# of CNOTs': cnots,\n",
    "    'score': score}"
   ]
  },
  {
   "cell_type": "code",
   "execution_count": null,
   "id": "f44ddb8f-9058-4e56-ad16-09bb4a71fefe",
   "metadata": {},
   "outputs": [],
   "source": [
    "# Plotting the results\n",
    "\n",
    "import matplotlib.pyplot as plt\n",
    "\n",
    "fig, ax = plt.subplots(1, 1, figsize=(19.20, 10.80))\n",
    "\n",
    "# ax.set_facecolor(\"#293952\")\n",
    "ax.set_xlabel('Iterations')\n",
    "ax.set_ylabel('Energy (Eh)')\n",
    "ax.grid()\n",
    "\n",
    "fig.text(0.7, 0.75, f'VQE Energy: {result.optimal_value:.4f} Eh\\nExact Energy: {exact_energy:.4f} Eh\\nScore: {score:.0f}')\n",
    "\n",
    "plt.title(f\"Ground State Energy of H2 using RYRZ VQE Ansatz\\nOptimizer: {result_dict['optimizer']} \\n Mapper: {result_dict['mapping']}\\nVariational Form: {result_dict['ansatz']} - RYRZ\")\n",
    "\n",
    "ax.plot(counts, values)\n",
    "ax.axhline(exact_energy, linestyle='--')\n",
    "\n",
    "fig_title = f\"\\\n",
    "{result_dict['optimizer']}-\\\n",
    "{result_dict['mapping']}-\\\n",
    "{result_dict['ansatz']}-\\\n",
    "Energy({result_dict['energy (Ha)']:.3f})-\\\n",
    "Score({result_dict['score']:.0f})\\\n",
    ".png\"\n",
    "# fig.savefig(fig_title, dpi=300)\n",
    "\n",
    "\n",
    "# Displaying and saving the data\n",
    "\n",
    "import pandas as pd\n",
    "\n",
    "result_df = pd.DataFrame.from_dict([result_dict])\n",
    "result_df[['optimizer','ansatz', '# of qubits', 'error (mHa)', 'pass', 'score','# of parameters','rotation blocks', 'entanglement_blocks',\n",
    "\n",
    "    'entanglement', 'repetitions']]\n"
   ]
  },
  {
   "cell_type": "code",
   "execution_count": null,
   "id": "56400aa5-8628-44d5-b1a6-90df225616a1",
   "metadata": {},
   "outputs": [],
   "source": []
  }
 ],
 "metadata": {
  "kernelspec": {
   "display_name": "Qiskit v0.35.0 (ipykernel)",
   "language": "python",
   "name": "python3"
  },
  "language_info": {
   "codemirror_mode": {
    "name": "ipython",
    "version": 3
   },
   "file_extension": ".py",
   "mimetype": "text/x-python",
   "name": "python",
   "nbconvert_exporter": "python",
   "pygments_lexer": "ipython3",
   "version": "3.8.13"
  },
  "widgets": {
   "application/vnd.jupyter.widget-state+json": {
    "state": {
     "0317598b4bcf42d6b11d98817a180ac4": {
      "model_module": "@jupyter-widgets/base",
      "model_module_version": "1.2.0",
      "model_name": "LayoutModel",
      "state": {
       "width": "190px"
      }
     },
     "08ff51238049493ba6fca9b297d8edb9": {
      "model_module": "@jupyter-widgets/base",
      "model_module_version": "1.2.0",
      "model_name": "LayoutModel",
      "state": {
       "width": "95px"
      }
     },
     "0aec6e482230424ba7d5620414945d57": {
      "model_module": "@jupyter-widgets/controls",
      "model_module_version": "1.5.0",
      "model_name": "DescriptionStyleModel",
      "state": {
       "description_width": ""
      }
     },
     "121fa98db0834570b1ea4b26b9183ccb": {
      "model_module": "@jupyter-widgets/base",
      "model_module_version": "1.2.0",
      "model_name": "LayoutModel",
      "state": {
       "grid_template_areas": "\n                                       \". . . . right \"\n                                        ",
       "grid_template_columns": "20% 20% 20% 20% 20%",
       "width": "100%"
      }
     },
     "13b04c2a134f4280a3a54bf6bafe07a5": {
      "model_module": "@jupyter-widgets/controls",
      "model_module_version": "1.5.0",
      "model_name": "DescriptionStyleModel",
      "state": {
       "description_width": ""
      }
     },
     "24b684aefa1d4cea95e3a26be2c0e44f": {
      "model_module": "@jupyter-widgets/base",
      "model_module_version": "1.2.0",
      "model_name": "LayoutModel",
      "state": {
       "width": "70px"
      }
     },
     "24f0471457214994a294798909a83778": {
      "model_module": "@jupyter-widgets/controls",
      "model_module_version": "1.5.0",
      "model_name": "ButtonStyleModel",
      "state": {}
     },
     "250572dfab5e4a1691b637676415851d": {
      "model_module": "@jupyter-widgets/controls",
      "model_module_version": "1.5.0",
      "model_name": "HTMLModel",
      "state": {
       "layout": "IPY_MODEL_832528f0053646d2aca650951a6844ff",
       "style": "IPY_MODEL_826169aed2234f5880966368633caa33",
       "value": "<p style='font-family: IBM Plex Sans, Arial, Helvetica, sans-serif; font-size: 20px; font-weight: medium;'>Circuit Properties</p>"
      }
     },
     "45a119a6821f47dda8b35857d71ea33b": {
      "model_module": "@jupyter-widgets/controls",
      "model_module_version": "1.5.0",
      "model_name": "DescriptionStyleModel",
      "state": {
       "description_width": ""
      }
     },
     "5ce276e618aa48eba9d5881670ae8abc": {
      "model_module": "@jupyter-widgets/controls",
      "model_module_version": "1.5.0",
      "model_name": "HTMLModel",
      "state": {
       "layout": "IPY_MODEL_24b684aefa1d4cea95e3a26be2c0e44f",
       "style": "IPY_MODEL_13b04c2a134f4280a3a54bf6bafe07a5",
       "value": "<h5>Queue</h5>"
      }
     },
     "689485425a3744c4b12aaa86038afc41": {
      "model_module": "@jupyter-widgets/base",
      "model_module_version": "1.2.0",
      "model_name": "LayoutModel",
      "state": {
       "grid_area": "right",
       "padding": "0px 0px 0px 0px",
       "width": "70px"
      }
     },
     "6b94d3a4aae0481c85f182f5b0dd3a2a": {
      "model_module": "@jupyter-widgets/controls",
      "model_module_version": "1.5.0",
      "model_name": "ButtonModel",
      "state": {
       "button_style": "primary",
       "description": "Clear",
       "layout": "IPY_MODEL_689485425a3744c4b12aaa86038afc41",
       "style": "IPY_MODEL_24f0471457214994a294798909a83778"
      }
     },
     "6edd5c3656bc4b03ad695a2ac97244a0": {
      "model_module": "@jupyter-widgets/controls",
      "model_module_version": "1.5.0",
      "model_name": "HTMLModel",
      "state": {
       "layout": "IPY_MODEL_853c792ec39644ce997efb11ad6bdd4b",
       "style": "IPY_MODEL_f4ccf2f9acda44b7a449034742bc29ed",
       "value": "<h5>Backend</h5>"
      }
     },
     "7581dbeb39594a629ef3487af654bc23": {
      "model_module": "@jupyter-widgets/controls",
      "model_module_version": "1.5.0",
      "model_name": "HTMLModel",
      "state": {
       "layout": "IPY_MODEL_92597cf4b00e4da0b497a411fdaa9b88",
       "style": "IPY_MODEL_0aec6e482230424ba7d5620414945d57",
       "value": "<h5>Message</h5>"
      }
     },
     "826169aed2234f5880966368633caa33": {
      "model_module": "@jupyter-widgets/controls",
      "model_module_version": "1.5.0",
      "model_name": "DescriptionStyleModel",
      "state": {
       "description_width": ""
      }
     },
     "832528f0053646d2aca650951a6844ff": {
      "model_module": "@jupyter-widgets/base",
      "model_module_version": "1.2.0",
      "model_name": "LayoutModel",
      "state": {
       "margin": "0px 0px 10px 0px"
      }
     },
     "853c792ec39644ce997efb11ad6bdd4b": {
      "model_module": "@jupyter-widgets/base",
      "model_module_version": "1.2.0",
      "model_name": "LayoutModel",
      "state": {
       "width": "145px"
      }
     },
     "92597cf4b00e4da0b497a411fdaa9b88": {
      "model_module": "@jupyter-widgets/base",
      "model_module_version": "1.2.0",
      "model_name": "LayoutModel",
      "state": {}
     },
     "9c0e9a434d9a43749dfd14a13e8d6324": {
      "model_module": "@jupyter-widgets/controls",
      "model_module_version": "1.5.0",
      "model_name": "HBoxModel",
      "state": {
       "children": [
        "IPY_MODEL_e035ec1712544b63843cf56ea0b43f02",
        "IPY_MODEL_6edd5c3656bc4b03ad695a2ac97244a0",
        "IPY_MODEL_dfc99736e717497fb348147269f54d85",
        "IPY_MODEL_5ce276e618aa48eba9d5881670ae8abc",
        "IPY_MODEL_7581dbeb39594a629ef3487af654bc23"
       ],
       "layout": "IPY_MODEL_fdd3f82b30754d978acdffc9458b5c25"
      }
     },
     "ce6663d7d5724e12b85bf88028d94bc3": {
      "model_module": "@jupyter-widgets/controls",
      "model_module_version": "1.5.0",
      "model_name": "GridBoxModel",
      "state": {
       "children": [
        "IPY_MODEL_6b94d3a4aae0481c85f182f5b0dd3a2a"
       ],
       "layout": "IPY_MODEL_121fa98db0834570b1ea4b26b9183ccb"
      }
     },
     "dfc99736e717497fb348147269f54d85": {
      "model_module": "@jupyter-widgets/controls",
      "model_module_version": "1.5.0",
      "model_name": "HTMLModel",
      "state": {
       "layout": "IPY_MODEL_08ff51238049493ba6fca9b297d8edb9",
       "style": "IPY_MODEL_dfca112957cb4bcc9d76cdb0face77ee",
       "value": "<h5>Status</h5>"
      }
     },
     "dfca112957cb4bcc9d76cdb0face77ee": {
      "model_module": "@jupyter-widgets/controls",
      "model_module_version": "1.5.0",
      "model_name": "DescriptionStyleModel",
      "state": {
       "description_width": ""
      }
     },
     "e035ec1712544b63843cf56ea0b43f02": {
      "model_module": "@jupyter-widgets/controls",
      "model_module_version": "1.5.0",
      "model_name": "HTMLModel",
      "state": {
       "layout": "IPY_MODEL_0317598b4bcf42d6b11d98817a180ac4",
       "style": "IPY_MODEL_45a119a6821f47dda8b35857d71ea33b",
       "value": "<h5>Job ID</h5>"
      }
     },
     "f4ccf2f9acda44b7a449034742bc29ed": {
      "model_module": "@jupyter-widgets/controls",
      "model_module_version": "1.5.0",
      "model_name": "DescriptionStyleModel",
      "state": {
       "description_width": ""
      }
     },
     "fdd3f82b30754d978acdffc9458b5c25": {
      "model_module": "@jupyter-widgets/base",
      "model_module_version": "1.2.0",
      "model_name": "LayoutModel",
      "state": {
       "margin": "0px 0px 0px 37px",
       "width": "600px"
      }
     }
    },
    "version_major": 2,
    "version_minor": 0
   }
  }
 },
 "nbformat": 4,
 "nbformat_minor": 5
}
