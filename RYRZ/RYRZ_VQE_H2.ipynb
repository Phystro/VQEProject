{
 "cells": [
  {
   "cell_type": "markdown",
   "id": "b4f1dac1-648e-4c32-91cc-d454eee849ed",
   "metadata": {},
   "source": [
    "# Variational Quantum Eigensolver - Ground State Energy for $H2$ Molecule using the RYRZ ansatz¶"
   ]
  },
  {
   "cell_type": "code",
   "execution_count": 19,
   "id": "0f90f032-cfe8-44fb-b128-7b2e831ab418",
   "metadata": {},
   "outputs": [
    {
     "name": "stderr",
     "output_type": "stream",
     "text": [
      "ibmqfactory.load_account:WARNING:2022-04-18 21:22:46,790: Credentials are already in use. The existing account in the session will be replaced.\n"
     ]
    }
   ],
   "source": [
    "import numpy as np\n",
    "import matplotlib.pyplot as plt\n",
    "\n",
    "# Importing standard Qiskit libraries\n",
    "from qiskit import QuantumCircuit, transpile, IBMQ\n",
    "\n",
    "from qiskit.tools.jupyter import *\n",
    "\n",
    "from qiskit.visualization import *\n",
    "\n",
    "from ibm_quantum_widgets import *\n",
    "\n",
    "from qiskit.providers.aer import QasmSimulator, StatevectorSimulator\n",
    "\n",
    "from qiskit.utils import QuantumInstance\n",
    "\n",
    "# Loading your IBM Quantum account(s)\n",
    "provider = IBMQ.load_account()"
   ]
  },
  {
   "cell_type": "code",
   "execution_count": 20,
   "id": "610d8cac-f84c-454f-819c-09a9f0c7faa8",
   "metadata": {},
   "outputs": [],
   "source": [
    "# Chemistry Drivers\n",
    "from qiskit_nature.drivers.second_quantization.pyscfd import PySCFDriver\n",
    "\n",
    "from qiskit_nature.transformers.second_quantization.electronic import FreezeCoreTransformer\n",
    "\n",
    "from qiskit.opflow.primitive_ops import Z2Symmetries\n",
    "\n",
    "# Electroinic structure problem\n",
    "from qiskit_nature.problems.second_quantization.electronic import ElectronicStructureProblem\n",
    "\n",
    "# Qubit converter\n",
    "from qiskit_nature.converters.second_quantization.qubit_converter import QubitConverter\n",
    "\n",
    "# Mappers\n",
    "from qiskit_nature.mappers.second_quantization import ParityMapper, BravyiKitaevMapper, JordanWignerMapper\n",
    "\n",
    "# Initial state\n",
    "from qiskit_nature.circuit.library import HartreeFock\n",
    "\n",
    "# Variational form - circuit\n",
    "from qiskit.circuit.library import TwoLocal\n",
    "\n",
    "# Optimizer\n",
    "from qiskit.algorithms.optimizers import COBYLA, SLSQP, SPSA\n",
    "\n",
    "# Algorithms and Factories\n",
    "from qiskit_nature.algorithms import ExcitedStatesEigensolver, NumPyEigensolverFactory\n",
    "\n",
    "# Eigen Solvers\n",
    "# NumPy Minimum Eigen Solver\n",
    "from qiskit_nature.algorithms.ground_state_solvers.minimum_eigensolver_factories import NumPyMinimumEigensolverFactory\n",
    "# ground state\n",
    "from qiskit_nature.algorithms.ground_state_solvers import GroundStateEigensolver\n",
    "# VQE Solver\n",
    "from qiskit.algorithms import VQE"
   ]
  },
  {
   "cell_type": "markdown",
   "id": "e3015f61-ad68-41ce-a815-75c2743b032f",
   "metadata": {},
   "source": [
    "Backend"
   ]
  },
  {
   "cell_type": "code",
   "execution_count": 21,
   "id": "bd91343e-4c4d-4979-b2b7-7b5d773fffc6",
   "metadata": {},
   "outputs": [],
   "source": [
    "qasm_sim = QasmSimulator()\n",
    "state_sim = StatevectorSimulator()"
   ]
  },
  {
   "cell_type": "markdown",
   "id": "2e1c9316-dd70-447f-996d-ce32eebf19ae",
   "metadata": {},
   "source": [
    "Drivers\n",
    "\n",
    "Below we set up a PySCF driver for $H2$ molecule at equilibrium bond length 0.735 Angstrom"
   ]
  },
  {
   "cell_type": "code",
   "execution_count": 22,
   "id": "7490b568-d9a7-4e9e-baa4-7ef9b4059b23",
   "metadata": {},
   "outputs": [],
   "source": [
    "def exact_diagonalizer(es_problem, qubit_converter):\n",
    "    solver = NumPyMinimumEigensolverFactory()\n",
    "    calc = GroundStateEigensolver(qubit_converter, solver)\n",
    "    result = calc.solve(es_problem)\n",
    "    return result"
   ]
  },
  {
   "cell_type": "code",
   "execution_count": 23,
   "id": "003c68eb-7089-4317-a5f1-8e7fe8a41bc6",
   "metadata": {},
   "outputs": [],
   "source": [
    "def get_mapper(mapper_str: str):\n",
    "    if mapper_str == \"jw\":\n",
    "        mapper = JordanWignerMapper()\n",
    "    elif mapper_str == \"pa\":\n",
    "        mapper = ParityMapper()\n",
    "    elif mapper_str == \"bk\":\n",
    "        mapper = BravyiKitaevMapper()\n",
    "        \n",
    "    return mapper"
   ]
  },
  {
   "cell_type": "code",
   "execution_count": 24,
   "id": "b304b409-9d9e-4661-aa6b-8fdecf1d989e",
   "metadata": {},
   "outputs": [],
   "source": [
    "def initial_state_preparation(mapper_str: str = \"jw\"):\n",
    "    \n",
    "    molecule = \"H 0.0 0.0 0.0; H 0.0 0.0 0.735\"\n",
    "    driver = PySCFDriver(atom=molecule)\n",
    "    qmolecule = driver.run()\n",
    "    \n",
    "    transformer = FreezeCoreTransformer()\n",
    "    qmolecule = transformer.transform(qmolecule)\n",
    "    es_problem = ElectronicStructureProblem(driver)\n",
    "    \n",
    "    # generating second_quzntized operators\n",
    "    second_q_ops = es_problem.second_q_ops()\n",
    "    \n",
    "    # Hamiltonian\n",
    "    main_op = second_q_ops[0]\n",
    "    \n",
    "    # return tuple of number of particles if available\n",
    "    num_particles = es_problem.num_particles\n",
    "    # return the number of spin orbitals\n",
    "    num_spin_orbitals = es_problem.num_spin_orbitals\n",
    "    \n",
    "    mapper = get_mapper(mapper_str)\n",
    "    \n",
    "    qubit_converter = QubitConverter(mapper=mapper, two_qubit_reduction=True)#, z2symmetry_reduction=[1, 1])\n",
    "    \n",
    "    # Qubit Hamiltonian\n",
    "    qubit_op = qubit_converter.convert(main_op, num_particles=num_particles)\n",
    "    \n",
    "    return (qubit_op, num_particles, num_spin_orbitals, qubit_converter, es_problem)"
   ]
  },
  {
   "cell_type": "code",
   "execution_count": 25,
   "id": "e3ef1001-65de-424b-91eb-ce100540416f",
   "metadata": {},
   "outputs": [],
   "source": [
    "qubit_op, num_particles, num_spin_orbitals, qubit_converter, es_problem = initial_state_preparation(\"pa\")"
   ]
  },
  {
   "cell_type": "code",
   "execution_count": 26,
   "id": "93885849-1753-4ff0-b724-a6aaf7970a66",
   "metadata": {},
   "outputs": [
    {
     "data": {
      "image/png": "[encoded data removed]",
      "text/plain": [
       "<Figure size 190.495x144.48 with 1 Axes>"
      ]
     },
     "execution_count": 26,
     "metadata": {},
     "output_type": "execute_result"
    }
   ],
   "source": [
    "init_state = HartreeFock(num_spin_orbitals, num_particles, qubit_converter)\n",
    "\n",
    "init_state.draw(\"mpl\", initial_state=True)"
   ]
  },
  {
   "cell_type": "code",
   "execution_count": 27,
   "id": "5931d9f5-7423-4a7a-9456-cd7db62e129f",
   "metadata": {},
   "outputs": [],
   "source": [
    "# Setting up TwoLocal for our ansatz\n",
    "ansatz_type = \"RY\"\n",
    "\n",
    "# Single qubit rotations that are placed on all qubits with independent parameters\n",
    "rotation_blocks = [\"ry\", \"rz\"]\n",
    "# Entangling gates\n",
    "entanglement_blocks = \"cx\"\n",
    "# How the qubits are entangled?\n",
    "entanglement = 'linear'\n",
    "# Repetitions of rotation_blocks + entanglement_blocks with independent parameters\n",
    "repetitions = 1\n",
    "# Skipoing the final rotation_blocks layer\n",
    "skip_final_rotation_layer = False\n",
    "\n",
    "ansatz = TwoLocal(\n",
    "    qubit_op.num_qubits,\n",
    "    rotation_blocks,\n",
    "    entanglement_blocks,\n",
    "    reps=repetitions,\n",
    "    entanglement=entanglement,\n",
    "    skip_final_rotation_layer=skip_final_rotation_layer,\n",
    "    insert_barriers=True)\n",
    "\n",
    "# Add the initial state\n",
    "ansatz.compose(init_state, front=True, inplace=True)"
   ]
  },
  {
   "cell_type": "code",
   "execution_count": 28,
   "id": "2ebb5f33-b7a1-41e8-b2cc-1120f255e837",
   "metadata": {},
   "outputs": [
    {
     "data": {
      "image/png": "[encoded data removed]",
      "text/plain": [
       "<Figure size 431.295x144.48 with 1 Axes>"
      ]
     },
     "execution_count": 28,
     "metadata": {},
     "output_type": "execute_result"
    }
   ],
   "source": [
    "ansatz.draw(output=\"mpl\", initial_state=True)"
   ]
  },
  {
   "cell_type": "code",
   "execution_count": 29,
   "id": "2ae5e6d0-7090-4bf4-8507-cd5293bf0d4f",
   "metadata": {},
   "outputs": [
    {
     "data": {
      "image/png": "[encoded data removed]",
      "text/plain": [
       "<Figure size 611.895x144.48 with 1 Axes>"
      ]
     },
     "execution_count": 29,
     "metadata": {},
     "output_type": "execute_result"
    }
   ],
   "source": [
    "ansatz.decompose().draw(output=\"mpl\", initial_state=True)"
   ]
  },
  {
   "cell_type": "code",
   "execution_count": 30,
   "id": "59406373-5d41-4d91-bc35-252cb2558f3d",
   "metadata": {},
   "outputs": [],
   "source": [
    "optimizer = COBYLA(maxiter=10000)"
   ]
  },
  {
   "cell_type": "markdown",
   "id": "a4c28d01-b572-4cef-996b-a247faaa9068",
   "metadata": {},
   "source": [
    "### Solver\n",
    "\n",
    "Exact Eigensolver using NumPyMinimumEigensolver\n"
   ]
  },
  {
   "cell_type": "code",
   "execution_count": 31,
   "id": "57e26b88-853c-4ecb-ba70-8fa64dca4b92",
   "metadata": {},
   "outputs": [
    {
     "name": "stdout",
     "output_type": "stream",
     "text": [
      "Exact Electronic Energy: -1.8573 Eh\n",
      "\n",
      "\n",
      "Results:\n",
      "\n",
      " === GROUND STATE ENERGY ===\n",
      " \n",
      "* Electronic ground state energy (Hartree): -1.857275030202\n",
      "  - computed part:      -1.857275030202\n",
      "~ Nuclear repulsion energy (Hartree): 0.719968994449\n",
      "> Total ground state energy (Hartree): -1.137306035753\n",
      " \n",
      "=== MEASURED OBSERVABLES ===\n",
      " \n",
      "  0:  # Particles: 2.000 S: 0.000 S^2: 0.000 M: 0.000\n",
      " \n",
      "=== DIPOLE MOMENTS ===\n",
      " \n",
      "~ Nuclear dipole moment (a.u.): [0.0  0.0  1.3889487]\n",
      " \n",
      "  0: \n",
      "  * Electronic dipole moment (a.u.): [0.0  0.0  1.3889487]\n",
      "    - computed part:      [0.0  0.0  1.3889487]\n",
      "  > Dipole moment (a.u.): [0.0  0.0  0.0]  Total: 0.0\n",
      "                 (debye): [0.0  0.0  0.0]  Total: 0.0\n",
      " \n"
     ]
    }
   ],
   "source": [
    "result_exact = exact_diagonalizer(es_problem, qubit_converter)\n",
    "exact_energy = np.real(result_exact.eigenenergies[0])\n",
    "\n",
    "print(\"Exact Electronic Energy: {:.4f} Eh\\n\\n\".format(exact_energy))\n",
    "\n",
    "print(\"Results:\\n\\n\", result_exact)"
   ]
  },
  {
   "cell_type": "markdown",
   "id": "6ac31a4d-c3b4-4540-9203-a9f199dc393d",
   "metadata": {},
   "source": [
    "VQE Solver"
   ]
  },
  {
   "cell_type": "code",
   "execution_count": 32,
   "id": "dcaba72b-33bf-445d-92ff-caad437af508",
   "metadata": {},
   "outputs": [
    {
     "name": "stdout",
     "output_type": "stream",
     "text": [
      "{   'aux_operator_eigenvalues': None,\n",
      "    'cost_function_evals': 138,\n",
      "    'eigenstate': array([-3.54894078e-05+9.57472540e-05j,  9.93120208e-01-3.56798472e-02j,\n",
      "       -1.11457354e-01+3.94405385e-03j,  1.45323273e-04-9.34365854e-04j]),\n",
      "    'eigenvalue': (-1.8572743405661691+0j),\n",
      "    'optimal_parameters': {   ParameterVectorElement(θ[7]): 0.19548477645518392,\n",
      "                              ParameterVectorElement(θ[6]): 0.12547710180528232,\n",
      "                              ParameterVectorElement(θ[5]): -1.5982084072331864,\n",
      "                              ParameterVectorElement(θ[4]): -1.69405818143756,\n",
      "                              ParameterVectorElement(θ[3]): -0.015902897417410373,\n",
      "                              ParameterVectorElement(θ[2]): -3.512733543001112e-05,\n",
      "                              ParameterVectorElement(θ[1]): 1.7954178647092187,\n",
      "                              ParameterVectorElement(θ[0]): 1.6910904884785816},\n",
      "    'optimal_point': array([ 1.69109049e+00,  1.79541786e+00, -3.51273354e-05, -1.59028974e-02,\n",
      "       -1.69405818e+00, -1.59820841e+00,  1.25477102e-01,  1.95484776e-01]),\n",
      "    'optimal_value': -1.8572743405661691,\n",
      "    'optimizer_evals': None,\n",
      "    'optimizer_time': 1.318077564239502}\n"
     ]
    }
   ],
   "source": [
    "from IPython.display import display, clear_output\n",
    "\n",
    "def callback(eval_count, parameters, mean, std):\n",
    "    # overwrites same line when printing\n",
    "    display(\"Evaluation: {},\\tEnergy: {},\\tStd: {}\".format(eval_count, mean, std))\n",
    "    clear_output(wait=True)\n",
    "    counts.append(eval_count)\n",
    "    values.append(mean)\n",
    "    params.append(parameters)\n",
    "    deviation.append(std)\n",
    "    \n",
    "counts = []\n",
    "values = []\n",
    "params = []\n",
    "deviation = []\n",
    "\n",
    "# Set initial parameters of the ansatz\n",
    "# we choose a fixed small displacement\n",
    "\n",
    "try:\n",
    "    initial_point = [0.01] * len(ansatz.ordered_parameters)\n",
    "except:\n",
    "    initial_point = [0.01] * ansatz.num_parameters\n",
    "    \n",
    "algorithm = VQE(\n",
    "    ansatz,\n",
    "    optimizer=optimizer,\n",
    "    quantum_instance=state_sim,\n",
    "    callback=callback,\n",
    "    initial_point=initial_point\n",
    ")\n",
    "\n",
    "result = algorithm.compute_minimum_eigenvalue(qubit_op)\n",
    "\n",
    "print(result)"
   ]
  },
  {
   "cell_type": "code",
   "execution_count": 33,
   "id": "e24f72d1-a043-4f68-b662-4f2feb82b014",
   "metadata": {},
   "outputs": [],
   "source": [
    "# Storing results in a dictionary\n",
    "from qiskit.transpiler import PassManager\n",
    "from qiskit.transpiler.passes import Unroller\n",
    "# Unroller transpile our circuit into CNOTs and U gates\n",
    "pass_ = Unroller(['u', 'cx'])\n",
    "pm = PassManager(pass_)\n",
    "ansatz_tp = pm.run(ansatz)\n",
    "cnots = ansatz_tp.count_ops()['cx']\n",
    "score = cnots\n",
    "accuracy_threshold = 4.0 # in mHa\n",
    "energy = result.optimal_value\n",
    "\n",
    "# if ansatz_type == \"TwoLocal\":\n",
    "result_dict = {\n",
    "    'optimizer': optimizer.__class__.__name__,\n",
    "    'mapping': qubit_converter.mapper.__class__.__name__,\n",
    "    'ansatz': ansatz.__class__.__name__,\n",
    "    'rotation blocks': rotation_blocks,\n",
    "    'entanglement_blocks': entanglement_blocks,\n",
    "    'entanglement': entanglement,\n",
    "    'repetitions': repetitions,\n",
    "    'skip_final_rotation_layer': skip_final_rotation_layer,\n",
    "    'energy (Ha)': energy,\n",
    "    'error (mHa)': (energy-exact_energy)*1000,\n",
    "    'pass': (energy-exact_energy)*1000 <= accuracy_threshold,\n",
    "    '# of parameters': len(result.optimal_point),\n",
    "    'final parameters': result.optimal_point,\n",
    "    '# of evaluations': result.optimizer_evals,\n",
    "    'optimizer time': result.optimizer_time,\n",
    "    '# of qubits': int(qubit_op.num_qubits),\n",
    "    '# of CNOTs': cnots,\n",
    "    'score': score}"
   ]
  },
  {
   "cell_type": "code",
   "execution_count": 34,
   "id": "f44ddb8f-9058-4e56-ad16-09bb4a71fefe",
   "metadata": {},
   "outputs": [
    {
     "data": {
      "text/html": [
       "<div>\n",
       "<style scoped>\n",
       "    .dataframe tbody tr th:only-of-type {\n",
       "        vertical-align: middle;\n",
       "    }\n",
       "\n",
       "    .dataframe tbody tr th {\n",
       "        vertical-align: top;\n",
       "    }\n",
       "\n",
       "    .dataframe thead th {\n",
       "        text-align: right;\n",
       "    }\n",
       "</style>\n",
       "<table border=\"1\" class=\"dataframe\">\n",
       "  <thead>\n",
       "    <tr style=\"text-align: right;\">\n",
       "      <th></th>\n",
       "      <th>optimizer</th>\n",
       "      <th>ansatz</th>\n",
       "      <th># of qubits</th>\n",
       "      <th>error (mHa)</th>\n",
       "      <th>pass</th>\n",
       "      <th>score</th>\n",
       "      <th># of parameters</th>\n",
       "      <th>rotation blocks</th>\n",
       "      <th>entanglement_blocks</th>\n",
       "      <th>entanglement</th>\n",
       "      <th>repetitions</th>\n",
       "    </tr>\n",
       "  </thead>\n",
       "  <tbody>\n",
       "    <tr>\n",
       "      <th>0</th>\n",
       "      <td>COBYLA</td>\n",
       "      <td>TwoLocal</td>\n",
       "      <td>2</td>\n",
       "      <td>0.00069</td>\n",
       "      <td>True</td>\n",
       "      <td>1</td>\n",
       "      <td>8</td>\n",
       "      <td>[ry, rz]</td>\n",
       "      <td>cx</td>\n",
       "      <td>linear</td>\n",
       "      <td>1</td>\n",
       "    </tr>\n",
       "  </tbody>\n",
       "</table>\n",
       "</div>"
      ],
      "text/plain": [
       "  optimizer    ansatz  # of qubits  error (mHa)  pass  score  # of parameters  \\\n",
       "0    COBYLA  TwoLocal            2      0.00069  True      1                8   \n",
       "\n",
       "  rotation blocks entanglement_blocks entanglement  repetitions  \n",
       "0        [ry, rz]                  cx       linear            1  "
      ]
     },
     "execution_count": 34,
     "metadata": {},
     "output_type": "execute_result"
    },
    {
     "data": {
      "image/png": "[encoded data removed]",
      "text/plain": [
       "<Figure size 1382.4x777.6 with 1 Axes>"
      ]
     },
     "metadata": {
      "needs_background": "light"
     },
     "output_type": "display_data"
    }
   ],
   "source": [
    "# Plotting the results\n",
    "\n",
    "import matplotlib.pyplot as plt\n",
    "\n",
    "fig, ax = plt.subplots(1, 1, figsize=(19.20, 10.80))\n",
    "\n",
    "# ax.set_facecolor(\"#293952\")\n",
    "ax.set_xlabel('Iterations')\n",
    "ax.set_ylabel('Energy (Eh)')\n",
    "ax.grid()\n",
    "\n",
    "fig.text(0.7, 0.75, f'VQE Energy: {result.optimal_value:.4f} Eh\\nExact Energy: {exact_energy:.4f} Eh\\nScore: {score:.0f}')\n",
    "\n",
    "plt.title(f\"Ground State Energy of H2 using RYRZ VQE Ansatz\\nOptimizer: {result_dict['optimizer']} \\n Mapper: {result_dict['mapping']}\\nVariational Form: {result_dict['ansatz']} - RYRZ\")\n",
    "\n",
    "ax.plot(counts, values)\n",
    "ax.axhline(exact_energy, linestyle='--')\n",
    "\n",
    "fig_title = f\"\\\n",
    "{result_dict['optimizer']}-\\\n",
    "{result_dict['mapping']}-\\\n",
    "{result_dict['ansatz']}-\\\n",
    "Energy({result_dict['energy (Ha)']:.3f})-\\\n",
    "Score({result_dict['score']:.0f})\\\n",
    ".png\"\n",
    "# fig.savefig(fig_title, dpi=300)\n",
    "\n",
    "\n",
    "# Displaying and saving the data\n",
    "\n",
    "import pandas as pd\n",
    "\n",
    "result_df = pd.DataFrame.from_dict([result_dict])\n",
    "result_df[['optimizer','ansatz', '# of qubits', 'error (mHa)', 'pass', 'score','# of parameters','rotation blocks', 'entanglement_blocks',\n",
    "\n",
    "    'entanglement', 'repetitions']]\n"
   ]
  },
  {
   "cell_type": "code",
   "execution_count": null,
   "id": "56400aa5-8628-44d5-b1a6-90df225616a1",
   "metadata": {},
   "outputs": [],
   "source": []
  }
 ],
 "metadata": {
  "kernelspec": {
   "display_name": "Qiskit v0.35.0 (ipykernel)",
   "language": "python",
   "name": "python3"
  },
  "language_info": {
   "codemirror_mode": {
    "name": "ipython",
    "version": 3
   },
   "file_extension": ".py",
   "mimetype": "text/x-python",
   "name": "python",
   "nbconvert_exporter": "python",
   "pygments_lexer": "ipython3",
   "version": "3.8.13"
  },
  "widgets": {
   "application/vnd.jupyter.widget-state+json": {
    "state": {},
    "version_major": 2,
    "version_minor": 0
   }
  }
 },
 "nbformat": 4,
 "nbformat_minor": 5
}
